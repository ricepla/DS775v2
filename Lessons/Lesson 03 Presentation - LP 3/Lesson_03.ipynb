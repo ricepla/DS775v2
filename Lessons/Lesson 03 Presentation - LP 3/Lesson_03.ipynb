{
 "cells": [
  {
   "cell_type": "code",
   "execution_count": 1,
   "metadata": {
    "code_folding": [
     0
    ],
    "collapsed": false,
    "scrolled": true
   },
   "outputs": [
   ],
   "source": [
    "# EXECUTE FIRST\n",
    "\n",
    "# computational imports\n",
    "from pyomo.environ import *\n",
    "import numpy as np\n",
    "import pandas as pd\n",
    "from openpyxl import load_workbook\n",
    "# plotting imports\n",
    "import matplotlib.pyplot as plt\n",
    "import seaborn as sns\n",
    "sns.set_style(\"darkgrid\")\n",
    "# for reading files from urls\n",
    "import urllib.request\n",
    "# display imports\n",
    "from IPython.display import display, IFrame\n",
    "from IPython.core.display import HTML\n",
    "\n",
    "# for playing videos, customize height and width if desired\n",
    "def play_video(vid_name, w = 640, h = 360):\n",
    "    vid_path = \"https://media.uwex.edu/content/ds/ds775_r19/\"\n",
    "    return IFrame( vid_path + vid_name + \"/index.html\", width = w, height = h )\n",
    "\n",
    "# import notebook styling for tables and width etc.\n",
    "response = urllib.request.urlopen('https://raw.githubusercontent.com/DataScienceUWL/DS775v2/master/ds755.css')\n",
    "HTML(response.read().decode(\"utf-8\"));"
   ]
  },
  {
   "cell_type": "markdown",
   "metadata": {
    "collapsed": false
   },
   "source": [
    "<font size=16>Lesson 03: Transportation Problems and More Abstract Formulations</font>"
   ]
  },
  {
   "cell_type": "markdown",
   "metadata": {
    "collapsed": false
   },
   "source": [
    "# Transportation Models"
   ]
  },
  {
   "cell_type": "markdown",
   "metadata": {
    "collapsed": false
   },
   "source": [
    "In Lesson 2 we presented a Supply and Demand problem as a Self-Assessment problem. That problem is actually a \"transportation problem\".  Transportation problems are characterized by having a set of \"suppliers\" and a set of \"demanders\".  The objects that are supplied can be goods or services.  "
   ]
  },
  {
   "cell_type": "markdown",
   "metadata": {
    "collapsed": false
   },
   "source": [
    "## Worker Scheduling as a Transportaton Problem"
   ]
  },
  {
   "cell_type": "markdown",
   "metadata": {
    "collapsed": false
   },
   "source": [
    "For example, in the Worker Scheduling problem (Textbook 3.4-15) the \"suppliers\" are the workers, the \"demanders\" are the days of the week on which workers must be scheduled, and the objects that are supplied are the hours of labor supplied by each worker.\n",
    "\n",
    "Consider the graph shown below.  KC works or \"transports\" 2 hours to Monday and so on.  Recall also that each worker is only available during some of the days.  For instance KC is only available on Monday, Wednesday, and Friday.  In the graph there are no edges connecting KC to Tuesday or Thursday since KC can't work on those days.  In the solution code KC's availability is set to zero on Tuesday and Thursday as part of the constraints.\n",
    "\n",
    "<img src=\"./images/worker_schedule.png\" width = \"400\">\n",
    "\n",
    "You can see how the graph was produced in scripts/graph_two_layer.py if you wish, but it isn't important.  Examples showing how that code is used are included later in this notebook."
   ]
  },
  {
   "cell_type": "markdown",
   "metadata": {
    "collapsed": false
   },
   "source": [
    "### Explanation of Pyomo Solution (video)"
   ]
  },
  {
   "cell_type": "markdown",
   "metadata": {
    "collapsed": false
   },
   "source": [
    "The video below explores the connection between this scheduling problem and a transportation problem.  If you're content to study the code on you own, then you don't need to watch it. "
   ]
  },
  {
   "cell_type": "code",
   "execution_count": 2,
   "metadata": {
    "code_folding": [
     0
    ],
    "collapsed": false
   },
   "outputs": [
    {
     "data": {
      "text/html": [
       "\n",
       "        <iframe\n",
       "            width=\"640\"\n",
       "            height=\"360\"\n",
       "            src=\"https://media.uwex.edu/content/ds/ds775_r19/ds775_lesson3-transportation-problem-walkthrough/index.html\"\n",
       "            frameborder=\"0\"\n",
       "            allowfullscreen\n",
       "        ></iframe>\n",
       "        "
      ],
      "text/plain": [
       "<IPython.lib.display.IFrame at 0x7fc79b55cdd8>"
      ]
     },
     "execution_count": 2,
     "metadata": {
     },
     "output_type": "execute_result"
    }
   ],
   "source": [
    "# execute this cell for video\n",
    "play_video(\"ds775_lesson3-transportation-problem-walkthrough\")"
   ]
  },
  {
   "cell_type": "markdown",
   "metadata": {
    "collapsed": false
   },
   "source": [
    "### Pyomo Solution"
   ]
  },
  {
   "cell_type": "code",
   "execution_count": 3,
   "metadata": {
    "code_folding": [
    ],
    "collapsed": false
   },
   "outputs": [
    {
     "name": "stdout",
     "output_type": "stream",
     "text": [
      "\n",
      "The minimum total weekly cost = $1,755.00\n",
      "The number of hours to schedule for each worker is: \n"
     ]
    },
    {
     "data": {
      "text/html": [
       "<div>\n",
       "<style scoped>\n",
       "    .dataframe tbody tr th:only-of-type {\n",
       "        vertical-align: middle;\n",
       "    }\n",
       "\n",
       "    .dataframe tbody tr th {\n",
       "        vertical-align: top;\n",
       "    }\n",
       "\n",
       "    .dataframe thead th {\n",
       "        text-align: right;\n",
       "    }\n",
       "</style>\n",
       "<table border=\"1\" class=\"dataframe\">\n",
       "  <thead>\n",
       "    <tr style=\"text-align: right;\">\n",
       "      <th></th>\n",
       "      <th>Mon</th>\n",
       "      <th>Tue</th>\n",
       "      <th>Wed</th>\n",
       "      <th>Thu</th>\n",
       "      <th>Fri</th>\n",
       "    </tr>\n",
       "  </thead>\n",
       "  <tbody>\n",
       "    <tr>\n",
       "      <th>KC</th>\n",
       "      <td>2.0</td>\n",
       "      <td>0.0</td>\n",
       "      <td>4.0</td>\n",
       "      <td>0.0</td>\n",
       "      <td>3.0</td>\n",
       "    </tr>\n",
       "    <tr>\n",
       "      <th>DH</th>\n",
       "      <td>0.0</td>\n",
       "      <td>2.0</td>\n",
       "      <td>0.0</td>\n",
       "      <td>6.0</td>\n",
       "      <td>0.0</td>\n",
       "    </tr>\n",
       "    <tr>\n",
       "      <th>HB</th>\n",
       "      <td>4.0</td>\n",
       "      <td>7.0</td>\n",
       "      <td>4.0</td>\n",
       "      <td>0.0</td>\n",
       "      <td>4.0</td>\n",
       "    </tr>\n",
       "    <tr>\n",
       "      <th>SC</th>\n",
       "      <td>5.0</td>\n",
       "      <td>5.0</td>\n",
       "      <td>5.0</td>\n",
       "      <td>0.0</td>\n",
       "      <td>5.0</td>\n",
       "    </tr>\n",
       "    <tr>\n",
       "      <th>KS</th>\n",
       "      <td>3.0</td>\n",
       "      <td>0.0</td>\n",
       "      <td>1.0</td>\n",
       "      <td>3.0</td>\n",
       "      <td>0.0</td>\n",
       "    </tr>\n",
       "    <tr>\n",
       "      <th>NK</th>\n",
       "      <td>0.0</td>\n",
       "      <td>0.0</td>\n",
       "      <td>0.0</td>\n",
       "      <td>5.0</td>\n",
       "      <td>2.0</td>\n",
       "    </tr>\n",
       "  </tbody>\n",
       "</table>\n",
       "</div>"
      ],
      "text/plain": [
       "    Mon  Tue  Wed  Thu  Fri\n",
       "KC  2.0  0.0  4.0  0.0  3.0\n",
       "DH  0.0  2.0  0.0  6.0  0.0\n",
       "HB  4.0  7.0  4.0  0.0  4.0\n",
       "SC  5.0  5.0  5.0  0.0  5.0\n",
       "KS  3.0  0.0  1.0  3.0  0.0\n",
       "NK  0.0  0.0  0.0  5.0  2.0"
      ]
     },
     "execution_count": 3,
     "metadata": {
     },
     "output_type": "execute_result"
    }
   ],
   "source": [
    "# Solve the worker scheduling problem\n",
    "model = ConcreteModel()\n",
    "\n",
    "workers = ['KC', 'DH', 'HB', 'SC', 'KS', 'NK']\n",
    "min_hours = [8, 8, 8, 8, 7, 7]\n",
    "hourly_rate = [25, 26, 24, 23, 28, 30]\n",
    "days = ['Mon', 'Tue', 'Wed', 'Thu', 'Fri']\n",
    "hours_to_staff = [14, 14, 14, 14, 14]\n",
    "\n",
    "min_hours_dict = dict(zip(workers, min_hours)) # zip two lists into dict\n",
    "hourly_rate_dict = dict(zip(workers, hourly_rate))\n",
    "hours_to_staff_dict = dict(zip(days, hours_to_staff))\n",
    "\n",
    "hours_avail = [[6, 0, 6, 0, 6], [0, 6, 0, 6, 0], [4, 8, 4, 0, 4],\n",
    "               [5, 5, 5, 0, 5], [3, 0, 3, 8, 0], [0, 0, 0, 6, 2]]\n",
    "\n",
    "# convert nested list (indexed by integers) \n",
    "# to nested dictionary (indexed by index sets)\n",
    "hours_avail_dict = {\n",
    "    workers[w]: dict( zip( days, hours_avail[w][:]) )\n",
    "    for w in range(len(workers))\n",
    "}\n",
    "\n",
    "# instantiate Concrete Model\n",
    "model = ConcreteModel()\n",
    "\n",
    "# define variables\n",
    "model.hrs = Var(workers, days, domain=NonNegativeReals)\n",
    "\n",
    "# define objective function\n",
    "model.total_cost = Objective(expr=sum(hourly_rate_dict[w] * model.hrs[w, d]\n",
    "                                      for w in workers for d in days),\n",
    "                             sense=minimize)\n",
    "\n",
    "# uncomment to print out objective function\n",
    "# model.total_cost.pprint()\n",
    "\n",
    "# define constraints\n",
    "model.supply_ct = ConstraintList()\n",
    "for w in workers:\n",
    "    model.supply_ct.add(sum(model.hrs[w, d] for d in days) >= min_hours_dict[w])\n",
    "\n",
    "model.demand_ct = ConstraintList()\n",
    "for d in days:\n",
    "    model.demand_ct.add(\n",
    "        sum(model.hrs[w, d] for w in workers) == hours_to_staff_dict[d])\n",
    "\n",
    "# uncomment to print out constraints\n",
    "#model.demand_ct.pprint()\n",
    "\n",
    "model.avail_ct = ConstraintList()\n",
    "for w in workers:\n",
    "    for d in days:\n",
    "        model.avail_ct.add(model.hrs[w, d] <= hours_avail_dict[w][d])\n",
    "\n",
    "# solve\n",
    "solver = SolverFactory('glpk')\n",
    "solver.solve(model)\n",
    "\n",
    "# convert model.hrs into a Pandas data frame for nicer display\n",
    "schedule = pd.DataFrame([[model.hrs[w, d].value for d in days]\n",
    "                         for w in workers],\n",
    "                        index=workers,\n",
    "                        columns=days)\n",
    "\n",
    "# display\n",
    "print(f\"\\nThe minimum total weekly cost = ${model.total_cost():,.2f}\")\n",
    "print(\"The number of hours to schedule for each worker is: \")\n",
    "schedule"
   ]
  },
  {
   "cell_type": "markdown",
   "metadata": {
    "collapsed": false
   },
   "source": [
    "### Visualization"
   ]
  },
  {
   "cell_type": "markdown",
   "metadata": {
    "collapsed": false
   },
   "source": [
    "We use a graph to visualize the solution below.  You don't really have to do this in the homework, but we include it in case it's helpful to improve your understanding.   "
   ]
  },
  {
   "cell_type": "code",
   "execution_count": 4,
   "metadata": {
    "code_folding": [
     0
    ],
    "collapsed": false
   },
   "outputs": [
    {
     "data": {
      "image/png": "[encoded data removed]",
      "text/plain": [
       "<Figure size 864x504 with 1 Axes>"
      ]
     },
     "execution_count": 4,
     "metadata": {
      "image/png": {
       "height": 394,
       "width": 683
      }
     },
     "output_type": "execute_result"
    }
   ],
   "source": [
    "# Visualization of schedule\n",
    "\n",
    "# function to show bipartite graph, not important to understand, loaded from graph_two_layer.py\n",
    "%run scripts/graph_two_layer.py\n",
    "\n",
    "workers_days = {(w, d)\n",
    "                for w in workers for d in days if hours_avail_dict[w][d] > 0}\n",
    "workers_days_labels = {(w, d):'{:d}'.format(int(model.hrs[w, d].value))\n",
    "                       for (w, d) in workers_days}\n",
    "plt.figure()\n",
    "graph_bipartite(workers, days, workers_days, workers_days_labels)"
   ]
  },
  {
   "cell_type": "markdown",
   "metadata": {
    "collapsed": false
   },
   "source": [
    "## *Self-Assessment: Cheaper Schedule?*"
   ]
  },
  {
   "cell_type": "markdown",
   "metadata": {
    "collapsed": false
   },
   "source": [
    "For the worker scheduling problem management now insists that each worker be available for up to 8 hours on each day.  Copy the code above into a new cell  and modify it to solve this new problem.  How much lower is the total cost?  Which worker gets assigned the most hours?  Why does one worker get so many hours?"
   ]
  },
  {
   "cell_type": "markdown",
   "metadata": {
    "collapsed": false,
    "heading_collapsed": true
   },
   "source": [
    "## Prototypical Transportation Example from Textbook"
   ]
  },
  {
   "cell_type": "markdown",
   "metadata": {
    "collapsed": false,
    "hidden": true
   },
   "source": [
    "You should read the complete details of this problem beginning on page 319 of the textbook.  In short we want to transport truckloads of canned peas from canneries to warehouses.  The supply (Output), demand (Allocation), and shipping cost per truckload are shown in this table:\n",
    "\n",
    "<img src=\"images/prototype_transport.png\" width=\"600\">\n",
    "\n",
    "This is an example of a **balanced** transportation problem because the total supply equals, or is balanced by, the total demand."
   ]
  },
  {
   "cell_type": "markdown",
   "metadata": {
    "collapsed": false,
    "heading_collapsed": true,
    "hidden": true
   },
   "source": [
    "### Mathematical Formulation"
   ]
  },
  {
   "cell_type": "markdown",
   "metadata": {
    "collapsed": false,
    "hidden": true
   },
   "source": [
    "Mathematically we can frame the problem as below (identical to page 324). \n",
    "\n",
    "Let $C$ be the set of canneries and let $W$ be the set of warehouses.\n",
    "\n",
    "Decision Variables:  let $x_{c,w}$ be the number of units shipped from cannery $c \\in C$ to warehouse $w \\in W$\n",
    "\n",
    "Constants:  \n",
    "- $q_{c,w}$ is the shipping cost per unit between factory $c \\in C$ and warehouse $w \\in W$\n",
    "- $d_w$ is the number of units demanded by warehouse $w \\in W$\n",
    "- $s_c$ is the number of units supplied by cannery $c \\in C$\n",
    "\n",
    "Objective Function:  minimize $ Cost = \\displaystyle \\sum_{c \\in C} \\sum_{w \\in W} q_{c,w} x_{c,w}$\n",
    "\n",
    "Constraints:\n",
    "- Supply: $ \\displaystyle \\sum_{w \\in W} x_{c,w} = s_c, \\mbox{ for each } c \\in C$\n",
    "- Demand: $ \\displaystyle \\sum_{c \\in C} x_{c,w} = d_w, \\mbox{ for each } w \\in W$\n",
    "- Nonnegativity: $x_{c,w} \\geq 0$ for each $c \\in C, w \\in W$"
   ]
  },
  {
   "cell_type": "markdown",
   "metadata": {
    "collapsed": false,
    "heading_collapsed": true,
    "hidden": true
   },
   "source": [
    "### Integer Solutions Property"
   ]
  },
  {
   "cell_type": "markdown",
   "metadata": {
    "collapsed": false,
    "hidden": true
   },
   "source": [
    "For transportation and assignment problems *if the amounts supplied and demanded are integer valued, then the solutions will always be integers.*\n",
    "\n",
    "This is super important because it allows us to use the Simplex method or other LP solvers to achieve integer valued solutions even if we allow real numbers for the decision variables.  If we restrict the decision variables to be integer valued, then the the solution procedure is much more computationally intensive.  We'll discuss this in a later lesson about Integer Programming."
   ]
  },
  {
   "cell_type": "markdown",
   "metadata": {
    "collapsed": false,
    "hidden": true
   },
   "source": [
    "### Pyomo Solution"
   ]
  },
  {
   "cell_type": "code",
   "execution_count": 5,
   "metadata": {
    "collapsed": false,
    "hidden": true
   },
   "outputs": [
    {
     "name": "stdout",
     "output_type": "stream",
     "text": [
      "Minimum Total Cost = $152,535.00\n",
      "Number of truckloads to ship from each cannery to each warehouse:\n"
     ]
    },
    {
     "data": {
      "text/html": [
       "<div>\n",
       "<style scoped>\n",
       "    .dataframe tbody tr th:only-of-type {\n",
       "        vertical-align: middle;\n",
       "    }\n",
       "\n",
       "    .dataframe tbody tr th {\n",
       "        vertical-align: top;\n",
       "    }\n",
       "\n",
       "    .dataframe thead th {\n",
       "        text-align: right;\n",
       "    }\n",
       "</style>\n",
       "<table border=\"1\" class=\"dataframe\">\n",
       "  <thead>\n",
       "    <tr style=\"text-align: right;\">\n",
       "      <th></th>\n",
       "      <th>ware1</th>\n",
       "      <th>ware2</th>\n",
       "      <th>ware3</th>\n",
       "      <th>ware4</th>\n",
       "    </tr>\n",
       "  </thead>\n",
       "  <tbody>\n",
       "    <tr>\n",
       "      <th>can1</th>\n",
       "      <td>0.0</td>\n",
       "      <td>20.0</td>\n",
       "      <td>0.0</td>\n",
       "      <td>55.0</td>\n",
       "    </tr>\n",
       "    <tr>\n",
       "      <th>can2</th>\n",
       "      <td>80.0</td>\n",
       "      <td>45.0</td>\n",
       "      <td>0.0</td>\n",
       "      <td>0.0</td>\n",
       "    </tr>\n",
       "    <tr>\n",
       "      <th>can3</th>\n",
       "      <td>0.0</td>\n",
       "      <td>0.0</td>\n",
       "      <td>70.0</td>\n",
       "      <td>30.0</td>\n",
       "    </tr>\n",
       "  </tbody>\n",
       "</table>\n",
       "</div>"
      ],
      "text/plain": [
       "      ware1  ware2  ware3  ware4\n",
       "can1    0.0   20.0    0.0   55.0\n",
       "can2   80.0   45.0    0.0    0.0\n",
       "can3    0.0    0.0   70.0   30.0"
      ]
     },
     "execution_count": 5,
     "metadata": {
     },
     "output_type": "execute_result"
    }
   ],
   "source": [
    "canneries = ['can1', 'can2','can3']\n",
    "supply = dict(zip(canneries, [75, 125, 100]))\n",
    "\n",
    "warehouses = ['ware1','ware2','ware3','ware4']\n",
    "demand = dict(zip(warehouses, [80, 65, 70, 85]))\n",
    "\n",
    "usc = [[464, 513, 654, 867], [352, 416, 690, 791],\n",
    "       [995, 682, 388, 685] ]\n",
    "unit_ship_cost = {\n",
    "    canneries[c]: {warehouses[w]: usc[c][w]\n",
    "                   for w in range(len(warehouses))}\n",
    "    for c in range(len(canneries))\n",
    "}\n",
    "\n",
    "# throw an error if total supply and demand do not match\n",
    "assert (sum(supply.values()) == sum(demand.values()))\n",
    "\n",
    "model = ConcreteModel()\n",
    "\n",
    "model.transp = Var(canneries, warehouses, domain=NonNegativeReals)\n",
    "\n",
    "model.total_cost = Objective(expr=sum(unit_ship_cost[c][w] * model.transp[c, w]\n",
    "                                      for c in canneries for w in warehouses),\n",
    "                             sense=minimize)\n",
    "\n",
    "model.supply_ct = ConstraintList()\n",
    "for c in canneries:\n",
    "    model.supply_ct.add(\n",
    "        sum(model.transp[c, w] for w in warehouses) == supply[c])\n",
    "\n",
    "model.demand_ct = ConstraintList()\n",
    "for w in warehouses:\n",
    "    model.demand_ct.add(\n",
    "        sum(model.transp[c, w] for c in canneries) == demand[w])\n",
    "\n",
    "# solve and display\n",
    "solver = SolverFactory('glpk')\n",
    "solver.solve(model)\n",
    "\n",
    "# display solution\n",
    "print(f\"Minimum Total Cost = ${model.total_cost():,.2f}\")\n",
    "\n",
    "# put amounts in dataframe for nicer display\n",
    "import pandas as pd\n",
    "dvars = pd.DataFrame([[model.transp[c, w]() for w in warehouses]\n",
    "                      for c in canneries],\n",
    "                     index=canneries,\n",
    "                     columns=warehouses)\n",
    "print(\"Number of truckloads to ship from each cannery to each warehouse:\")\n",
    "dvars"
   ]
  },
  {
   "cell_type": "code",
   "execution_count": 6,
   "metadata": {
    "code_folding": [
     0
    ],
    "collapsed": false,
    "hidden": true
   },
   "outputs": [
    {
     "data": {
      "text/plain": [
       "<Figure size 504x504 with 0 Axes>"
      ]
     },
     "execution_count": 6,
     "metadata": {
     },
     "output_type": "execute_result"
    },
    {
     "data": {
      "image/png": "[encoded data removed]",
      "text/plain": [
       "<Figure size 504x504 with 1 Axes>"
      ]
     },
     "execution_count": 6,
     "metadata": {
      "image/png": {
       "height": 394,
       "width": 404
      }
     },
     "output_type": "execute_result"
    }
   ],
   "source": [
    "# visualization\n",
    "\n",
    "# function to show bipartite graph, not important to understand, loaded from graph_two_layer.py\n",
    "%run scripts/graph_two_layer.py\n",
    "\n",
    "canneries_wares = {(c, w) for c in canneries for w in warehouses}\n",
    "canneries_wares_labels = {(c, w):\n",
    "                          '{:d}'.format(int(model.transp[c, w].value))\n",
    "                          for (c, w) in canneries_wares}\n",
    "plt.figure()\n",
    "graph_bipartite(canneries, warehouses, canneries_wares, canneries_wares_labels)"
   ]
  },
  {
   "cell_type": "markdown",
   "metadata": {
    "collapsed": false,
    "heading_collapsed": true
   },
   "source": [
    "## *Self-Assessment: Unbalanced Transportation Problem*"
   ]
  },
  {
   "cell_type": "markdown",
   "metadata": {
    "collapsed": false,
    "hidden": true
   },
   "source": [
    "This example is modeled after a problem found in Practical Management Science by Wayne L. Winston and S. Christian Albright.  \n",
    "\n",
    "International Textile Company, Ltd, Kong–based firm that distributes textiles world- wide. They have mills for weaving bolts of cotton fabric in the Bahamas, Hong Kong, Korea, Nigeria, and Venezuela.  The mills ship bolts of cotton to distribution eight distribution centers (listed below).\n",
    "\n",
    "The company is owned by the Lao family. Present plans are to remain in Hong Kong through the transition in governments. Should the People’s Republic of China continue its economic renaissance, the company hopes to use its current base to expand operations to the mainland. International Textile has mills in the Bahamas, Hong Kong, Korea, Nigeria, and Venezuela, each weaving fabrics out of two or more raw fibers: cotton, polyester, and/or silk. The mills service eight company distribution centers.  Cotton supplies and demands at the distribution center are shown below.  Shipping costs depend on both distances and other factors and are shown below.  \n",
    "\n",
    "We want to minimize the total shipping cost, however this is an **unbalanced** transportation problem (there is more supply than demand for cotton bolts).  To turn this into a balanced problem so that our previous code can be applied add an extra distribution center called 'Dummy' to absorb the extra supply.  Set the demand at the dummy distribution center so that total supply and total demand are balanced.  You can learn more here: <a href=\"https://www.wisdomjobs.com/e-university/quantitative-techniques-for-management-tutorial-297/unbalanced-transportation-problem-9888.html\">Unbalanced Transportation Problems</a>. Finally, set the costs of shipping to the dummy distribution center since nothing will actually be shipped.\n",
    "\n",
    "After balancing the problem solve the transportation problem to minimize the total shipping cost.  You don't have to retype the data, you can use the dictionaries defined in the following three cells."
   ]
  },
  {
   "cell_type": "code",
   "execution_count": 7,
   "metadata": {
    "code_folding": [
    ],
    "collapsed": false,
    "hidden": true
   },
   "outputs": [
    {
     "data": {
      "text/html": [
       "<div>\n",
       "<style scoped>\n",
       "    .dataframe tbody tr th:only-of-type {\n",
       "        vertical-align: middle;\n",
       "    }\n",
       "\n",
       "    .dataframe tbody tr th {\n",
       "        vertical-align: top;\n",
       "    }\n",
       "\n",
       "    .dataframe thead th {\n",
       "        text-align: right;\n",
       "    }\n",
       "</style>\n",
       "<table border=\"1\" class=\"dataframe\">\n",
       "  <thead>\n",
       "    <tr style=\"text-align: right;\">\n",
       "      <th></th>\n",
       "      <th>Los Angeles</th>\n",
       "      <th>Chicago</th>\n",
       "      <th>London</th>\n",
       "      <th>Mexico City</th>\n",
       "      <th>Manila</th>\n",
       "      <th>Rome</th>\n",
       "      <th>Tokyo</th>\n",
       "      <th>New York</th>\n",
       "    </tr>\n",
       "  </thead>\n",
       "  <tbody>\n",
       "    <tr>\n",
       "      <th>Bahamas</th>\n",
       "      <td>2</td>\n",
       "      <td>2</td>\n",
       "      <td>3</td>\n",
       "      <td>3</td>\n",
       "      <td>7</td>\n",
       "      <td>4</td>\n",
       "      <td>7</td>\n",
       "      <td>1</td>\n",
       "    </tr>\n",
       "    <tr>\n",
       "      <th>Hong Kong</th>\n",
       "      <td>6</td>\n",
       "      <td>7</td>\n",
       "      <td>8</td>\n",
       "      <td>10</td>\n",
       "      <td>2</td>\n",
       "      <td>9</td>\n",
       "      <td>4</td>\n",
       "      <td>8</td>\n",
       "    </tr>\n",
       "    <tr>\n",
       "      <th>Korea</th>\n",
       "      <td>5</td>\n",
       "      <td>6</td>\n",
       "      <td>8</td>\n",
       "      <td>11</td>\n",
       "      <td>4</td>\n",
       "      <td>9</td>\n",
       "      <td>1</td>\n",
       "      <td>7</td>\n",
       "    </tr>\n",
       "    <tr>\n",
       "      <th>Nigeria</th>\n",
       "      <td>14</td>\n",
       "      <td>12</td>\n",
       "      <td>6</td>\n",
       "      <td>9</td>\n",
       "      <td>11</td>\n",
       "      <td>7</td>\n",
       "      <td>5</td>\n",
       "      <td>10</td>\n",
       "    </tr>\n",
       "    <tr>\n",
       "      <th>Venezuela</th>\n",
       "      <td>4</td>\n",
       "      <td>3</td>\n",
       "      <td>5</td>\n",
       "      <td>1</td>\n",
       "      <td>9</td>\n",
       "      <td>6</td>\n",
       "      <td>11</td>\n",
       "      <td>4</td>\n",
       "    </tr>\n",
       "  </tbody>\n",
       "</table>\n",
       "</div>"
      ],
      "text/plain": [
       "           Los Angeles  Chicago  London  Mexico City  Manila  Rome  Tokyo  \\\n",
       "Bahamas              2        2       3            3       7     4      7   \n",
       "Hong Kong            6        7       8           10       2     9      4   \n",
       "Korea                5        6       8           11       4     9      1   \n",
       "Nigeria             14       12       6            9      11     7      5   \n",
       "Venezuela            4        3       5            1       9     6     11   \n",
       "\n",
       "           New York  \n",
       "Bahamas           1  \n",
       "Hong Kong         8  \n",
       "Korea             7  \n",
       "Nigeria          10  \n",
       "Venezuela         4  "
      ]
     },
     "execution_count": 7,
     "metadata": {
     },
     "output_type": "execute_result"
    }
   ],
   "source": [
    "# Shipping_Cost per Route (rows = Mills, cols = Distribution Centers)\n",
    "mills = ['Bahamas', 'Hong Kong', 'Korea', 'Nigeria', 'Venezuela']\n",
    "dist_ctrs = [\n",
    "    'Los Angeles', 'Chicago', 'London', 'Mexico City', 'Manila', 'Rome',\n",
    "    'Tokyo', 'New York'\n",
    "]\n",
    "ship_cost = [[2, 2, 3, 3, 7, 4, 7, 1], [6, 7, 8, 10, 2, 9, 4, 8],\n",
    "             [5, 6, 8, 11, 4, 9, 1, 7], [14, 12, 6, 9, 11, 7, 5, 10],\n",
    "             [4, 3, 5, 1, 9, 6, 11, 4]]\n",
    "ship_cost_dict = {\n",
    "    mills[m]: dict(zip(dist_ctrs, ship_cost[m][:]))\n",
    "    for m in range(len(mills))\n",
    "}\n",
    "\n",
    "# for display\n",
    "pd.DataFrame(ship_cost_dict).transpose()"
   ]
  },
  {
   "cell_type": "code",
   "execution_count": 8,
   "metadata": {
    "code_folding": [
    ],
    "collapsed": false,
    "hidden": true
   },
   "outputs": [
    {
     "data": {
      "text/html": [
       "<div>\n",
       "<style scoped>\n",
       "    .dataframe tbody tr th:only-of-type {\n",
       "        vertical-align: middle;\n",
       "    }\n",
       "\n",
       "    .dataframe tbody tr th {\n",
       "        vertical-align: top;\n",
       "    }\n",
       "\n",
       "    .dataframe thead th {\n",
       "        text-align: right;\n",
       "    }\n",
       "</style>\n",
       "<table border=\"1\" class=\"dataframe\">\n",
       "  <thead>\n",
       "    <tr style=\"text-align: right;\">\n",
       "      <th></th>\n",
       "      <th>Cotton Bolts</th>\n",
       "    </tr>\n",
       "  </thead>\n",
       "  <tbody>\n",
       "    <tr>\n",
       "      <th>Bahamas</th>\n",
       "      <td>1000</td>\n",
       "    </tr>\n",
       "    <tr>\n",
       "      <th>Hong Kong</th>\n",
       "      <td>2000</td>\n",
       "    </tr>\n",
       "    <tr>\n",
       "      <th>Korea</th>\n",
       "      <td>1000</td>\n",
       "    </tr>\n",
       "    <tr>\n",
       "      <th>Nigeria</th>\n",
       "      <td>2000</td>\n",
       "    </tr>\n",
       "    <tr>\n",
       "      <th>Venezuela</th>\n",
       "      <td>1000</td>\n",
       "    </tr>\n",
       "  </tbody>\n",
       "</table>\n",
       "</div>"
      ],
      "text/plain": [
       "           Cotton Bolts\n",
       "Bahamas            1000\n",
       "Hong Kong          2000\n",
       "Korea              1000\n",
       "Nigeria            2000\n",
       "Venezuela          1000"
      ]
     },
     "execution_count": 8,
     "metadata": {
     },
     "output_type": "execute_result"
    }
   ],
   "source": [
    "# max supply\n",
    "max_supply = dict( zip( mills, [1000, 2000, 1000, 2000, 1000]) )\n",
    "\n",
    "# using Pandas for neater display\n",
    "pd.DataFrame.from_dict(max_supply,orient=\"index\",columns=['Cotton Bolts'])"
   ]
  },
  {
   "cell_type": "code",
   "execution_count": 9,
   "metadata": {
    "code_folding": [
    ],
    "collapsed": false,
    "hidden": true
   },
   "outputs": [
    {
     "data": {
      "text/html": [
       "<div>\n",
       "<style scoped>\n",
       "    .dataframe tbody tr th:only-of-type {\n",
       "        vertical-align: middle;\n",
       "    }\n",
       "\n",
       "    .dataframe tbody tr th {\n",
       "        vertical-align: top;\n",
       "    }\n",
       "\n",
       "    .dataframe thead th {\n",
       "        text-align: right;\n",
       "    }\n",
       "</style>\n",
       "<table border=\"1\" class=\"dataframe\">\n",
       "  <thead>\n",
       "    <tr style=\"text-align: right;\">\n",
       "      <th></th>\n",
       "      <th>Cotton Bolts</th>\n",
       "    </tr>\n",
       "  </thead>\n",
       "  <tbody>\n",
       "    <tr>\n",
       "      <th>Los Angeles</th>\n",
       "      <td>500</td>\n",
       "    </tr>\n",
       "    <tr>\n",
       "      <th>Chicago</th>\n",
       "      <td>800</td>\n",
       "    </tr>\n",
       "    <tr>\n",
       "      <th>London</th>\n",
       "      <td>900</td>\n",
       "    </tr>\n",
       "    <tr>\n",
       "      <th>Mexico City</th>\n",
       "      <td>900</td>\n",
       "    </tr>\n",
       "    <tr>\n",
       "      <th>Manila</th>\n",
       "      <td>800</td>\n",
       "    </tr>\n",
       "    <tr>\n",
       "      <th>Rome</th>\n",
       "      <td>100</td>\n",
       "    </tr>\n",
       "    <tr>\n",
       "      <th>Tokyo</th>\n",
       "      <td>200</td>\n",
       "    </tr>\n",
       "    <tr>\n",
       "      <th>New York</th>\n",
       "      <td>700</td>\n",
       "    </tr>\n",
       "  </tbody>\n",
       "</table>\n",
       "</div>"
      ],
      "text/plain": [
       "             Cotton Bolts\n",
       "Los Angeles           500\n",
       "Chicago               800\n",
       "London                900\n",
       "Mexico City           900\n",
       "Manila                800\n",
       "Rome                  100\n",
       "Tokyo                 200\n",
       "New York              700"
      ]
     },
     "execution_count": 9,
     "metadata": {
     },
     "output_type": "execute_result"
    }
   ],
   "source": [
    "# demand\n",
    "demand = dict( zip( dist_ctrs,[ 500, 800, 900, 900, 800, 100, 200, 700]) )\n",
    "\n",
    "# using Pandas for display\n",
    "pd.DataFrame.from_dict(demand,orient=\"index\",columns=['Cotton Bolts'])"
   ]
  },
  {
   "cell_type": "markdown",
   "metadata": {
    "collapsed": false
   },
   "source": [
    "## Dealing with Infeasible Routes"
   ]
  },
  {
   "cell_type": "markdown",
   "metadata": {
    "collapsed": false
   },
   "source": [
    "It often happens in transportation problems that due to problems or prohibitive costs, shipping is not available on along certain routes.  \n",
    "\n",
    "For instance, in the Prototypical Example above, suppose that we cannot ship between Cannery 1 and Warehouse 2, between Cannery 2 and Warehouse 1, or between Cannery 3 and Warehouse 3.  The table below shows the shipping costs with 'X' representing infeasible routes.\n",
    "\n",
    "<img src=\"images/prototype_transport_x.png\" width=\"600\">\n",
    "\n",
    "There are at least three techniques for representing the infeasible routes:"
   ]
  },
  {
   "cell_type": "markdown",
   "metadata": {
    "collapsed": false
   },
   "source": [
    "### Overview of Techniques (video)"
   ]
  },
  {
   "cell_type": "code",
   "execution_count": 10,
   "metadata": {
    "code_folding": [
     0
    ],
    "collapsed": false
   },
   "outputs": [
    {
     "data": {
      "text/html": [
       "\n",
       "        <iframe\n",
       "            width=\"640\"\n",
       "            height=\"360\"\n",
       "            src=\"https://media.uwex.edu/content/ds/ds775_r19/ds775_lesson3-dealing-with-infeasible-routes/index.html\"\n",
       "            frameborder=\"0\"\n",
       "            allowfullscreen\n",
       "        ></iframe>\n",
       "        "
      ],
      "text/plain": [
       "<IPython.lib.display.IFrame at 0x7fc795350b38>"
      ]
     },
     "execution_count": 10,
     "metadata": {
     },
     "output_type": "execute_result"
    }
   ],
   "source": [
    "# execute this cell for video\n",
    "play_video(\"ds775_lesson3-dealing-with-infeasible-routes\")"
   ]
  },
  {
   "cell_type": "markdown",
   "metadata": {
    "collapsed": false
   },
   "source": [
    "### Technique 1: The \"Big M\" Method"
   ]
  },
  {
   "cell_type": "markdown",
   "metadata": {
    "collapsed": false
   },
   "source": [
    "Introduce a large value of the cost, \"big $M$\", on those routes that are infeasible.  If those costs are large enough, then the optimization will be forced to use zeros for the corresponding decision variables to minimize the cost.  Choose a value for $M$ that is perhaps 10 or 100 times larger than the largest cost.  Making $M$ ridiculously large can lead to numerical issues in the underlying solution method while choosing $M$ too small may lead to incorrect results.  **Always inspect your solution to make sure it makes sense.  Are there zero amounts transported along the infeasible routes?**\n",
    "\n",
    "Here is the python code from the Protypical Example above adapted use the big $M$ method."
   ]
  },
  {
   "cell_type": "code",
   "execution_count": 11,
   "metadata": {
    "collapsed": false
   },
   "outputs": [
    {
     "name": "stdout",
     "output_type": "stream",
     "text": [
      "Minimum Total Cost = $176,000.00\n",
      "Number of truckloads to ship from each cannery to each warehouse:\n"
     ]
    },
    {
     "data": {
      "text/html": [
       "<div>\n",
       "<style scoped>\n",
       "    .dataframe tbody tr th:only-of-type {\n",
       "        vertical-align: middle;\n",
       "    }\n",
       "\n",
       "    .dataframe tbody tr th {\n",
       "        vertical-align: top;\n",
       "    }\n",
       "\n",
       "    .dataframe thead th {\n",
       "        text-align: right;\n",
       "    }\n",
       "</style>\n",
       "<table border=\"1\" class=\"dataframe\">\n",
       "  <thead>\n",
       "    <tr style=\"text-align: right;\">\n",
       "      <th></th>\n",
       "      <th>ware1</th>\n",
       "      <th>ware2</th>\n",
       "      <th>ware3</th>\n",
       "      <th>ware4</th>\n",
       "    </tr>\n",
       "  </thead>\n",
       "  <tbody>\n",
       "    <tr>\n",
       "      <th>can1</th>\n",
       "      <td>75.0</td>\n",
       "      <td>0.0</td>\n",
       "      <td>0.0</td>\n",
       "      <td>0.0</td>\n",
       "    </tr>\n",
       "    <tr>\n",
       "      <th>can2</th>\n",
       "      <td>0.0</td>\n",
       "      <td>55.0</td>\n",
       "      <td>70.0</td>\n",
       "      <td>0.0</td>\n",
       "    </tr>\n",
       "    <tr>\n",
       "      <th>can3</th>\n",
       "      <td>5.0</td>\n",
       "      <td>10.0</td>\n",
       "      <td>0.0</td>\n",
       "      <td>85.0</td>\n",
       "    </tr>\n",
       "  </tbody>\n",
       "</table>\n",
       "</div>"
      ],
      "text/plain": [
       "      ware1  ware2  ware3  ware4\n",
       "can1   75.0    0.0    0.0    0.0\n",
       "can2    0.0   55.0   70.0    0.0\n",
       "can3    5.0   10.0    0.0   85.0"
      ]
     },
     "execution_count": 11,
     "metadata": {
     },
     "output_type": "execute_result"
    }
   ],
   "source": [
    "canneries = ['can1', 'can2','can3']\n",
    "supply = dict(zip(canneries, [75, 125, 100]))\n",
    "\n",
    "warehouses = ['ware1','ware2','ware3','ware4']\n",
    "demand = dict(zip(warehouses, [80, 65, 70, 85]))\n",
    "\n",
    "###########################################################\n",
    "### only modification to code is here in unit_ship_cost ###\n",
    "###########################################################\n",
    "bigM = 10000;\n",
    "usc = [[464, bigM, 654, 867], [bigM, 416, 690, 791],\n",
    "       [995, 682, bigM, 685] ]\n",
    "unit_ship_cost = {\n",
    "    canneries[c]: {warehouses[w]: usc[c][w]\n",
    "                   for w in range(len(warehouses))}\n",
    "    for c in range(len(canneries))\n",
    "}\n",
    "\n",
    "# throw an error if total supply and demand do not match\n",
    "assert (sum(supply.values()) == sum(demand.values()))\n",
    "\n",
    "model = ConcreteModel()\n",
    "\n",
    "model.transp = Var(canneries, warehouses, domain=NonNegativeReals)\n",
    "\n",
    "model.total_cost = Objective(expr=sum(unit_ship_cost[c][w] * model.transp[c, w]\n",
    "                                      for c in canneries for w in warehouses),\n",
    "                             sense=minimize)\n",
    "\n",
    "model.supply_ct = ConstraintList()\n",
    "for c in canneries:\n",
    "    model.supply_ct.add(\n",
    "        sum(model.transp[c, w] for w in warehouses) == supply[c])\n",
    "\n",
    "model.demand_ct = ConstraintList()\n",
    "for w in warehouses:\n",
    "    model.demand_ct.add(\n",
    "        sum(model.transp[c, w] for c in canneries) == demand[w])\n",
    "\n",
    "# solve and display\n",
    "solver = SolverFactory('glpk')\n",
    "solver.solve(model)\n",
    "\n",
    "# display solution\n",
    "print(f\"Minimum Total Cost = ${model.total_cost():,.2f}\")\n",
    "\n",
    "# put amounts in dataframe for nicer display\n",
    "dvars = pd.DataFrame([[model.transp[c, w]() for w in warehouses]\n",
    "                      for c in canneries],\n",
    "                     index=canneries,\n",
    "                     columns=warehouses)\n",
    "print(\"Number of truckloads to ship from each cannery to each warehouse:\")\n",
    "dvars"
   ]
  },
  {
   "cell_type": "markdown",
   "metadata": {
    "collapsed": false
   },
   "source": [
    "Note that the new solution has zero truckloads transported along the infeasible routes.  Also, the minimum total cost has increased as the solution is forced to use more expensive routes.\n",
    "\n",
    "The \"big M\" method is simple, but because in complex problems it can be hard to choose the right value for $M$ without introducing numerical errors it probably isn't the best method available.  However, for simple problems such as this one it works just fine."
   ]
  },
  {
   "cell_type": "markdown",
   "metadata": {
    "collapsed": false
   },
   "source": [
    "### Technique 2:  Use Extra Constraints"
   ]
  },
  {
   "cell_type": "markdown",
   "metadata": {
    "collapsed": false
   },
   "source": [
    "This technique is straightforward.  Just add additional constraints that set the transported amounts to zero along the infeasible routes.  Below we've modified the Prototypical Example python solution with extra constraints."
   ]
  },
  {
   "cell_type": "code",
   "execution_count": 12,
   "metadata": {
    "collapsed": false
   },
   "outputs": [
    {
     "name": "stdout",
     "output_type": "stream",
     "text": [
      "Minimum Total Cost = $176,000.00\n",
      "Number of truckloads to ship from each cannery to each warehouse:\n"
     ]
    },
    {
     "data": {
      "text/html": [
       "<div>\n",
       "<style scoped>\n",
       "    .dataframe tbody tr th:only-of-type {\n",
       "        vertical-align: middle;\n",
       "    }\n",
       "\n",
       "    .dataframe tbody tr th {\n",
       "        vertical-align: top;\n",
       "    }\n",
       "\n",
       "    .dataframe thead th {\n",
       "        text-align: right;\n",
       "    }\n",
       "</style>\n",
       "<table border=\"1\" class=\"dataframe\">\n",
       "  <thead>\n",
       "    <tr style=\"text-align: right;\">\n",
       "      <th></th>\n",
       "      <th>ware1</th>\n",
       "      <th>ware2</th>\n",
       "      <th>ware3</th>\n",
       "      <th>ware4</th>\n",
       "    </tr>\n",
       "  </thead>\n",
       "  <tbody>\n",
       "    <tr>\n",
       "      <th>can1</th>\n",
       "      <td>75.0</td>\n",
       "      <td>0.0</td>\n",
       "      <td>0.0</td>\n",
       "      <td>0.0</td>\n",
       "    </tr>\n",
       "    <tr>\n",
       "      <th>can2</th>\n",
       "      <td>0.0</td>\n",
       "      <td>55.0</td>\n",
       "      <td>70.0</td>\n",
       "      <td>0.0</td>\n",
       "    </tr>\n",
       "    <tr>\n",
       "      <th>can3</th>\n",
       "      <td>5.0</td>\n",
       "      <td>10.0</td>\n",
       "      <td>0.0</td>\n",
       "      <td>85.0</td>\n",
       "    </tr>\n",
       "  </tbody>\n",
       "</table>\n",
       "</div>"
      ],
      "text/plain": [
       "      ware1  ware2  ware3  ware4\n",
       "can1   75.0    0.0    0.0    0.0\n",
       "can2    0.0   55.0   70.0    0.0\n",
       "can3    5.0   10.0    0.0   85.0"
      ]
     },
     "execution_count": 12,
     "metadata": {
     },
     "output_type": "execute_result"
    }
   ],
   "source": [
    "canneries = ['can1', 'can2', 'can3']\n",
    "supply = dict(zip(canneries, [75, 125, 100]))\n",
    "\n",
    "warehouses = ['ware1', 'ware2', 'ware3', 'ware4']\n",
    "demand = dict(zip(warehouses, [80, 65, 70, 85]))\n",
    "\n",
    "usc = [[464, 513, 654, 867], [352, 416, 690, 791], [995, 682, 388, 685]]\n",
    "unit_ship_cost = {\n",
    "    canneries[c]: {warehouses[w]: usc[c][w]\n",
    "                   for w in range(len(warehouses))}\n",
    "    for c in range(len(canneries))\n",
    "}\n",
    "\n",
    "# throw an error if total supply and demand do not match\n",
    "assert (sum(supply.values()) == sum(demand.values()))\n",
    "\n",
    "model = ConcreteModel()\n",
    "\n",
    "model.transp = Var(canneries, warehouses, domain=NonNegativeReals)\n",
    "\n",
    "model.total_cost = Objective(expr=sum(unit_ship_cost[c][w] * model.transp[c, w]\n",
    "                                      for c in canneries for w in warehouses),\n",
    "                             sense=minimize)\n",
    "\n",
    "model.supply_ct = ConstraintList()\n",
    "for c in canneries:\n",
    "    model.supply_ct.add(\n",
    "        sum(model.transp[c, w] for w in warehouses) == supply[c])\n",
    "\n",
    "model.demand_ct = ConstraintList()\n",
    "for w in warehouses:\n",
    "    model.demand_ct.add(\n",
    "        sum(model.transp[c, w] for c in canneries) == demand[w])\n",
    "\n",
    "######################################################\n",
    "### additional constraints here.  no other changes ###\n",
    "######################################################\n",
    "no_transport = {('can1','ware2'),('can2','ware1'),('can3','ware3')}\n",
    "model.no_ship_ct = ConstraintList()\n",
    "for (c,w) in no_transport:\n",
    "    model.no_ship_ct.add(model.transp[c,w]==0)\n",
    "\n",
    "# solve and display\n",
    "solver = SolverFactory('glpk')\n",
    "solver.solve(model)\n",
    "\n",
    "# display solution\n",
    "print(f\"Minimum Total Cost = ${model.total_cost():,.2f}\")\n",
    "\n",
    "# put amounts in dataframe for nicer display\n",
    "dvars = pd.DataFrame([[model.transp[c, w]() for w in warehouses]\n",
    "                      for c in canneries],\n",
    "                     index=canneries,\n",
    "                     columns=warehouses)\n",
    "print(\"Number of truckloads to ship from each cannery to each warehouse:\")\n",
    "dvars"
   ]
  },
  {
   "cell_type": "markdown",
   "metadata": {
    "collapsed": false
   },
   "source": [
    "This technique is clean but does introduce extra constraints.  This really isn't a big deal for small problems, but for large problems it can add a lot of unnecessary computational complexity.  The best solution for large problems is explained in the next section."
   ]
  },
  {
   "cell_type": "markdown",
   "metadata": {
    "collapsed": false
   },
   "source": [
    "### Technique 3:  Eliminate Unnecessary Decision Variables"
   ]
  },
  {
   "cell_type": "markdown",
   "metadata": {
    "collapsed": false
   },
   "source": [
    "Since we already know the amounts shipped along the infeasible routes will be zero we really don't need decision variables for those amounts.  We could just introduce decision variables for those routes we need, but we want to do this in an automated way instead of typing out a bunch of individual variables.  This technique is the most difficult but has a huge computational advantage for large problems with lots of infeasible routes. \n",
    "\n",
    "A nice way to do this is make a list of tuples for the feasible routes and then create a dictionary that uses those tuples as keys to look up the unit shipping cost values.  We'll then use those tuples as the index set for our decision variables.\n",
    "\n",
    "Here is one way to setup the list of tuples and the dictionary.  "
   ]
  },
  {
   "cell_type": "code",
   "execution_count": 13,
   "metadata": {
    "collapsed": false
   },
   "outputs": [
    {
     "data": {
      "text/plain": [
       "{('can1', 'ware1'): 464,\n",
       " ('can1', 'ware3'): 654,\n",
       " ('can1', 'ware4'): 867,\n",
       " ('can2', 'ware2'): 416,\n",
       " ('can2', 'ware3'): 690,\n",
       " ('can2', 'ware4'): 791,\n",
       " ('can3', 'ware1'): 995,\n",
       " ('can3', 'ware2'): 682,\n",
       " ('can3', 'ware4'): 685}"
      ]
     },
     "execution_count": 13,
     "metadata": {
     },
     "output_type": "execute_result"
    }
   ],
   "source": [
    "can_ware_routes = [('can1', 'ware1'), ('can1', 'ware3'), ('can1', 'ware4'),\n",
    "                   ('can2', 'ware2'), ('can2', 'ware3'), ('can2', 'ware4'),\n",
    "                   ('can3', 'ware1'), ('can3', 'ware2'), ('can3', 'ware4')]\n",
    "unit_ship_cost = [464, 654, 867, 416, 690, 791, 995, 682, 685]\n",
    "unit_ship_cost_dict = dict(zip(can_ware_routes, unit_ship_cost))\n",
    "unit_ship_cost_dict"
   ]
  },
  {
   "cell_type": "markdown",
   "metadata": {
    "collapsed": false
   },
   "source": [
    "For a large problem we wouldn't want to have to type all of that out and would likely read it from another source.  If we have a table that already has the costs in it along with a way of designating the infeasible routes, then we can create the tuples and dictionary like this:"
   ]
  },
  {
   "cell_type": "code",
   "execution_count": 14,
   "metadata": {
    "collapsed": false
   },
   "outputs": [
   ],
   "source": [
    "# infeasible routes have large cost values in our table\n",
    "bigM = 10000\n",
    "usc = [[464, bigM, 654, 867], [bigM, 416, 690, 791], [995, 682, bigM, 685]]\n",
    "\n",
    "# convert to a dataframe as an intermediate step to simplify the code\n",
    "usc_df = pd.DataFrame(usc, columns=warehouses, index=canneries)\n",
    "\n",
    "# now we can access the unit shipping costs like usc_df.loc['can1','ware1']\n",
    "unit_ship_cost = {(c, w): usc_df.loc[c, w]\n",
    "                  for c in canneries for w in warehouses\n",
    "                  if usc_df.loc[c, w] < bigM}"
   ]
  },
  {
   "cell_type": "markdown",
   "metadata": {
    "collapsed": false
   },
   "source": [
    "We can get the list of tuples from the dictionary keys:"
   ]
  },
  {
   "cell_type": "code",
   "execution_count": 15,
   "metadata": {
    "collapsed": false
   },
   "outputs": [
    {
     "data": {
      "text/plain": [
       "[('can1', 'ware1'),\n",
       " ('can1', 'ware3'),\n",
       " ('can1', 'ware4'),\n",
       " ('can2', 'ware2'),\n",
       " ('can2', 'ware3'),\n",
       " ('can2', 'ware4'),\n",
       " ('can3', 'ware1'),\n",
       " ('can3', 'ware2'),\n",
       " ('can3', 'ware4')]"
      ]
     },
     "execution_count": 15,
     "metadata": {
     },
     "output_type": "execute_result"
    }
   ],
   "source": [
    "can_ware_routes = list(unit_ship_cost.keys())\n",
    "can_ware_routes"
   ]
  },
  {
   "cell_type": "markdown",
   "metadata": {
    "collapsed": false
   },
   "source": [
    "Now here is the modified python to utilize only the needed decision variables.  We've included the list of tuples and dictionary for completeness."
   ]
  },
  {
   "cell_type": "code",
   "execution_count": 0,
   "metadata": {
    "code_folding": [
    ],
    "collapsed": false
   },
   "outputs": [
   ],
   "source": [
    "canneries = ['can1', 'can2', 'can3']\n",
    "supply = dict(zip(canneries, [75, 125, 100]))\n",
    "\n",
    "warehouses = ['ware1', 'ware2', 'ware3', 'ware4']\n",
    "demand = dict(zip(warehouses, [80, 65, 70, 85]))\n",
    "\n",
    "#########################\n",
    "# tuples and dictionary #\n",
    "#########################\n",
    "can_ware_routes = [('can1', 'ware1'), ('can1', 'ware3'), ('can1', 'ware4'),\n",
    "                   ('can2', 'ware2'), ('can2', 'ware3'), ('can2', 'ware4'),\n",
    "                   ('can3', 'ware1'), ('can3', 'ware2'), ('can3', 'ware4')]\n",
    "usc = [464, 654, 867, 416, 690, 791, 995, 682, 685]\n",
    "unit_ship_cost = dict(zip(can_ware_routes, usc))\n",
    "\n",
    "# throw an error if total supply and demand do not match\n",
    "assert (sum(supply.values()) == sum(demand.values()))\n",
    "\n",
    "model = ConcreteModel()\n",
    "\n",
    "###########################################################################\n",
    "# use the list of tuples of routes as the index for the decision variable #\n",
    "###########################################################################\n",
    "model.transp = Var(can_ware_routes, domain=NonNegativeReals)\n",
    "\n",
    "#################################################################\n",
    "# the list of tuples is also used to sum the objective function #\n",
    "# you can write unit_ship_cost[(c,w)] or unit_ship_cost[c,w]    #\n",
    "#################################################################\n",
    "model.total_cost = Objective(expr=sum(unit_ship_cost[c, w] * model.transp[c, w]\n",
    "                                      for (c, w) in can_ware_routes),\n",
    "                             sense=minimize)\n",
    "\n",
    "#####################################################################\n",
    "# use an extra if statement in the sum to include only valid routes #\n",
    "#####################################################################\n",
    "model.supply_ct = ConstraintList()\n",
    "for c in canneries:\n",
    "    model.supply_ct.add(\n",
    "        sum(model.transp[c, w] for w in warehouses\n",
    "            if (c, w) in can_ware_routes) == supply[c])\n",
    "\n",
    "model.demand_ct = ConstraintList()\n",
    "for w in warehouses:\n",
    "    model.demand_ct.add(\n",
    "        sum(model.transp[c, w] for c in canneries\n",
    "            if (c, w) in can_ware_routes) == demand[w])\n",
    "\n",
    "# solve and display\n",
    "solver = SolverFactory('glpk')\n",
    "solver.solve(model)\n",
    "\n",
    "# display solution\n",
    "print(f\"Minimum Total Cost = ${model.total_cost():,.2f}\")\n",
    "\n",
    "print(\"\\nTransported Amounts:\")\n",
    "for (c, w) in can_ware_routes:\n",
    "    print(f\"Ship {model.transp[c,w].value:.0f} truckloads from {c} to {w}\")\n",
    "\n",
    "# or can setup a data frame for nicer display, use zeros for infeasible routes\n",
    "print(\"\\nData Frame display of transported amounts:\")\n",
    "transp = pd.DataFrame(0, index=canneries, columns=warehouses)\n",
    "for (c,w) in can_ware_routes:\n",
    "    transp.loc[c,w] = model.transp[c,w].value\n",
    "transp"
   ]
  },
  {
   "cell_type": "markdown",
   "metadata": {
    "collapsed": false,
    "heading_collapsed": true
   },
   "source": [
    "## *Self-Assessment:  Remove unneeded variables*"
   ]
  },
  {
   "cell_type": "markdown",
   "metadata": {
    "collapsed": false,
    "hidden": true
   },
   "source": [
    "Revisit the worker scheduling problem from the textbook (3.4-15).  Start with the code above and modify it using Technique 3 to eliminate unneeded decision variables.  Your new solution should have 18 decision variables instead of 30 and the overall answer should be the same."
   ]
  },
  {
   "cell_type": "markdown",
   "metadata": {
    "collapsed": false,
    "heading_collapsed": true
   },
   "source": [
    "## Transporting Multiple Products"
   ]
  },
  {
   "cell_type": "markdown",
   "metadata": {
    "collapsed": false,
    "hidden": true
   },
   "source": [
    "To move toward making a more realistic problem we consider a transportation problem in which multiple products are transported from suppliers to customers.  To accomplish this our decision variables will need to be indexed by three sets:  product, supplier, and customer.  Like this:  \n",
    "\n",
    "```model.transp[ product, supplier, customer ]```\n",
    "\n",
    "You can think of this as a three-dimensional array which in turn can be thought of as a stack of two-dimensional arrays:\n",
    "\n",
    "<img src=\"./images/threeD_array.png\" width = \"400\">\n",
    "\n",
    "Image from <a href=\"http://c-programmingbooks.blogspot.com/2011/11/three-dimensional-array-in-c.html\">c-programmingbooks.blogspot.com</a>\n",
    "\n",
    "The 0th 2D array corresponds to the first product while the rows and columns of that array correspond to suppliers and customers respectively.  According to the picture, 4 units of product 1 are shipped from supplier number 1 to customer number 2.  To find the cost of shipping the products we have to sum the cost per unit times the number of units over all the elements in the three dimensional array, like this:\n",
    "\n",
    "```sum(cost[p,s,c] * model.transp[p,s,c] for p in products for s in suppliers for c in customers)```\n",
    "\n",
    "A supply constraint means that total amount of each product shipped from each supplier must match the supply available.  \n",
    "\n",
    "```\n",
    "for p in products:\n",
    "    for s in suppliers:\n",
    "        sum( model.transp[p,s,c] for c in customers) == supply[p,s] )\n",
    "```\n",
    "In the picture above this corresponds to summing each row of the stacked 2D arrays to make sure it matches the supplied amount.\n",
    "\n",
    "If limited capacity is available for shipping from each supplier to each customer we have to add up the total amount of all products to be sure it isn't too large:\n",
    "```\n",
    "for s in supplier:\n",
    "    for c in customer:\n",
    "        sum( model.transp[p,s,c] for p in products ) <= capacity )\n",
    "```\n",
    "\n",
    "Suppose we are solving an inventory problem for a large retail chain in which the suppliers are warehouses or distribution centers and the customers are the individual retail stores or outlets.  Each warehouse only serves a subset of the stores to minimize shipping costs.   We won't need decision variables for those routes that are infeasible so we'll use Technique 3 to reduce the number of decision variables.  The next self-assessment problem has you complete the code to solve a multi-product transportation problem.  This video discusses some of the code:\n"
   ]
  },
  {
   "cell_type": "markdown",
   "metadata": {
    "collapsed": false,
    "hidden": true
   },
   "source": [
    "### Video walkthrough of code for self-assessment below"
   ]
  },
  {
   "cell_type": "code",
   "execution_count": 17,
   "metadata": {
    "code_folding": [
    ],
    "collapsed": false,
    "hidden": true
   },
   "outputs": [
    {
     "data": {
      "text/html": [
       "\n",
       "        <iframe\n",
       "            width=\"640\"\n",
       "            height=\"360\"\n",
       "            src=\"https://media.uwex.edu/content/ds/ds775_r19/ds775_lesson3-transportation-problem-walkthrough3/index.html\"\n",
       "            frameborder=\"0\"\n",
       "            allowfullscreen\n",
       "        ></iframe>\n",
       "        "
      ],
      "text/plain": [
       "<IPython.lib.display.IFrame at 0x7fc795350dd8>"
      ]
     },
     "execution_count": 17,
     "metadata": {
     },
     "output_type": "execute_result"
    }
   ],
   "source": [
    "# execute this cell for video\n",
    "play_video(\"ds775_lesson3-transportation-problem-walkthrough3\")"
   ]
  },
  {
   "cell_type": "markdown",
   "metadata": {
    "collapsed": false
   },
   "source": [
    "## *Self-Assessment: Multiple Products*"
   ]
  },
  {
   "cell_type": "markdown",
   "metadata": {
    "collapsed": false
   },
   "source": [
    "Products A and B are supplied by warehouses wA, wB, wC to stores sA, sB, sC, sD, sE.  The supply, demand, shipping capacity, and shipping cost per unit (dollars per unit) are shown in the Excel spreadsheet `transp_prob_multi.xlsx` in the data subfolder.  Some of the code for the pyomo solution is shown below including details of how to read the data from the Excel file.  Complete the code to minimize the total shipping cost.  Hint:  the answer is \\$23,700."
   ]
  },
  {
   "cell_type": "code",
   "execution_count": 0,
   "metadata": {
    "collapsed": false
   },
   "outputs": [
   ],
   "source": [
    "# The code in this cell is incomplete and won't run until completed\n",
    "\n",
    "# using openpyxl\n",
    "wb = load_workbook(filename='data/transp_prob_multi.xlsx', data_only=True)\n",
    "sheet = wb.active\n",
    "\n",
    "# specify upper left and lower right cells, returns a list or list of lists representing rows\n",
    "# for a single value read_range(sheet,'A11')\n",
    "# for a list of values in a column or row read_range(sheet,'A11','N11')\n",
    "# for nested lists of values (array-like) read_range(sheet,'A11','D23')\n",
    "def read_range(sheet, begin, *argv):\n",
    "    if len(argv)>0:\n",
    "        end = argv[0]\n",
    "        table = sheet[begin:end]\n",
    "        height = len(table)\n",
    "        width = len(table[0])\n",
    "        if height == 1 or width == 1:\n",
    "            # for a single row or column produce a list\n",
    "            tmp = [cell.value for row in table for cell in row]\n",
    "        else:\n",
    "            # for an array of cells produces a list of row lists\n",
    "            tmp = [[cell.value for cell in row] for row in table]\n",
    "    else:\n",
    "        tmp = sheet[begin].value\n",
    "    return (tmp)\n",
    "\n",
    "warehouses = read_range(sheet, 'A3', 'A5')\n",
    "stores = read_range(sheet, 'B3', 'B7')\n",
    "products = read_range(sheet, 'C3', 'C4')\n",
    "# all feasible product-warehouse-store combinations\n",
    "routes = {(p, w, s) for [p, w, s] in read_range(sheet, 'E3', 'G20')}\n",
    "# all feasible warehouse-store combinations\n",
    "wares_stores = {(w,s) for (p,w,s) in routes}\n",
    "capacity = read_range(sheet, 'A11')\n",
    "cost = {(p, w, s): c for [p, w, s, c] in read_range(sheet, 'E3', 'H20')}\n",
    "supply = {(p, w): q for [p, w, q] in read_range(sheet, 'J3', 'L8')}\n",
    "demand = {(p, s): q for [p, s, q] in read_range(sheet, 'N3', 'P12')}\n",
    "\n",
    "# throw an error if total supply and demand do not match\n",
    "for p in products:\n",
    "    assert (sum(supply[p, w] for w in warehouses\n",
    "                if (p, w) in supply.keys()) == sum(demand[p, s]\n",
    "                                                   for s in stores\n",
    "                                                   if (p, s) in demand.keys()))\n",
    "\n",
    "model = ConcreteModel()\n",
    "\n",
    "model.transp = Var(routes, domain=NonNegativeReals) # one decions variable for each feasible p-w-s combo\n",
    "\n",
    "model.total_cost = Objective(expr=sum(cost[p,w,s] * model.transp[p,w,s] for (p,w,s) in routes) )\n",
    "\n",
    "model.supply_ct = ConstraintList()\n",
    "for p in products:\n",
    "    for w in warehouses:\n",
    "        # the if statement allows only feasible p-w-s combos in the sum\n",
    "        model.supply_ct.add( sum( model.transp[p,w,s] for s in stores if (p,w,s) in routes) == supply[p,w] )\n",
    "\n",
    "\n",
    "model.demand_ct = ConstraintList()\n",
    "# COMPLETE the demand constraint, for each product and store the total transported must ....\n",
    "\n",
    "model.capacity_ct = ConstraintList()\n",
    "for (w,s) in wares_stores:\n",
    "    # COMPLETE - add up the transported amounts of all the products shipped from w to s, make sure p-w-s combo is feasible\n",
    "    # using an if statement\n",
    "\n",
    "# solve and display\n",
    "solver = SolverFactory('glpk')\n",
    "solver.solve(model)\n",
    "\n",
    "# convert model.hrs into a Pandas data frame for nicer display\n",
    "transp_pA = pd.DataFrame(0, index=warehouses, columns=stores)\n",
    "transp_pB = pd.DataFrame(0, index=warehouses, columns=stores)\n",
    "for (w, s) in wares_stores:\n",
    "    transp_pA.loc[w, s] = model.transp['pA', w, s].value\n",
    "    transp_pB.loc[w, s] = model.transp['pB', w, s].value\n",
    "\n",
    "# display\n",
    "print(f\"The minimum total transportation cost = ${model.total_cost():.2f}\")\n",
    "\n",
    "print(\"\\nThe transported amounts of product A: \")\n",
    "display(transp_pA)\n",
    "print(\"\\nThe transported amounts of product B: \")\n",
    "display(transp_pB)"
   ]
  },
  {
   "cell_type": "markdown",
   "metadata": {
    "collapsed": false
   },
   "source": [
    "We like to think of an assignment problem as a transportation problem in which we are transporting objects to destinations.  Assigning workers to jobs can be transporting workers to jobs where each worker has a supply of 1 and each job has a demand of 1.  To solve assignment problems as linear programs the supply and demand must match, that is the problem must be balanced.  In other words we need the same number of workers as jobs.  If the problem isn't balanced then we can add dummy workers or dummy jobs to balance the problem."
   ]
  },
  {
   "cell_type": "markdown",
   "metadata": {
    "collapsed": false,
    "heading_collapsed": true
   },
   "source": [
    "## Prototypical Assignment Problem"
   ]
  },
  {
   "cell_type": "markdown",
   "metadata": {
    "collapsed": false,
    "hidden": true
   },
   "source": [
    "This problem is described completely on page 348 of the textbook.  We're including it here as an example to show how to solve it using Pyomo.  In short, we're assigning 3 machines to 4 locations.  Because this is imbalanced, a 4th dummy machine is added.  Each machine has an hourly cost that depends on the location.  Machine 2 cannot be used in location 2 and there is no cost associated with assigning the dummy machine to any location since this just means that no machine is installed at that location.  The mathematical formulation is identical to that of the transportation problem using a supply and demand of 1 at each machine and location. The cost table is shown here for convenience:\n",
    "\n",
    "<img src=\"images/table_9p25.png\" width=\"400\">\n",
    "\n",
    "The $M$ will be a very large value (\"big M\") to prevent an assignment of machine 2 to location 2.\n",
    "\n",
    "Here is a Pyomo solution:"
   ]
  },
  {
   "cell_type": "code",
   "execution_count": 0,
   "metadata": {
    "collapsed": false,
    "hidden": true
   },
   "outputs": [
   ],
   "source": [
    "machines = ['mac1', 'mac2', 'mac3', 'macD']\n",
    "supply = dict(zip(machines, [1, 1, 1, 1]))\n",
    "\n",
    "locations = ['loc1', 'loc2', 'loc3', 'loc4']\n",
    "demand = dict(zip(locations, [1, 1, 1, 1]))\n",
    "\n",
    "bigM = 1000\n",
    "cost_list = [[13,16,12,11],[15,bigM,13,20],[5,7,10,6],[0,0,0,0]]\n",
    "cost = {\n",
    "    machines[m]: {locations[l]: cost_list[m][l]\n",
    "                   for l in range(len(locations))}\n",
    "    for m in range(len(machines))\n",
    "}\n",
    "\n",
    "# throw an error if total supply and demand do not match\n",
    "assert (sum(supply.values()) == sum(demand.values()))\n",
    "\n",
    "model = ConcreteModel()\n",
    "\n",
    "model.assign= Var(machines, locations, domain=NonNegativeReals)\n",
    "\n",
    "model.total_cost = Objective(expr=sum(cost[m][l] * model.assign[m, l]\n",
    "                                      for m in machines for l in locations),\n",
    "                             sense=minimize)\n",
    "\n",
    "model.supply_ct = ConstraintList()\n",
    "for m in machines:\n",
    "    model.supply_ct.add(\n",
    "        sum(model.assign[m, l] for l in locations) == supply[m])\n",
    "\n",
    "model.demand_ct = ConstraintList()\n",
    "for l in locations:\n",
    "    model.demand_ct.add(\n",
    "        sum(model.assign[m, l\n",
    "                        ] for m in machines) == demand[l])\n",
    "\n",
    "# solve and display\n",
    "solver = SolverFactory('glpk')\n",
    "solver.solve(model)\n",
    "\n",
    "# display solution\n",
    "print(f\"Minimum Cost per hour = ${model.total_cost():,.2f}\")\n",
    "\n",
    "# put amounts in dataframe for nicer display\n",
    "dvars = pd.DataFrame([[model.assign[m, l]() for l in locations]\n",
    "                      for m in machines],\n",
    "                     index = machines,\n",
    "                     columns=locations)\n",
    "print(\"Machine assignments to locations:\")\n",
    "dvars"
   ]
  }
 ],
 "metadata": {
  "kernelspec": {
   "display_name": "Python 3 (system-wide)",
   "language": "python",
   "metadata": {
    "cocalc": {
     "description": "Python 3 programming language",
     "priority": 100,
     "url": "https://www.python.org/"
    }
   },
   "name": "python3",
   "resource_dir": "/ext/jupyter/kernels/python3"
  },
  "language_info": {
   "codemirror_mode": {
    "name": "ipython",
    "version": 3
   },
   "file_extension": ".py",
   "mimetype": "text/x-python",
   "name": "python",
   "nbconvert_exporter": "python",
   "pygments_lexer": "ipython3",
   "version": "3.8.2"
  },
  "toc": {
   "base_numbering": 1,
   "nav_menu": {
   },
   "number_sections": true,
   "sideBar": true,
   "skip_h1_title": false,
   "title_cell": "Table of Contents",
   "title_sidebar": "Contents",
   "toc_cell": false,
   "toc_position": {
    "height": "calc(100% - 180px)",
    "left": "10px",
    "top": "150px",
    "width": "285.312px"
   },
   "toc_section_display": true,
   "toc_window_display": true
  },
  "varInspector": {
   "cols": {
    "lenName": 16,
    "lenType": 16,
    "lenVar": 40
   },
   "kernels_config": {
    "python": {
     "delete_cmd_postfix": "",
     "delete_cmd_prefix": "del ",
     "library": "var_list.py",
     "varRefreshCmd": "print(var_dic_list())"
    },
    "r": {
     "delete_cmd_postfix": ") ",
     "delete_cmd_prefix": "rm(",
     "library": "var_list.r",
     "varRefreshCmd": "cat(var_dic_list()) "
    }
   },
   "types_to_exclude": [
    "module",
    "function",
    "builtin_function_or_method",
    "instance",
    "_Feature"
   ],
   "window_display": false
  }
 },
 "nbformat": 4,
 "nbformat_minor": 4
}
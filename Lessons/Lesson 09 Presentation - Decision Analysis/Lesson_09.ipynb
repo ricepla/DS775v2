{
 "cells": [
  {
   "cell_type": "code",
   "execution_count": 1,
   "metadata": {
    "code_folding": [
     0
    ],
    "collapsed": false
   },
   "outputs": [
   ],
   "source": [
    "# EXECUTE FIRST\n",
    "\n",
    "# for reading files from urls\n",
    "import urllib.request\n",
    "# display imports\n",
    "from IPython.display import display, IFrame\n",
    "from IPython.core.display import HTML\n",
    "\n",
    "# for playing videos, customize height and width if desired\n",
    "def play_video(vid_name):\n",
    "    vid_path = \"https://media.uwex.edu/content/ds/ds775_r19/\"\n",
    "    return IFrame( vid_path + vid_name + \"/index.html\", width = 640, height = 360 )\n",
    "\n",
    "# import notebook styling for tables and width etc.\n",
    "response = urllib.request.urlopen('https://raw.githubusercontent.com/DataScienceUWL/DS775v2/master/ds755.css')\n",
    "HTML(response.read().decode(\"utf-8\"));"
   ]
  },
  {
   "cell_type": "markdown",
   "metadata": {
    "collapsed": false
   },
   "source": [
    "<font size=18>Lesson 09: Decision Analysis</font> "
   ]
  },
  {
   "cell_type": "markdown",
   "metadata": {
    "collapsed": false
   },
   "source": [
    "# Introduction to Decision Analysis\n",
    "\n",
    "This is the primary lesson for Decision Analysis.  Some students will find this material dense and the mathematical formulas somewhat unwieldy.  We also provide a second notebook, `Lesson_09_Extra.ipynb`, where we take a lesson formal approach to the main ideas in this L"
   ]
  },
  {
   "cell_type": "code",
   "execution_count": 2,
   "metadata": {
    "code_folding": [
    ],
    "collapsed": false
   },
   "outputs": [
    {
     "data": {
      "text/html": [
       "\n",
       "        <iframe\n",
       "            width=\"640\"\n",
       "            height=\"360\"\n",
       "            src=\"https://media.uwex.edu/content/ds/ds775_r19/ds775_lesson9-decision-analysis-intro/index.html\"\n",
       "            frameborder=\"0\"\n",
       "            allowfullscreen\n",
       "        ></iframe>\n",
       "        "
      ],
      "text/plain": [
       "<IPython.lib.display.IFrame at 0x7f9ae55162b0>"
      ]
     },
     "execution_count": 2,
     "metadata": {
     },
     "output_type": "execute_result"
    }
   ],
   "source": [
    "# execute this cell for video\n",
    "play_video(\"ds775_lesson9-decision-analysis-intro\")"
   ]
  },
  {
   "cell_type": "markdown",
   "metadata": {
    "collapsed": false
   },
   "source": [
    "# Decision Analysis Explained"
   ]
  },
  {
   "cell_type": "markdown",
   "metadata": {
    "collapsed": false
   },
   "source": [
    "The material in this section parallels the material in Sections 16.1-16.4 of Hillier and Liebermann.  Except that we use two different examples than those in the textbook.  "
   ]
  },
  {
   "cell_type": "markdown",
   "metadata": {
    "collapsed": false
   },
   "source": [
    "## Formulating a Decision Analysis Problem"
   ]
  },
  {
   "cell_type": "code",
   "execution_count": 3,
   "metadata": {
    "code_folding": [
     0
    ],
    "collapsed": false
   },
   "outputs": [
    {
     "data": {
      "text/html": [
       "\n",
       "        <iframe\n",
       "            width=\"640\"\n",
       "            height=\"360\"\n",
       "            src=\"https://media.uwex.edu/content/ds/ds775_r19/ds775_lesson9-formulating-decision-analysis-problem/index.html\"\n",
       "            frameborder=\"0\"\n",
       "            allowfullscreen\n",
       "        ></iframe>\n",
       "        "
      ],
      "text/plain": [
       "<IPython.lib.display.IFrame at 0x7f9ae5516668>"
      ]
     },
     "execution_count": 3,
     "metadata": {
     },
     "output_type": "execute_result"
    }
   ],
   "source": [
    "# execute this cell for video\n",
    "play_video(\"ds775_lesson9-formulating-decision-analysis-problem\")"
   ]
  },
  {
   "cell_type": "markdown",
   "metadata": {
    "collapsed": false
   },
   "source": [
    "## The Payoff Table"
   ]
  },
  {
   "cell_type": "code",
   "execution_count": 4,
   "metadata": {
    "collapsed": false
   },
   "outputs": [
    {
     "data": {
      "text/html": [
       "\n",
       "        <iframe\n",
       "            width=\"640\"\n",
       "            height=\"360\"\n",
       "            src=\"https://media.uwex.edu/content/ds/ds775_r19/ds775_lesson9-payoff-table-problem/index.html\"\n",
       "            frameborder=\"0\"\n",
       "            allowfullscreen\n",
       "        ></iframe>\n",
       "        "
      ],
      "text/plain": [
       "<IPython.lib.display.IFrame at 0x7f9ae5516470>"
      ]
     },
     "execution_count": 4,
     "metadata": {
     },
     "output_type": "execute_result"
    }
   ],
   "source": [
    "# execute this cell for video\n",
    "play_video(\"ds775_lesson9-payoff-table-problem\")"
   ]
  },
  {
   "cell_type": "markdown",
   "metadata": {
    "collapsed": false
   },
   "source": [
    "## Graphing Expected Payoffs"
   ]
  },
  {
   "cell_type": "code",
   "execution_count": 5,
   "metadata": {
    "code_folding": [
     0
    ],
    "collapsed": false
   },
   "outputs": [
    {
     "data": {
      "text/html": [
       "\n",
       "        <iframe\n",
       "            width=\"640\"\n",
       "            height=\"360\"\n",
       "            src=\"https://media.uwex.edu/content/ds/ds775_r19/ds775_lesson9-graphic-expected-payoffs-problem/index.html\"\n",
       "            frameborder=\"0\"\n",
       "            allowfullscreen\n",
       "        ></iframe>\n",
       "        "
      ],
      "text/plain": [
       "<IPython.lib.display.IFrame at 0x7f9ae5516240>"
      ]
     },
     "execution_count": 5,
     "metadata": {
     },
     "output_type": "execute_result"
    }
   ],
   "source": [
    "# execute this cell for video\n",
    "play_video(\"ds775_lesson9-graphic-expected-payoffs-problem\")"
   ]
  },
  {
   "cell_type": "markdown",
   "metadata": {
    "collapsed": false
   },
   "source": [
    "### Graphing Expected Payoffs in DESMOS"
   ]
  },
  {
   "cell_type": "markdown",
   "metadata": {
    "collapsed": false
   },
   "source": [
    "Click <a href = http://www.desmos.com> DESMOS </a> to start using DESMOS."
   ]
  },
  {
   "cell_type": "code",
   "execution_count": 6,
   "metadata": {
    "collapsed": false
   },
   "outputs": [
    {
     "data": {
      "text/html": [
       "\n",
       "        <iframe\n",
       "            width=\"640\"\n",
       "            height=\"360\"\n",
       "            src=\"https://media.uwex.edu/content/ds/ds775_r19/ds775_lesson9-graphing-ep-desmos/index.html\"\n",
       "            frameborder=\"0\"\n",
       "            allowfullscreen\n",
       "        ></iframe>\n",
       "        "
      ],
      "text/plain": [
       "<IPython.lib.display.IFrame at 0x7f9ae55160b8>"
      ]
     },
     "execution_count": 6,
     "metadata": {
     },
     "output_type": "execute_result"
    }
   ],
   "source": [
    "# execute this cell for video\n",
    "play_video(\"ds775_lesson9-graphing-ep-desmos\")"
   ]
  },
  {
   "cell_type": "markdown",
   "metadata": {
    "collapsed": false
   },
   "source": [
    "## Choosing a Decision Alternative"
   ]
  },
  {
   "cell_type": "code",
   "execution_count": 7,
   "metadata": {
    "code_folding": [
     0
    ],
    "collapsed": false
   },
   "outputs": [
    {
     "data": {
      "text/html": [
       "\n",
       "        <iframe\n",
       "            width=\"640\"\n",
       "            height=\"360\"\n",
       "            src=\"https://media.uwex.edu/content/ds/ds775_r19/ds775_lesson9-another-example/index.html\"\n",
       "            frameborder=\"0\"\n",
       "            allowfullscreen\n",
       "        ></iframe>\n",
       "        "
      ],
      "text/plain": [
       "<IPython.lib.display.IFrame at 0x7f9ae5516278>"
      ]
     },
     "execution_count": 7,
     "metadata": {
     },
     "output_type": "execute_result"
    }
   ],
   "source": [
    "# execute this cell for video\n",
    "play_video(\"ds775_lesson9-another-example\")"
   ]
  },
  {
   "cell_type": "markdown",
   "metadata": {
    "collapsed": false
   },
   "source": [
    "## Maximin Payoff Criterion"
   ]
  },
  {
   "cell_type": "code",
   "execution_count": 8,
   "metadata": {
    "code_folding": [
     0
    ],
    "collapsed": false
   },
   "outputs": [
    {
     "data": {
      "text/html": [
       "\n",
       "        <iframe\n",
       "            width=\"640\"\n",
       "            height=\"360\"\n",
       "            src=\"https://media.uwex.edu/content/ds/ds775_r19/ds775_lesson9-maximum-payoff-criterion/index.html\"\n",
       "            frameborder=\"0\"\n",
       "            allowfullscreen\n",
       "        ></iframe>\n",
       "        "
      ],
      "text/plain": [
       "<IPython.lib.display.IFrame at 0x7f9ae55167f0>"
      ]
     },
     "execution_count": 8,
     "metadata": {
     },
     "output_type": "execute_result"
    }
   ],
   "source": [
    "# execute this cell for video\n",
    "play_video(\"ds775_lesson9-maximum-payoff-criterion\")"
   ]
  },
  {
   "cell_type": "markdown",
   "metadata": {
    "collapsed": false
   },
   "source": [
    "## Maximum Likelihood Criterion"
   ]
  },
  {
   "cell_type": "code",
   "execution_count": 9,
   "metadata": {
    "code_folding": [
     0
    ],
    "collapsed": false
   },
   "outputs": [
    {
     "data": {
      "text/html": [
       "\n",
       "        <iframe\n",
       "            width=\"640\"\n",
       "            height=\"360\"\n",
       "            src=\"https://media.uwex.edu/content/ds/ds775_r19/ds775_lesson9-maximum-likelihood-criterion/index.html\"\n",
       "            frameborder=\"0\"\n",
       "            allowfullscreen\n",
       "        ></iframe>\n",
       "        "
      ],
      "text/plain": [
       "<IPython.lib.display.IFrame at 0x7f9ae5516160>"
      ]
     },
     "execution_count": 9,
     "metadata": {
     },
     "output_type": "execute_result"
    }
   ],
   "source": [
    "# execute this cell for video\n",
    "play_video(\"ds775_lesson9-maximum-likelihood-criterion\")"
   ]
  },
  {
   "cell_type": "markdown",
   "metadata": {
    "collapsed": false
   },
   "source": [
    "## Bayes' Decision Rule"
   ]
  },
  {
   "cell_type": "code",
   "execution_count": 10,
   "metadata": {
    "code_folding": [
    ],
    "collapsed": false
   },
   "outputs": [
    {
     "data": {
      "text/html": [
       "\n",
       "        <iframe\n",
       "            width=\"640\"\n",
       "            height=\"360\"\n",
       "            src=\"https://media.uwex.edu/content/ds/ds775_r19/ds775_lesson9-bayes-decision-rule/index.html\"\n",
       "            frameborder=\"0\"\n",
       "            allowfullscreen\n",
       "        ></iframe>\n",
       "        "
      ],
      "text/plain": [
       "<IPython.lib.display.IFrame at 0x7f9ae5516940>"
      ]
     },
     "execution_count": 10,
     "metadata": {
     },
     "output_type": "execute_result"
    }
   ],
   "source": [
    "# execute this cell for video\n",
    "play_video(\"ds775_lesson9-bayes-decision-rule\")"
   ]
  },
  {
   "cell_type": "markdown",
   "metadata": {
    "collapsed": false
   },
   "source": [
    "### *Self Assessment: Formulation and Bayes Decision Rule*"
   ]
  },
  {
   "cell_type": "markdown",
   "metadata": {
    "collapsed": false
   },
   "source": [
    "**Textbook Problem 16.2-7 (a,b)**\n",
    "\n",
    "Dwight Moody is the manager of a large farm with 1,000 acres of arable land. For greater efficiency, Dwight always devotes the farm to growing one crop at a time. He now needs to make a decision on which one of four crops to grow during the upcoming growing season. For each of these crops, Dwight has obtained the following estimates of crop yields and net in- comes per bushel under various weather conditions.\n",
    "\n",
    "<img src=\"images/screen-prob16_2-7a.png\" alt=\"Solution\" width=\"400\">\n",
    "\n",
    "After referring to historical meteorological records, Dwight also estimated the following prior probabilities for the weather during the growing season:\n",
    "\n",
    "<img src=\"images/screen-prob16_2-7b.png\" alt=\"Solution\" width=\"160\">\n",
    "\n",
    "(a) Develop a decision analysis formulation of this problem by identifying the decision alternatives, the states of nature, and the payoff table.\n",
    "\n",
    "(b) Use Bayes’ decision rule to determine which crop to grow.\n"
   ]
  },
  {
   "cell_type": "markdown",
   "metadata": {
    "collapsed": false
   },
   "source": [
    "### *Self Assessment: Decision Rules and Expected Profit*"
   ]
  },
  {
   "cell_type": "markdown",
   "metadata": {
    "collapsed": false
   },
   "source": [
    "**Textbook Problem 16.2-6** \n",
    "\n",
    "You are given the following payoff table (in units of thousands of dollars) for a decision analysis problem:\n",
    "\n",
    "<img src=\"images/screen-prob16_2-6.png\" alt=\"Solution\" width=\"400\">\n",
    "\n",
    "(a) Which alternative should be chosen under the maximin payoff criterion?\n",
    "\n",
    "(b) Which alternative should be chosen under the maximum likelihood criterion?\n",
    "\n",
    "(c) Which alternative should be chosen under Bayes’ decision rule?\n",
    "\n",
    "(d) Using Bayes’ decision rule, do sensitivity analysis graphically with respect to the prior probabilities of states $S_1$ and $S_2$ (without changing the prior probability of state $S_3$) to determine the crossover point where the decision shifts from one alternative to the other. Then use algebra to calculate this\n",
    "crossover point.\n",
    "\n",
    "(e) Repeat part (d) for the prior probabilities of states $S_1$ and $S_3$.\n",
    "\n",
    "(f) Repeat part (d) for the prior probabilities of states $S_2$ and $S_3$.\n",
    "\n",
    "(g) If you feel that the true probabilities of the states of nature are\n",
    "within 10 percent of the given prior probabilities, which alternative would you choose?\n"
   ]
  },
  {
   "cell_type": "markdown",
   "metadata": {
    "collapsed": false
   },
   "source": [
    "## The Expected Value of Perfect Information"
   ]
  },
  {
   "cell_type": "code",
   "execution_count": 11,
   "metadata": {
    "code_folding": [
    ],
    "collapsed": false
   },
   "outputs": [
    {
     "data": {
      "text/html": [
       "\n",
       "        <iframe\n",
       "            width=\"640\"\n",
       "            height=\"360\"\n",
       "            src=\"https://media.uwex.edu/content/ds/ds775_r19/ds775_lesson9-evpi/index.html\"\n",
       "            frameborder=\"0\"\n",
       "            allowfullscreen\n",
       "        ></iframe>\n",
       "        "
      ],
      "text/plain": [
       "<IPython.lib.display.IFrame at 0x7f9ae55169e8>"
      ]
     },
     "execution_count": 11,
     "metadata": {
     },
     "output_type": "execute_result"
    }
   ],
   "source": [
    "# execute this cell for video\n",
    "play_video(\"ds775_lesson9-evpi\")"
   ]
  },
  {
   "cell_type": "markdown",
   "metadata": {
    "collapsed": false
   },
   "source": [
    "## Bayes' Theorem and Posterior Probabilities"
   ]
  },
  {
   "cell_type": "code",
   "execution_count": 12,
   "metadata": {
    "code_folding": [
     0
    ],
    "collapsed": false
   },
   "outputs": [
    {
     "data": {
      "text/html": [
       "\n",
       "        <iframe\n",
       "            width=\"640\"\n",
       "            height=\"360\"\n",
       "            src=\"https://media.uwex.edu/content/ds/ds775_r19/ds775_lesson9-bayes-theorem-and-posterior-probabilities/index.html\"\n",
       "            frameborder=\"0\"\n",
       "            allowfullscreen\n",
       "        ></iframe>\n",
       "        "
      ],
      "text/plain": [
       "<IPython.lib.display.IFrame at 0x7f9ae5516358>"
      ]
     },
     "execution_count": 12,
     "metadata": {
     },
     "output_type": "execute_result"
    }
   ],
   "source": [
    "# execute this cell for video\n",
    "play_video(\"ds775_lesson9-bayes-theorem-and-posterior-probabilities\")"
   ]
  },
  {
   "cell_type": "markdown",
   "metadata": {
    "collapsed": false
   },
   "source": [
    "## Findings from Experimentation"
   ]
  },
  {
   "cell_type": "code",
   "execution_count": 13,
   "metadata": {
    "code_folding": [
     0
    ],
    "collapsed": false
   },
   "outputs": [
    {
     "data": {
      "text/html": [
       "\n",
       "        <iframe\n",
       "            width=\"640\"\n",
       "            height=\"360\"\n",
       "            src=\"https://media.uwex.edu/content/ds/ds775_r19/ds775_lesson9-findings-from-experimentation/index.html\"\n",
       "            frameborder=\"0\"\n",
       "            allowfullscreen\n",
       "        ></iframe>\n",
       "        "
      ],
      "text/plain": [
       "<IPython.lib.display.IFrame at 0x7f9ae5516ef0>"
      ]
     },
     "execution_count": 13,
     "metadata": {
     },
     "output_type": "execute_result"
    }
   ],
   "source": [
    "# execute this cell for video\n",
    "from IPython.display import IFrame\n",
    "IFrame(\n",
    "    \"https://media.uwex.edu/content/ds/ds775_r19/ds775_lesson9-findings-from-experimentation/index.html\",\n",
    "    width=640,\n",
    "    height=360)"
   ]
  },
  {
   "cell_type": "markdown",
   "metadata": {
    "collapsed": false
   },
   "source": [
    "## Computing Posterior Probabilities"
   ]
  },
  {
   "cell_type": "code",
   "execution_count": 14,
   "metadata": {
    "code_folding": [
     0
    ],
    "collapsed": false
   },
   "outputs": [
    {
     "data": {
      "text/html": [
       "\n",
       "        <iframe\n",
       "            width=\"640\"\n",
       "            height=\"360\"\n",
       "            src=\"https://media.uwex.edu/content/ds/ds775_r19/ds775_lesson9-computing-posterior-probs/index.html\"\n",
       "            frameborder=\"0\"\n",
       "            allowfullscreen\n",
       "        ></iframe>\n",
       "        "
      ],
      "text/plain": [
       "<IPython.lib.display.IFrame at 0x7f9ae5516198>"
      ]
     },
     "execution_count": 14,
     "metadata": {
     },
     "output_type": "execute_result"
    }
   ],
   "source": [
    "# execute this cell for video\n",
    "play_video(\"ds775_lesson9-computing-posterior-probs\")"
   ]
  },
  {
   "cell_type": "markdown",
   "metadata": {
    "collapsed": false,
    "heading_collapsed": true
   },
   "source": [
    "### Getting Posterior Probabilities in Silver Decisions"
   ]
  },
  {
   "cell_type": "markdown",
   "metadata": {
    "collapsed": false,
    "hidden": true
   },
   "source": [
    "<a href = http://www.silverdecisions.pl> Silver Decisions </a> - free and open source decision tree software.  We'll say much more about Silver Decisions in Section 3 of this notebook."
   ]
  },
  {
   "cell_type": "code",
   "execution_count": 15,
   "metadata": {
    "code_folding": [
     0
    ],
    "collapsed": false,
    "hidden": true
   },
   "outputs": [
    {
     "data": {
      "text/html": [
       "\n",
       "        <iframe\n",
       "            width=\"640\"\n",
       "            height=\"360\"\n",
       "            src=\"https://media.uwex.edu/content/ds/ds775_r19/ds775_lesson9-computing-posterior-silver/index.html\"\n",
       "            frameborder=\"0\"\n",
       "            allowfullscreen\n",
       "        ></iframe>\n",
       "        "
      ],
      "text/plain": [
       "<IPython.lib.display.IFrame at 0x7f9ae5516b38>"
      ]
     },
     "execution_count": 15,
     "metadata": {
     },
     "output_type": "execute_result"
    }
   ],
   "source": [
    "# execute this cell for video\n",
    "play_video(\"ds775_lesson9-computing-posterior-silver\")"
   ]
  },
  {
   "cell_type": "markdown",
   "metadata": {
    "collapsed": false
   },
   "source": [
    "### *Self Assessment: Probability Tree Diagram*"
   ]
  },
  {
   "cell_type": "markdown",
   "metadata": {
    "collapsed": false
   },
   "source": [
    "**True or False:**  A probability tree diagram is a useful way to organize the outcomes in a decision analysis scenario, with prior probabilities in the first column and conditional probabilities in the second column."
   ]
  },
  {
   "cell_type": "markdown",
   "metadata": {
    "collapsed": false
   },
   "source": [
    "## Expected Payoffs After Experimentation"
   ]
  },
  {
   "cell_type": "code",
   "execution_count": 16,
   "metadata": {
    "code_folding": [
     0
    ],
    "collapsed": false
   },
   "outputs": [
    {
     "data": {
      "text/html": [
       "\n",
       "        <iframe\n",
       "            width=\"640\"\n",
       "            height=\"360\"\n",
       "            src=\"https://media.uwex.edu/content/ds/ds775_r19/ds775_lesson9-expected-payoff-after-experimentation/index.html\"\n",
       "            frameborder=\"0\"\n",
       "            allowfullscreen\n",
       "        ></iframe>\n",
       "        "
      ],
      "text/plain": [
       "<IPython.lib.display.IFrame at 0x7f9ae5515400>"
      ]
     },
     "execution_count": 16,
     "metadata": {
     },
     "output_type": "execute_result"
    }
   ],
   "source": [
    "# execute this cell for video\n",
    "play_video(\"ds775_lesson9-expected-payoff-after-experimentation\")"
   ]
  },
  {
   "cell_type": "markdown",
   "metadata": {
    "collapsed": false
   },
   "source": [
    "## Expected Value of Experimentation"
   ]
  },
  {
   "cell_type": "code",
   "execution_count": 17,
   "metadata": {
    "code_folding": [
     0
    ],
    "collapsed": false
   },
   "outputs": [
    {
     "data": {
      "text/html": [
       "\n",
       "        <iframe\n",
       "            width=\"640\"\n",
       "            height=\"360\"\n",
       "            src=\"https://media.uwex.edu/content/ds/ds775_r19/ds775_lesson9-eve/index.html\"\n",
       "            frameborder=\"0\"\n",
       "            allowfullscreen\n",
       "        ></iframe>\n",
       "        "
      ],
      "text/plain": [
       "<IPython.lib.display.IFrame at 0x7f9ae54a8198>"
      ]
     },
     "execution_count": 17,
     "metadata": {
     },
     "output_type": "execute_result"
    }
   ],
   "source": [
    "# execute this cell for video\n",
    "play_video(\"ds775_lesson9-eve\")"
   ]
  },
  {
   "cell_type": "markdown",
   "metadata": {
    "collapsed": false
   },
   "source": [
    "### *Self Assessment: Experimentation*"
   ]
  },
  {
   "cell_type": "markdown",
   "metadata": {
    "collapsed": false
   },
   "source": [
    "The difference between the expected payoff with and without experimentation is called the\n",
    "\n",
    "a. expected difference of experimentation (EDE).\n",
    "\n",
    "b. expected value of perfect information (EVPI).\n",
    "\n",
    "c. expected payoff difference (EPD).\n",
    "\n",
    "d. expected value of experimentation (EVE).\n",
    "\n",
    "e. expected loss for imperfect information (ELII). "
   ]
  },
  {
   "cell_type": "markdown",
   "metadata": {
    "collapsed": false
   },
   "source": [
    "### *Self Assessment: EVPI and EVE*"
   ]
  },
  {
   "cell_type": "markdown",
   "metadata": {
    "collapsed": false
   },
   "source": [
    "**Textbook Problem 16.3-2 (a, b, c, e)**\n",
    "\n",
    "Reconsider Problem 16.2-2. Management of Silicon Dynamics now is considering doing full-fledged market research at a cost of $1 million to predict which of the two levels of demand is likely to occur. Previous experience indicates that such market research is correct two-thirds of the time. Assume that the prior probabilities of the two levels of sales are both 0.5.\n",
    "\n",
    "Problem 16.2-2 says:\n",
    "\n",
    "Silicon Dynamics has developed a new computer chip that will enable it to begin producing and marketing a personal computer if it so desires. Alternatively, it can sell the rights to the computer chip for \\$15 million. If the company chooses to build computers, the profitability of the venture depends upon the company’s ability to market the computer during the first year. It has sufficient access to retail outlets that it can guarantee sales of 10,000 computers. On the other hand, if this computer catches on, the company can sell 100,000 computers. For analysis purposes, these two levels of sales are taken to be the two possible outcomes of marketing the computer, but it is unclear what their prior probabilities are. If the decision is to go ahead with producing and marketing the computer, the company will produce as many chips as it finds it will be able to sell, but not more. The cost of setting up the assembly line is \\$6 million. The difference between the selling price and the variable cost of each computer is \\$600.\n",
    "\n",
    "(a) Find EVPI for this problem.\n",
    "\n",
    "(b) Does the answer in part (a) indicate that it might be worthwhile to perform this market research?\n",
    "\n",
    "(c) Develop a probability tree diagram in Silver Decisions and use \"Flip subtree\" to obtain the posterior probabilities of the two levels of demand for each of the two possible outcomes of the market research.\n",
    "\n",
    "(e) Find EVE. Is it worthwhile to perform the market research?"
   ]
  },
  {
   "cell_type": "markdown",
   "metadata": {
    "collapsed": false
   },
   "source": [
    "# Silver Decisions Software"
   ]
  },
  {
   "cell_type": "markdown",
   "metadata": {
    "collapsed": false
   },
   "source": [
    "The material in this section is similar to that in Section 16.5 of the textbook except that we are using Silver Decisions instead of the Excel-based software demonstrated in the textbook."
   ]
  },
  {
   "cell_type": "markdown",
   "metadata": {
    "collapsed": false
   },
   "source": [
    "## Getting Started in Silver Decisions"
   ]
  },
  {
   "cell_type": "markdown",
   "metadata": {
    "collapsed": false
   },
   "source": [
    "<a href = http://www.silverdecisions.pl> Silver Decisions </a> - free and open source decision tree software."
   ]
  },
  {
   "cell_type": "code",
   "execution_count": 18,
   "metadata": {
    "code_folding": [
     0
    ],
    "collapsed": false
   },
   "outputs": [
    {
     "data": {
      "text/html": [
       "\n",
       "        <iframe\n",
       "            width=\"640\"\n",
       "            height=\"360\"\n",
       "            src=\"https://media.uwex.edu/content/ds/ds775_r19/ds775_lesson9-getting-started-silver-decisions/index.html\"\n",
       "            frameborder=\"0\"\n",
       "            allowfullscreen\n",
       "        ></iframe>\n",
       "        "
      ],
      "text/plain": [
       "<IPython.lib.display.IFrame at 0x7f9ae54a8240>"
      ]
     },
     "execution_count": 18,
     "metadata": {
     },
     "output_type": "execute_result"
    }
   ],
   "source": [
    "# execute this cell for video\n",
    "play_video(\"ds775_lesson9-getting-started-silver-decisions\")"
   ]
  },
  {
   "cell_type": "markdown",
   "metadata": {
    "collapsed": false
   },
   "source": [
    "## Full Decision Tree in Silver Decisions"
   ]
  },
  {
   "cell_type": "code",
   "execution_count": 19,
   "metadata": {
    "code_folding": [
     0
    ],
    "collapsed": false
   },
   "outputs": [
    {
     "data": {
      "text/html": [
       "\n",
       "        <iframe\n",
       "            width=\"640\"\n",
       "            height=\"360\"\n",
       "            src=\"https://media.uwex.edu/content/ds/ds775_r19/ds775_lesson9-another-example-tree/index.html\"\n",
       "            frameborder=\"0\"\n",
       "            allowfullscreen\n",
       "        ></iframe>\n",
       "        "
      ],
      "text/plain": [
       "<IPython.lib.display.IFrame at 0x7f9ae54a8470>"
      ]
     },
     "execution_count": 19,
     "metadata": {
     },
     "output_type": "execute_result"
    }
   ],
   "source": [
    "# execute this cell for video\n",
    "play_video(\"ds775_lesson9-another-example-tree\")"
   ]
  },
  {
   "cell_type": "markdown",
   "metadata": {
    "collapsed": false,
    "heading_collapsed": true
   },
   "source": [
    "## Sensitivity Analysis for a Decision Tree in Silver Decisions"
   ]
  },
  {
   "cell_type": "markdown",
   "metadata": {
    "collapsed": false,
    "hidden": true
   },
   "source": [
    "To do sensitivity analysis in Silver Decisions, it will be necessary to define variables and use them to in formulas that define prior and posterior probabilities as well as payoffs for which sensitivity analysis is desired."
   ]
  },
  {
   "cell_type": "markdown",
   "metadata": {
    "collapsed": false,
    "heading_collapsed": true,
    "hidden": true
   },
   "source": [
    "### Defining Formulas for Posterior Probabilities"
   ]
  },
  {
   "cell_type": "code",
   "execution_count": 20,
   "metadata": {
    "code_folding": [
     0
    ],
    "collapsed": false,
    "hidden": true
   },
   "outputs": [
    {
     "data": {
      "text/html": [
       "\n",
       "        <iframe\n",
       "            width=\"640\"\n",
       "            height=\"360\"\n",
       "            src=\"https://media.uwex.edu/content/ds/ds775_r19/ds775_lesson9-sensitivity-silver-decisions/index.html\"\n",
       "            frameborder=\"0\"\n",
       "            allowfullscreen\n",
       "        ></iframe>\n",
       "        "
      ],
      "text/plain": [
       "<IPython.lib.display.IFrame at 0x7f9ae54a84e0>"
      ]
     },
     "execution_count": 20,
     "metadata": {
     },
     "output_type": "execute_result"
    }
   ],
   "source": [
    "# execute this cell for video\n",
    "play_video(\"ds775_lesson9-sensitivity-silver-decisions\")"
   ]
  },
  {
   "cell_type": "markdown",
   "metadata": {
    "collapsed": false,
    "heading_collapsed": true,
    "hidden": true
   },
   "source": [
    "### Entering Variables and Formulas into a Decision Tree"
   ]
  },
  {
   "cell_type": "code",
   "execution_count": 21,
   "metadata": {
    "code_folding": [
     0
    ],
    "collapsed": false,
    "hidden": true
   },
   "outputs": [
    {
     "data": {
      "text/html": [
       "\n",
       "        <iframe\n",
       "            width=\"640\"\n",
       "            height=\"360\"\n",
       "            src=\"https://media.uwex.edu/content/ds/ds775_r19/ds775_lesson9-variables-silver-decisions/index.html\"\n",
       "            frameborder=\"0\"\n",
       "            allowfullscreen\n",
       "        ></iframe>\n",
       "        "
      ],
      "text/plain": [
       "<IPython.lib.display.IFrame at 0x7f9ae54a88d0>"
      ]
     },
     "execution_count": 21,
     "metadata": {
     },
     "output_type": "execute_result"
    }
   ],
   "source": [
    "# execute this cell for video\n",
    "play_video(\"ds775_lesson9-variables-silver-decisions\")"
   ]
  },
  {
   "cell_type": "markdown",
   "metadata": {
    "collapsed": false,
    "heading_collapsed": true
   },
   "source": [
    "# Decision Trees or Decision Trees?"
   ]
  },
  {
   "cell_type": "markdown",
   "metadata": {
    "collapsed": false,
    "hidden": true
   },
   "source": [
    "If you try to search Google for \"Decision Trees\" you very likely won't find the kind of decision trees discussed in this lesson.  Instead you'll encounter the kind of decision trees that are encountered in Machine Learning or Data Mining."
   ]
  },
  {
   "cell_type": "code",
   "execution_count": 22,
   "metadata": {
    "code_folding": [
     0
    ],
    "collapsed": false,
    "hidden": true
   },
   "outputs": [
    {
     "data": {
      "text/html": [
       "\n",
       "        <iframe\n",
       "            width=\"640\"\n",
       "            height=\"360\"\n",
       "            src=\"https://media.uwex.edu/content/ds/ds775_r19/ds775_lesson9-trees-or-trees/index.html\"\n",
       "            frameborder=\"0\"\n",
       "            allowfullscreen\n",
       "        ></iframe>\n",
       "        "
      ],
      "text/plain": [
       "<IPython.lib.display.IFrame at 0x7f9ae54a8978>"
      ]
     },
     "execution_count": 22,
     "metadata": {
     },
     "output_type": "execute_result"
    }
   ],
   "source": [
    "# execute this cell for video\n",
    "play_video(\"ds775_lesson9-trees-or-trees\")"
   ]
  },
  {
   "cell_type": "markdown",
   "metadata": {
    "collapsed": false
   },
   "source": [
    "# More Self-Assessment"
   ]
  },
  {
   "cell_type": "markdown",
   "metadata": {
    "collapsed": false
   },
   "source": [
    "## *Self Assessment: Decision Tree Solution and Sensitivity Analysis*"
   ]
  },
  {
   "cell_type": "markdown",
   "metadata": {
    "collapsed": false
   },
   "source": [
    "**Textbook Problem 16.5-2**\n",
    "\n",
    "Now reconsider the expanded version of the Silicon Dynamics problem described in Problems 16.3-2 and 16.4-2. \n",
    "\n",
    "(a) Use Silver Decisions to construct and solve the decision tree for this\n",
    "problem.\n",
    "\n",
    "(b) Perform sensitivity analysis systematically by generating a data\n",
    "table that shows the optimal policy and the expected payoff (when using Bayes’ decision rule) when the prior probability of selling 10,000 computers is 0, 0.1, 0.2, ... , 1.\n",
    "\n",
    "(c) Assume now that the prior probabilities of the two levels of service are both 0.5. However, there is some uncertainty in the financial data (\\\\$15 million, \\\\$6 million, and $600) stated in Prob. 16.2.2. Each could vary from its base value by as much as 10 percent. For each one, perform sensitivity analysis to find what would happen if its value were at either end of this range of variability (without any change in the other two pieces of data) by adjusting the values in the data cells accordingly. Then do the same for the eight cases where all these pieces of data are at one end or the other of their ranges of variability."
   ]
  },
  {
   "cell_type": "markdown",
   "metadata": {
    "collapsed": false,
    "heading_collapsed": true
   },
   "source": [
    "## *Self Assessment: Expected Values and the Optimal Policy*"
   ]
  },
  {
   "cell_type": "markdown",
   "metadata": {
    "collapsed": false,
    "hidden": true
   },
   "source": [
    "**Textbook Problem 16.4-3**\n",
    "\n",
    "You are given the decision tree below, where the numbers in parentheses are probabilities and the numbers on the far right are payoffs at these terminal points. Analyze this decision tree **by hand** to obtain the optimal policy.  Upload an image of your handwritten tree with the solution. (Re-read section 16.4 if you're not sure what to do).\n",
    "\n",
    "<img src=\"images/screen-prob16_4-3.png\" alt=\"Solution\" width=\"460\">\n"
   ]
  },
  {
   "cell_type": "code",
   "execution_count": 0,
   "metadata": {
    "collapsed": false
   },
   "outputs": [
   ],
   "source": [
   ]
  }
 ],
 "metadata": {
  "kernelspec": {
   "display_name": "Python 3 (system-wide)",
   "language": "python",
   "metadata": {
    "cocalc": {
     "description": "Python 3 programming language",
     "priority": 100,
     "url": "https://www.python.org/"
    }
   },
   "name": "python3",
   "resource_dir": "/ext/jupyter/kernels/python3"
  },
  "language_info": {
   "codemirror_mode": {
    "name": "ipython",
    "version": 3
   },
   "file_extension": ".py",
   "mimetype": "text/x-python",
   "name": "python",
   "nbconvert_exporter": "python",
   "pygments_lexer": "ipython3",
   "version": "3.8.5"
  },
  "toc": {
   "base_numbering": 1,
   "nav_menu": {
   },
   "number_sections": true,
   "sideBar": true,
   "skip_h1_title": false,
   "title_cell": "Table of Contents",
   "title_sidebar": "Contents",
   "toc_cell": false,
   "toc_position": {
    "height": "calc(100% - 180px)",
    "left": "10px",
    "top": "150px",
    "width": "325.227px"
   },
   "toc_section_display": true,
   "toc_window_display": true
  }
 },
 "nbformat": 4,
 "nbformat_minor": 4
}
{
 "cells": [
  {
   "cell_type": "code",
   "execution_count": 37,
   "metadata": {
    "collapsed": false
   },
   "outputs": [
   ],
   "source": [
    "# generate n cities around a circle and write to json file\n",
    "# optimal tour is just 0,1,2,...,n-1\n",
    "import numpy as np\n",
    "import json\n",
    "n = 20 # change this to number of cities\n",
    "r = 10000\n",
    "t = np.linspace(0, 2*np.pi, n+1)[0:n]\n",
    "x = np.array([r * np.cos(t),r * np.sin(t)]).transpose()\n",
    "from scipy.spatial import distance_matrix\n",
    "dm = np.round(distance_matrix(x,x)).astype(int).tolist()\n",
    "opt_dist = n*dm[0][1]\n",
    "opt_tour = list(range(n))\n",
    "data = {\"TourSize\":n,\"OptTour\":opt_tour,\"OptDistance\":opt_dist,\"DistanceMatrix\":dm}\n",
    "with open('Circle.json', 'w') as outfile:\n",
    "    json.dump(data, outfile)"
   ]
  },
  {
   "cell_type": "code",
   "execution_count": 35,
   "metadata": {
    "collapsed": false
   },
   "outputs": [
    {
     "data": {
      "text/plain": [
       "[0, 1, 2, 3, 4, 5, 6, 7, 8, 9, 10, 11, 12, 13, 14, 15, 16, 17, 18, 19]"
      ]
     },
     "execution_count": 35,
     "metadata": {
     },
     "output_type": "execute_result"
    }
   ],
   "source": [
    "opt_tour"
   ]
  },
  {
   "cell_type": "code",
   "execution_count": 36,
   "metadata": {
    "collapsed": false
   },
   "outputs": [
    {
     "data": {
      "text/plain": [
       "62580"
      ]
     },
     "execution_count": 36,
     "metadata": {
     },
     "output_type": "execute_result"
    }
   ],
   "source": [
    "opt_dist"
   ]
  },
  {
   "cell_type": "code",
   "execution_count": 11,
   "metadata": {
    "collapsed": false
   },
   "outputs": [
    {
     "data": {
      "text/plain": [
       "array([ 0.00000000e+00,  3.09016994e+02,  5.87785252e+02,  8.09016994e+02,\n",
       "        9.51056516e+02,  1.00000000e+03,  9.51056516e+02,  8.09016994e+02,\n",
       "        5.87785252e+02,  3.09016994e+02,  1.22464680e-13, -3.09016994e+02,\n",
       "       -5.87785252e+02, -8.09016994e+02, -9.51056516e+02, -1.00000000e+03,\n",
       "       -9.51056516e+02, -8.09016994e+02, -5.87785252e+02, -3.09016994e+02])"
      ]
     },
     "execution_count": 11,
     "metadata": {
     },
     "output_type": "execute_result"
    }
   ],
   "source": [
    "y"
   ]
  },
  {
   "cell_type": "code",
   "execution_count": 6,
   "metadata": {
    "collapsed": false
   },
   "outputs": [
    {
     "data": {
      "text/plain": [
       "array([1000.        ,  945.8172417 ,  789.1405094 ,  546.94815812,\n",
       "        245.48548714,  -82.57934547, -401.69542465, -677.28157163,\n",
       "       -879.47375121, -986.3613034 , -986.3613034 , -879.47375121,\n",
       "       -677.28157163, -401.69542465,  -82.57934547,  245.48548714,\n",
       "        546.94815812,  789.1405094 ])"
      ]
     },
     "execution_count": 6,
     "metadata": {
     },
     "output_type": "execute_result"
    }
   ],
   "source": [
    "x[0:18]"
   ]
  },
  {
   "cell_type": "code",
   "execution_count": 0,
   "metadata": {
    "collapsed": false
   },
   "outputs": [
   ],
   "source": [
   ]
  }
 ],
 "metadata": {
  "kernelspec": {
   "display_name": "Python 3 (system-wide)",
   "language": "python",
   "metadata": {
    "cocalc": {
     "description": "Python 3 programming language",
     "priority": 100,
     "url": "https://www.python.org/"
    }
   },
   "name": "python3"
  },
  "language_info": {
   "codemirror_mode": {
    "name": "ipython",
    "version": 3
   },
   "file_extension": ".py",
   "mimetype": "text/x-python",
   "name": "python",
   "nbconvert_exporter": "python",
   "pygments_lexer": "ipython3",
   "version": "3.8.2"
  }
 },
 "nbformat": 4,
 "nbformat_minor": 4
}
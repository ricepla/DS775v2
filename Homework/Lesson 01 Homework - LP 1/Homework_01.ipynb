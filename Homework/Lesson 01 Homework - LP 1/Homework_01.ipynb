{
 "cells": [
  {
   "cell_type": "code",
   "execution_count": 1,
   "metadata": {
    "code_folding": [
     0
    ],
    "collapsed": false
   },
   "outputs": [
   ],
   "source": [
    "# execute to import notebook styling for tables and width etc.\n",
    "from IPython.core.display import HTML\n",
    "import urllib.request\n",
    "response = urllib.request.urlopen('https://raw.githubusercontent.com/DataScienceUWL/DS775v2/master/ds755.css')\n",
    "HTML(response.read().decode(\"utf-8\"));"
   ]
  },
  {
   "cell_type": "markdown",
   "metadata": {
    "collapsed": false
   },
   "source": [
    "<font size=18>Lesson 01 Homework</font>\n",
    "\n",
    "<font color=\"red\">Each problem has a tag, e.g. \"HW1.2\"  If you ask a question on Piazza, include the tag in the subject line.  For problems with multiple parts, there is a separate tag for each problem part.</font>"
   ]
  },
  {
   "cell_type": "markdown",
   "metadata": {
    "collapsed": false,
    "heading_collapsed": true
   },
   "source": [
    "# HW1.1 - LP Assumptions Multiple Choice Question"
   ]
  },
  {
   "cell_type": "markdown",
   "metadata": {
    "collapsed": false,
    "hidden": true
   },
   "source": [
    "A solution for which all constraints are satisfied is \n",
    "\n",
    "a. a feasible solution \n",
    "\n",
    "b. an objective function\n",
    "\n",
    "c. standard form\n",
    "\n",
    "d. sensitivity analysis\n",
    "\n",
    "e. the certainty assumption"
   ]
  },
  {
   "cell_type": "markdown",
   "metadata": {
    "collapsed": false,
    "hidden": true
   },
   "source": [
    "<font color = \"blue\"> *** 2 points -  answer in cell below *** (don't delete this cell) </font>"
   ]
  },
  {
   "cell_type": "markdown",
   "metadata": {
    "collapsed": false,
    "hidden": true
   },
   "source": [
    "<font color = \"green\">\n",
    "replace this text with answer, your answer should be green.   \n",
    "</font>"
   ]
  },
  {
   "cell_type": "markdown",
   "metadata": {
    "collapsed": false,
    "heading_collapsed": true
   },
   "source": [
    "# HW1.2- Unbounded Feasible Region"
   ]
  },
  {
   "cell_type": "markdown",
   "metadata": {
    "collapsed": false,
    "hidden": true
   },
   "source": [
    "True or False:  An unbounded feasible region cannot have an optimal solution."
   ]
  },
  {
   "cell_type": "markdown",
   "metadata": {
    "collapsed": false,
    "hidden": true
   },
   "source": [
    "<font color = \"blue\"> *** 2 points -  answer in cell below *** (don't delete this cell) </font>"
   ]
  },
  {
   "cell_type": "markdown",
   "metadata": {
    "collapsed": false,
    "hidden": true
   },
   "source": [
    "<font color = \"green\">\n",
    "replace this text with answer, your answer should be green   \n",
    "</font>"
   ]
  },
  {
   "cell_type": "markdown",
   "metadata": {
    "collapsed": false,
    "heading_collapsed": true
   },
   "source": [
    "# HW 1.3 - LP Multiple Choice Question"
   ]
  },
  {
   "cell_type": "markdown",
   "metadata": {
    "collapsed": false,
    "hidden": true
   },
   "source": [
    "Which of the following is NOT an assumption of linear programming?\n",
    "\n",
    "a. Proportionality assumption\n",
    "\n",
    "b. Independence assumption\n",
    "\n",
    "c. Additivity assumption\n",
    "\n",
    "d. Divisibility assumption\n",
    "\n",
    "e. Certainty assumption"
   ]
  },
  {
   "cell_type": "markdown",
   "metadata": {
    "collapsed": false,
    "hidden": true
   },
   "source": [
    "<font color = \"blue\"> *** 2 points -  answer in cell below *** (don't delete this cell) </font>"
   ]
  },
  {
   "cell_type": "markdown",
   "metadata": {
    "collapsed": false,
    "hidden": true
   },
   "source": [
    "<font color = \"green\">\n",
    "replace this text with answer, your answer should be green   \n",
    "</font>"
   ]
  },
  {
   "cell_type": "markdown",
   "metadata": {
    "collapsed": false,
    "heading_collapsed": true
   },
   "source": [
    "# HW1.4 - Common LP Type"
   ]
  },
  {
   "cell_type": "markdown",
   "metadata": {
    "collapsed": false,
    "hidden": true
   },
   "source": [
    "True or False:  The most common type of linear programming problem is allocating limited resources among several competing activities. "
   ]
  },
  {
   "cell_type": "markdown",
   "metadata": {
    "collapsed": false,
    "hidden": true
   },
   "source": [
    "<font color = \"blue\"> *** 2 points -  answer in cell below *** (don't delete this cell) </font>"
   ]
  },
  {
   "cell_type": "markdown",
   "metadata": {
    "collapsed": false,
    "hidden": true
   },
   "source": [
    "<font color = \"green\">\n",
    "replace this text with answer, your answer should be green   \n",
    "</font>"
   ]
  },
  {
   "cell_type": "markdown",
   "metadata": {
    "collapsed": false,
    "heading_collapsed": true
   },
   "source": [
    "# HW1.5 Feasibility Question"
   ]
  },
  {
   "cell_type": "markdown",
   "metadata": {
    "collapsed": false,
    "hidden": true
   },
   "source": [
    "A feasible solution that has the most favorable value of the objective function is called  \n",
    "\n",
    "a. the proportionality assumption\n",
    "\n",
    "b. a functional constraint\n",
    "\n",
    "c. the feasible region\n",
    "\n",
    "d. an optimal solution\n",
    "\n",
    "e. sensitivity analysis"
   ]
  },
  {
   "cell_type": "markdown",
   "metadata": {
    "collapsed": false,
    "hidden": true
   },
   "source": [
    "<font color = \"blue\"> *** 2 points -  answer in cell below *** (don't delete this cell) </font>"
   ]
  },
  {
   "cell_type": "markdown",
   "metadata": {
    "collapsed": false,
    "hidden": true
   },
   "source": [
    "<font color = \"green\">\n",
    "replace this text with answer, your answer should be green   \n",
    "</font>"
   ]
  },
  {
   "cell_type": "markdown",
   "metadata": {
    "collapsed": false,
    "heading_collapsed": true
   },
   "source": [
    "# HW1.6 Identifying Violations of LP Assumptions"
   ]
  },
  {
   "cell_type": "markdown",
   "metadata": {
    "collapsed": false,
    "hidden": true
   },
   "source": [
    "For parts (a) - (c) below, state which, if any, linear programming model assumptions are violated and why.\n",
    "\n",
    "**HW1.6a** - Minimize $Z = 3x_1 + 0.3x_2,$\n",
    "\n",
    "subject to \n",
    "\n",
    "$\n",
    "\\begin{array}{rcrcr}\n",
    "5 x_1 & + &  3 x_2 & \\geq & 9 \\\\\n",
    " x_1 & + &  3 x_2 & \\geq & b_2 \\\\\n",
    "12 x_1 & * & x_2 & \\geq & 15\n",
    "\\end{array}\n",
    "$\n",
    "\n",
    "and $x_1 \\geq 0, x_2 \\geq 0,$\n",
    "\n",
    "$5 \\leq b_2 \\leq 10.$"
   ]
  },
  {
   "cell_type": "markdown",
   "metadata": {
    "collapsed": false,
    "hidden": true
   },
   "source": [
    "<font color = \"blue\"> *** 2 points -  answer in cell below *** (don't delete this cell) </font>"
   ]
  },
  {
   "cell_type": "markdown",
   "metadata": {
    "collapsed": false,
    "hidden": true
   },
   "source": [
    "<font color = \"green\">\n",
    "replace this text with answer, your answer should be green   \n",
    "</font>"
   ]
  },
  {
   "cell_type": "markdown",
   "metadata": {
    "collapsed": false,
    "hidden": true
   },
   "source": [
    "**HW1.6b** - Maximize $Z = (x_1 + 2x_2)^2,$\n",
    "\n",
    "subject to \n",
    "\n",
    "$\n",
    "\\begin{array}{rcrcr}\n",
    " &  &  k x_2 & \\leq & 70 \\\\\n",
    " x_1 & + &  & \\leq & 80 \\\\\n",
    " x_1 & + & x_2 & \\leq & 100\n",
    "\\end{array}\n",
    "$\n",
    "\n",
    "and $x_1 \\geq 0, x_2 \\geq 0$\n",
    "\n",
    "$k \\geq 0$"
   ]
  },
  {
   "cell_type": "markdown",
   "metadata": {
    "collapsed": false,
    "hidden": true
   },
   "source": [
    "<font color = \"blue\"> *** 2 points -  answer in cell below *** (don't delete this cell) </font>"
   ]
  },
  {
   "cell_type": "markdown",
   "metadata": {
    "collapsed": false,
    "hidden": true
   },
   "source": [
    "<font color = \"green\">\n",
    "replace this text with answer, your answer should be green   \n",
    "</font>"
   ]
  },
  {
   "cell_type": "markdown",
   "metadata": {
    "collapsed": false,
    "hidden": true
   },
   "source": [
    "**HW1.6c** - Maximize $Z = 25 x + 30 y - 10$\n",
    "\n",
    "subject to \n",
    "\n",
    "$\n",
    "\\begin{array}{rcrcr}\n",
    "0.02 x & + & 0.01 y & \\leq & 1 \\\\\n",
    "0.5 x & + & 0.5 y & \\leq & 4 \\\\\n",
    "0.01 x & + & 0.02 y & \\leq & 1.5\n",
    "\\end{array}\n",
    "$\n",
    "\n",
    "$x = 1,2,3, \\ldots $\n",
    "\n",
    "$y \\geq 0$ "
   ]
  },
  {
   "cell_type": "markdown",
   "metadata": {
    "collapsed": false,
    "hidden": true
   },
   "source": [
    "<font color = \"blue\"> *** 2 points -  answer in cell below *** (don't delete this cell) </font>"
   ]
  },
  {
   "cell_type": "markdown",
   "metadata": {
    "collapsed": false,
    "hidden": true
   },
   "source": [
    "<font color = \"green\">\n",
    "replace this text with answer, your answer should be green   \n",
    "</font>"
   ]
  },
  {
   "cell_type": "markdown",
   "metadata": {
    "collapsed": false,
    "heading_collapsed": true
   },
   "source": [
    "# HW1.7 - Textbook Problem 3.1-10"
   ]
  },
  {
   "cell_type": "markdown",
   "metadata": {
    "collapsed": false,
    "hidden": true
   },
   "source": [
    "Weenies and Buns is a food processing plant which\n",
    "  manufactures hot dogs and hot dog buns. They grind their own flour\n",
    "  for the hot dog buns at a maximum rate of 200 pounds per week. Each\n",
    "  hot dog bun requires 0.1 pound of flour. They currently have a\n",
    "  contract with Pigland, Inc., which specifies that a delivery of 800\n",
    "  pounds of pork product is delivered every Monday. Each hot dog\n",
    "  requires 0.25 pound of pork product. All the other ingredients in the\n",
    "  hot dogs and hot dog buns are in plentiful supply. Finally, the\n",
    "  labor force at Weenies and Buns consists of 5 employees working full\n",
    "  time (40 hours per week each). Each hot dog requires 3 minutes of\n",
    "  labor, and each hot dog bun requires 2 minutes of labor. Each hot\n",
    "  dog yields a profit of \\$0.88, and each bun yields a profit of \\$0.33.\n",
    "  Weenies and Buns would like to know how many hot dogs and how many\n",
    "  hot dog buns they should produce each week so as to achieve the\n",
    "  highest possible profit. \n",
    "\n",
    "**HW1.7a** - Formulate a linear programming model for this problem.  Use the cell below to input your answer.  You can either use LaTeX to format the equations or neatly write out the equations by hand.\n",
    "\n",
    "**Important note on including images**:  in the question below you can either use LaTeX to typeset your mathematics or you can write the answer neatly by hand and take a picture of it and save it as a file in the `images` directory found in the same directory as the homework notebook, e.g. \"myfile.png\".  At a minimum the image should cropped and rotated correctly.  Best would be to use an app like camscanner (android) to cleanly \"scan\" your work.  Once you have the file, then put it in the same directory as the Jupyter notebook and then put an HTML tag in a markdown cell like this:\n",
    "  <pre>&lt;img src=\"./images/myfile.png\" width=800&gt;</pre>  Adjust the width as needed so that text is readable and the image fits well within a broswer window (e.g. width <= 1200).  Do not drag and drop images or use CoCalcs menus to choose and insert an image as it may not render when your instructor opens your notebook."
   ]
  },
  {
   "cell_type": "markdown",
   "metadata": {
    "collapsed": false,
    "hidden": true
   },
   "source": [
    "<font color = \"blue\"> *** 2 points -  answer in cell below *** (don't delete this cell) </font>"
   ]
  },
  {
   "cell_type": "markdown",
   "metadata": {
    "collapsed": false,
    "hidden": true
   },
   "source": [
    "<font color = \"green\">\n",
    "replace this text with answer, your answer should be green   \n",
    "</font>"
   ]
  },
  {
   "cell_type": "markdown",
   "metadata": {
    "collapsed": false,
    "hidden": true
   },
   "source": [
    "**HW1.7b** - Use the graphical method to solve this model.  Include a summary of the solution and a picture (screen capture)."
   ]
  },
  {
   "cell_type": "markdown",
   "metadata": {
    "collapsed": false,
    "hidden": true
   },
   "source": [
    "<font color = \"blue\"> *** 2 points -  answer in cell below *** (don't delete this cell) </font>"
   ]
  },
  {
   "cell_type": "markdown",
   "metadata": {
    "collapsed": false,
    "hidden": true
   },
   "source": [
    "<font color = \"green\">\n",
    "replace this text with answer, your answer should be green   \n",
    "</font>"
   ]
  },
  {
   "cell_type": "markdown",
   "metadata": {
    "collapsed": false
   },
   "source": [
    "# HW1.8 - Textbook Problem 3.2-2"
   ]
  },
  {
   "cell_type": "markdown",
   "metadata": {
    "collapsed": false
   },
   "source": [
    "The shaded area in the following graph represents the\n",
    "  feasible region of a linear programming problem whose objective\n",
    "  function is to be maximized. \n",
    "  \n",
    "<img src=\"images/screen-problem4.png\" alt=\"Problem\" width=\"440\">\n",
    "\n",
    "Label each of the following statements as True or False, and then\n",
    "justify your answer based on the graphical method. In each case, give\n",
    "an example of an objective function that illustrates your answer.  Each of the three answers should include True/False, the objective function, and a picture of the graphical method illustrating your answer.\n",
    "\n",
    "**HW1.8a** - If (3, 3) produces a larger value of the objective function than (0, 2) and (6, 3), then (3, 3) must be an optimal solution."
   ]
  },
  {
   "cell_type": "markdown",
   "metadata": {
    "collapsed": false
   },
   "source": [
    "<font color = \"blue\"> *** 2 points -  answer in cell below *** (don't delete this cell) </font>"
   ]
  },
  {
   "cell_type": "markdown",
   "metadata": {
    "collapsed": false
   },
   "source": [
    "<font color = \"green\">\n",
    "replace this text with answer, your answer should be green   \n",
    "</font>"
   ]
  },
  {
   "cell_type": "markdown",
   "metadata": {
    "collapsed": false
   },
   "source": [
    "**HW1.8b** - If (3, 3) is an optimal solution and multiple optimal solutions exist, then either (0, 2) or (6, 3) must also be an optimal solution."
   ]
  },
  {
   "cell_type": "markdown",
   "metadata": {
    "collapsed": false
   },
   "source": [
    "<font color = \"blue\"> *** 2 points -  answer in cell below *** (don't delete this cell) </font>"
   ]
  },
  {
   "cell_type": "markdown",
   "metadata": {
    "collapsed": false
   },
   "source": [
    "<font color = \"green\">\n",
    "replace this text with answer, your answer should be green   \n",
    "</font>"
   ]
  },
  {
   "cell_type": "markdown",
   "metadata": {
    "collapsed": false
   },
   "source": [
    "**HW1.8c** - The point (0, 0) cannot be an optimal solution."
   ]
  },
  {
   "cell_type": "markdown",
   "metadata": {
    "collapsed": false
   },
   "source": [
    "<font color = \"blue\"> *** 2 points -  answer in cell below *** (don't delete this cell) </font>"
   ]
  },
  {
   "cell_type": "markdown",
   "metadata": {
    "collapsed": false
   },
   "source": [
    "<font color = \"green\">\n",
    "replace this text with answer, your answer should be green   \n",
    "</font>"
   ]
  },
  {
   "cell_type": "markdown",
   "metadata": {
    "collapsed": false
   },
   "source": [
    "# HW1.9 - Textbook Problem 3.2-6"
   ]
  },
  {
   "cell_type": "markdown",
   "metadata": {
    "collapsed": false
   },
   "source": [
    "Suppose that the following constraints have been provided for a linear\n",
    "programming model.\n",
    "\n",
    "$\n",
    "\\begin{array}{rcrcr}\n",
    "-x_1 & + &  3 x_2 & \\leq & 30 \\\\\n",
    "-3 x_1 & + &   x_2 & \\leq & 30 \n",
    "\\end{array}\n",
    "$\n",
    "\n",
    "and $x_1 \\geq 0, x_2 \\geq 0.$\n",
    "\n",
    "**HW1.9a** - Demonstrate that the feasible region is unbounded."
   ]
  },
  {
   "cell_type": "markdown",
   "metadata": {
    "collapsed": false
   },
   "source": [
    "<font color = \"blue\"> *** 2 points -  answer in cell below *** (don't delete this cell) </font>"
   ]
  },
  {
   "cell_type": "markdown",
   "metadata": {
    "collapsed": false
   },
   "source": [
    "<font color = \"green\">\n",
    "replace this text with answer, your answer should be green   \n",
    "</font>"
   ]
  },
  {
   "cell_type": "markdown",
   "metadata": {
    "collapsed": false
   },
   "source": [
    "**HW1.9b** - If the objective is to maximize $Z =-x_1+x_2,$ does the model\n",
    "  have an optimal solution? If so, find it. If not, explain why not."
   ]
  },
  {
   "cell_type": "markdown",
   "metadata": {
    "collapsed": false
   },
   "source": [
    "<font color = \"blue\"> *** 2 points -  answer in cell below *** (don't delete this cell) </font>"
   ]
  },
  {
   "cell_type": "markdown",
   "metadata": {
    "collapsed": false
   },
   "source": [
    "<font color = \"green\">\n",
    "replace this text with answer, your answer should be green   \n",
    "</font>"
   ]
  },
  {
   "cell_type": "markdown",
   "metadata": {
    "collapsed": false
   },
   "source": [
    "**HW1.9c** - Repeat part (b) when the objective is to maximize $Z=x_1\n",
    "  - x_2$."
   ]
  },
  {
   "cell_type": "markdown",
   "metadata": {
    "collapsed": false
   },
   "source": [
    "<font color = \"blue\"> *** 2 points -  answer in cell below *** (don't delete this cell) </font>"
   ]
  },
  {
   "cell_type": "markdown",
   "metadata": {
    "collapsed": false
   },
   "source": [
    "<font color = \"green\">\n",
    "replace this text with answer, your answer should be green   \n",
    "</font>"
   ]
  },
  {
   "cell_type": "markdown",
   "metadata": {
    "collapsed": false
   },
   "source": [
    "**HW1.9d** - For objective functions where this model has no optimal\n",
    "  solution, does this mean that there are no good solutions according\n",
    "  to the model? Explain. What probably went wrong when formulating the\n",
    "  model?"
   ]
  },
  {
   "cell_type": "markdown",
   "metadata": {
    "collapsed": false
   },
   "source": [
    "<font color = \"blue\"> *** 2 points -  answer in cell below *** (don't delete this cell) </font>"
   ]
  },
  {
   "cell_type": "markdown",
   "metadata": {
    "collapsed": false
   },
   "source": [
    "<font color = \"green\">\n",
    "replace this text with answer, your answer should be green   \n",
    "</font>"
   ]
  },
  {
   "cell_type": "markdown",
   "metadata": {
    "collapsed": false,
    "heading_collapsed": true
   },
   "source": [
    "# HW1.10 - Textbook Problem 3.4-15"
   ]
  },
  {
   "cell_type": "markdown",
   "metadata": {
    "collapsed": false,
    "hidden": true
   },
   "source": [
    "Oxbridge University maintains a powerful mainframe computer\n",
    "  for research use by its faculty, Ph.D. students, and research\n",
    "  associates. During all working hours, an operator must be available\n",
    "  to operate and maintain the computer, as well as to perform some\n",
    "  programming services. Beryl Ingram, the director of the computer\n",
    "  facility, oversees the operation.  \n",
    "\n",
    "  It is now the beginning of the\n",
    "  fall semester, and Beryl is confronted with the problem of assigning\n",
    "  different working hours to her operators. Because all the operators\n",
    "  are currently enrolled in the university, they are available to work\n",
    "  only a limited number of hours\n",
    "  each day, as shown in the following table: \n",
    "  \n",
    "  <img src=\"images/screen-problem5.png\" width=\"440\">\n",
    "  \n",
    "  There are six operators (four undergraduate students and two\n",
    "  graduate students). They all have different wage rates because of\n",
    "  differences in their experience with computers and in their pro-\n",
    "  gramming ability. The above table shows their wage rates, along with\n",
    "  the maximum number of hours that each can work each day.  \n",
    "\n",
    "  Each\n",
    "  operator is guaranteed a certain minimum number of hours per week\n",
    "  that will maintain an adequate knowledge of the operation. This\n",
    "  level is set arbitrarily at 8 hours per week for the undergraduate\n",
    "  students (K. C., D. H., H. B., and S. C.) and 7 hours per week for\n",
    "  the graduate students (K. S. and N. K.).\n",
    "\n",
    "  The computer facility is to be open for operation from 8 A.M. to 10\n",
    "  P.M. Monday through Friday with exactly one operator on duty during\n",
    "  these hours. On Saturdays and Sundays, the computer is to be\n",
    "  operated by other staff.  Because of a tight budget, Beryl has to\n",
    "  minimize cost. She wishes to determine the number of hours she\n",
    "  should assign to each operator on each day.\n",
    "\n",
    "  Because of a tight budget, Beryl has to minimize cost. She wishes to\n",
    "  determine the number of hours she should assign to each operator on\n",
    "  each day.\n",
    "  \n",
    "  **Note**:  see instructions in Problem 7 for including images."
   ]
  },
  {
   "cell_type": "markdown",
   "metadata": {
    "collapsed": false,
    "hidden": true
   },
   "source": [
    "**HW1.10a** - Formulate a linear programming model for this problem.  LaTeX or handwritten with picture."
   ]
  },
  {
   "cell_type": "code",
   "execution_count": 0,
   "metadata": {
    "collapsed": false
   },
   "outputs": [
   ],
   "source": [
   ]
  },
  {
   "cell_type": "markdown",
   "metadata": {
    "collapsed": false,
    "hidden": true
   },
   "source": [
    "<font color = \"blue\"> *** 2 points -  answer in cell below *** (don't delete this cell) </font>"
   ]
  },
  {
   "cell_type": "markdown",
   "metadata": {
    "collapsed": false,
    "hidden": true
   },
   "source": [
    "<font color = \"green\">\n",
    "replace this text with answer, your answer should be green   \n",
    "</font>"
   ]
  },
  {
   "cell_type": "markdown",
   "metadata": {
    "collapsed": false,
    "hidden": true
   },
   "source": [
    "**HW1.10b** - Use Pyomo to solve this problem. Your solution should include all necessary code and inputs and it should produce formatted output.\n",
    "\n",
    "**Note**:  for all code submissions, to get full credit the code must run without error and the output must be included in the notebook.  Code that doesn't run or if output isn't included then your solution will earn at most half credit."
   ]
  },
  {
   "cell_type": "markdown",
   "metadata": {
    "collapsed": false,
    "hidden": true
   },
   "source": [
    "<font color = \"blue\"> *** 6 points -  answer in cell below *** (don't delete this cell) </font>"
   ]
  },
  {
   "cell_type": "code",
   "execution_count": 0,
   "metadata": {
    "collapsed": false,
    "hidden": true
   },
   "outputs": [
   ],
   "source": [
   ]
  },
  {
   "cell_type": "markdown",
   "metadata": {
    "collapsed": false
   },
   "source": [
    "# HW1.11 - Textbook Problem 3.5-3 (a,c,d)"
   ]
  },
  {
   "cell_type": "markdown",
   "metadata": {
    "collapsed": false
   },
   "source": [
    "Ed Butler is the production manager for the Bilco Corporation, which\n",
    "produces three types of spare parts for automobiles. The manufacture\n",
    "of each part requires processing on each of two machines, with the\n",
    "following processing times (in hours): \n",
    "\n",
    "<img src=\"images/screen-problem6a.png\" width=\"440\">\n",
    "\n",
    "Each machine is available 40 hours per month. Each part manufactured\n",
    "will yield a unit profit as follows:\n",
    "\n",
    "<img src=\"images/screen-problem6b.png\" width=\"440\">\n",
    "\n",
    "Ed wants to determine the mix of spare parts to produce in order to\n",
    "maximize total profit.\n",
    "\n",
    "**HW1.11a** - Formulate a linear programming model for this problem.  LaTeX or picture of handwritten math.  *Hint:*  there should three decision variables not six."
   ]
  },
  {
   "cell_type": "markdown",
   "metadata": {
    "collapsed": false
   },
   "source": [
    "<font color = \"blue\"> *** 2 points -  answer in cell below *** (don't delete this cell) </font>"
   ]
  },
  {
   "cell_type": "markdown",
   "metadata": {
    "collapsed": false
   },
   "source": [
    "<font color = \"green\">\n",
    "replace this text with answer, your answer should be green   \n",
    "</font>"
   ]
  },
  {
   "cell_type": "markdown",
   "metadata": {
    "collapsed": false
   },
   "source": [
    "**HW1.11c** - Make three guesses of your own choosing for the decision variables to get an optimal solution. Check each one for feasibility and, if feasible, find the value of the objective function. Which feasible guess has the best objective function value?  (A nice way to do this is to write a function where you input the values of the decision variables and print out the value of the objective function and check each constraint. Call the function for each guess.)"
   ]
  },
  {
   "cell_type": "markdown",
   "metadata": {
    "collapsed": false
   },
   "source": [
    "<font color = \"blue\"> *** 2 points -  answer in cell below *** (don't delete this cell) </font>"
   ]
  },
  {
   "cell_type": "markdown",
   "metadata": {
    "collapsed": false
   },
   "source": [
    "<font color = \"green\">\n",
    "replace this text with answer, your answer should be green   \n",
    "</font>"
   ]
  },
  {
   "cell_type": "markdown",
   "metadata": {
    "collapsed": false
   },
   "source": [
    "**HW1.11d** - Use Pyomo to solve the model by the simplex method.  Complete code should run, include imports, and formatted output."
   ]
  },
  {
   "cell_type": "markdown",
   "metadata": {
    "collapsed": false
   },
   "source": [
    "<font color = \"blue\"> *** 4 points -  answer in cell below *** (don't delete this cell) </font>"
   ]
  },
  {
   "cell_type": "markdown",
   "metadata": {
    "collapsed": false
   },
   "source": [
   ]
  }
 ],
 "metadata": {
  "kernelspec": {
   "display_name": "Python 3 (system-wide)",
   "language": "python",
   "metadata": {
    "cocalc": {
     "description": "Python 3 programming language",
     "priority": 100,
     "url": "https://www.python.org/"
    }
   },
   "name": "python3",
   "resource_dir": "/ext/jupyter/kernels/python3"
  },
  "language_info": {
   "codemirror_mode": {
    "name": "ipython",
    "version": 3
   },
   "file_extension": ".py",
   "mimetype": "text/x-python",
   "name": "python",
   "nbconvert_exporter": "python",
   "pygments_lexer": "ipython3",
   "version": "3.8.2"
  },
  "toc": {
   "base_numbering": 1,
   "nav_menu": {
   },
   "number_sections": true,
   "sideBar": true,
   "skip_h1_title": false,
   "title_cell": "Table of Contents",
   "title_sidebar": "Contents",
   "toc_cell": false,
   "toc_position": {
    "height": "calc(100% - 180px)",
    "left": "10px",
    "top": "150px",
    "width": "270.66px"
   },
   "toc_section_display": true,
   "toc_window_display": false
  },
  "varInspector": {
   "cols": {
    "lenName": 16,
    "lenType": 16,
    "lenVar": 40
   },
   "kernels_config": {
    "python": {
     "delete_cmd_postfix": "",
     "delete_cmd_prefix": "del ",
     "library": "var_list.py",
     "varRefreshCmd": "print(var_dic_list())"
    },
    "r": {
     "delete_cmd_postfix": ") ",
     "delete_cmd_prefix": "rm(",
     "library": "var_list.r",
     "varRefreshCmd": "cat(var_dic_list()) "
    }
   },
   "types_to_exclude": [
    "module",
    "function",
    "builtin_function_or_method",
    "instance",
    "_Feature"
   ],
   "window_display": false
  }
 },
 "nbformat": 4,
 "nbformat_minor": 4
}
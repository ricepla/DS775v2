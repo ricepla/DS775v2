{
 "cells": [
  {
   "cell_type": "code",
   "execution_count": 0,
   "metadata": {
    "code_folding": [
     0
    ],
    "collapsed": false
   },
   "outputs": [
   ],
   "source": [
    "# execute to import notebook styling for tables and width etc.\n",
    "from IPython.core.display import HTML\n",
    "import urllib.request\n",
    "response = urllib.request.urlopen('https://raw.githubusercontent.com/DataScienceUWL/DS775v2/master/ds755.css')\n",
    "HTML(response.read().decode(\"utf-8\"));"
   ]
  },
  {
   "cell_type": "markdown",
   "metadata": {
    "collapsed": false
   },
   "source": [
    "<font size=18>Lesson 10 Homework</font>"
   ]
  },
  {
   "cell_type": "markdown",
   "metadata": {
    "collapsed": false
   },
   "source": [
    "# **HW10.1** - Build a Simple Recommender for Low-Budget Films"
   ]
  },
  {
   "cell_type": "markdown",
   "metadata": {
    "collapsed": false
   },
   "source": [
    "You will be using the data set **tmdb_5000_movies.csv** to build three simple recommender systems, computing your score three different ways. The point to this problem is to demonstrate that when you apply filters and when you calculate m and C matters, though there is no one right way to do it. \n",
    "\n",
    "For each piece of this problem, you'll start with all of the movies.\n",
    "\n",
    "For each piece of this problem, you will apply the following filters, but at different times. In your prep work, we recommend that you create a function that takes in a dataframe, applies the following filters, and returns a dataframe. This is not required, but it will make your code easier.\n",
    "- movies with runtime of 200 minutes or less\n",
    "- movies with a budget between (and exclusive of) \\\\$0 million and \\\\$3 million\n",
    "- movies by any production company except Universal Pictures or Warner Bros.\n",
    "\n",
    "Note that most movies are by more than one production company.\n",
    "\n",
    "This data set can be found in the data folder in the same folder as this notebook. \n",
    "\n",
    "**You will need to use the option encoding = \"ISO-8859-1\" in the read_csv function in order to open this file.** Use the examples given in the lesson and Banik's book as a guide. (Do not explode. Use the lesson approach.)\n",
    "\n",
    "For each of the resulting dataframes, output the top ten movies in order, based on the weighted rating. Display only the movie title, vote_count, vote_average, and weighted rating.\n",
    "\n"
   ]
  },
  {
   "cell_type": "markdown",
   "metadata": {
    "collapsed": false
   },
   "source": [
    "## Prep Work\n",
    "\n",
    "* Do your imports.\n",
    "* Create your weighted_rating function.\n",
    "* Optionally create an apply_filters function.\n",
    "* Read in the tmdb_5000_movies.csv. The only columns you will need are title, runtime, budget, production_companies, vote_count, and vote_average. (<a href=\"https://pandas.pydata.org/pandas-docs/stable/reference/api/pandas.read_csv.html\" target=\"_new\">Pandas has a handy parameter called \"usecols\" that you can use to read in just the needed columns.</a>)\n",
    "* Prep the production_companies column for filtering (similar to how we handed genres in the lesson - reminder: do not explode).\n",
    "* Print the total number of movies in the dataframe.\n",
    "* <a href=\"https://pandas.pydata.org/pandas-docs/stable/reference/api/pandas.DataFrame.copy.html\" target=\"_new\">Make 3 copies of this dataframe</a> - movies1, movies2, movies3.\n",
    "\n",
    "<font color = \"blue\"> *** 4 points -  answer in cell below *** (don't delete this cell) </font>\n"
   ]
  },
  {
   "cell_type": "code",
   "execution_count": 0,
   "metadata": {
    "collapsed": false
   },
   "outputs": [
   ],
   "source": [
    "# Use this cell to prep\n"
   ]
  },
  {
   "cell_type": "markdown",
   "metadata": {
    "collapsed": false
   },
   "source": [
    "## **HW10.1a** - Score, Then Filter\n",
    "In this approach, you will score the entire movies1 dataset, then you will filter the results.\n",
    "\n",
    "### Step-by-Step\n",
    "Using movies1...\n",
    "\n",
    "- Compute m as the movies that have a vote_count >= the 80th percentile. \n",
    "- Compute C as the mean of the vote average of all movies.\n",
    "- Calculate the weighted_rating score for each movie, adding a weighted_rating column to the dataframe.\n",
    "* Apply the following **filters**:\n",
    "    - movies with runtime of 200 minutes or less\n",
    "    - movies with a budget between (and exclusive of) \\\\$0 million and \\\\$3 million\n",
    "    - movies by any production company except Universal Pictures or Warner Bros.\n",
    "\n",
    "- Print m and C.\n",
    "- Print the total number of movies left at the end of this problem.\n",
    "- Display your top 10 results.\n",
    "\n",
    "<font color = \"blue\"> *** 3 points -  answer in cell below *** (don't delete this cell) </font>"
   ]
  },
  {
   "cell_type": "code",
   "execution_count": 0,
   "metadata": {
    "collapsed": false
   },
   "outputs": [
   ],
   "source": [
   ]
  },
  {
   "cell_type": "markdown",
   "metadata": {
    "collapsed": false
   },
   "source": [
    "## **HW10.1b** - Filter, Then Score\n",
    "In this approach, we'll first filter, and then score the movies.\n",
    "\n",
    "### Step-By-Step\n",
    "Starting with movies2...\n",
    "\n",
    "- Apply the following **filters**:\n",
    "    - movies with runtime of 200 minutes or less\n",
    "    - movies with a budget between (and exclusive of) \\\\$0 million and \\\\$3 million\n",
    "    - movies by any production company except Universal Pictures or Warner Bros.\n",
    "- Compute m as the movies that have a vote_count >= the 80th percentile, out of the remaining movies. \n",
    "- Compute C as the mean of the vote_average of the remaining movies.\n",
    "\n",
    "- Calculate the weighted rating score.\n",
    "- Print m and C.\n",
    "- Print the total number of movies left.\n",
    "- Display your top 10 results.\n",
    "\n",
    "<font color = \"blue\"> *** 3 points -  answer in cell below *** (don't delete this cell) </font>"
   ]
  },
  {
   "cell_type": "code",
   "execution_count": 0,
   "metadata": {
    "collapsed": false
   },
   "outputs": [
   ],
   "source": [
    "\n"
   ]
  },
  {
   "cell_type": "markdown",
   "metadata": {
    "collapsed": false
   },
   "source": [
    "## **HW10.1c** - Popular Movies Only\n",
    "In this approach, you're going to first filter to the top 20% of all movies, then filter to our critera, then compute m and C.\n",
    "\n",
    "### Step-by-Step\n",
    "Starting with movies3...\n",
    "\n",
    "* Filter movies3 to the top 20% of vote_count.\n",
    "* Apply the following **filters**:\n",
    "    - movies with runtime of 200 minutes or less\n",
    "    - movies with a budget between (and exclusive of) \\\\$0 million and \\\\$3 million\n",
    "    - movies by any production company except Universal Pictures or Warner Bros.\n",
    "* Compute m as the movies that have a vote_count >= the 80th percentile, out of the remaining movies.\n",
    "* Compute C as the mean of the vote_average out of the remaining movies.\n",
    "* Calculate the weighted rating score.\n",
    "* Print m and C.\n",
    "* Print the total number of remaining movies.\n",
    "* Display your top 10 results.\n",
    "\n",
    "<font color = \"blue\"> *** 3 points -  answer in cell below *** (don't delete this cell) </font>\n"
   ]
  },
  {
   "cell_type": "code",
   "execution_count": 0,
   "metadata": {
    "collapsed": false
   },
   "outputs": [
   ],
   "source": [
   ]
  },
  {
   "cell_type": "markdown",
   "metadata": {
    "collapsed": false
   },
   "source": [
    "## **HW10.1d** - Which version of the score would you use? Why?\n",
    "\n",
    "Talk briefly about which approach you would take if you were recommending low-budget movies. \n",
    "\n",
    "<font color = \"blue\"> *** 2 point -  answer in cell below *** (don't delete this cell) </font>"
   ]
  },
  {
   "cell_type": "markdown",
   "metadata": {
    "collapsed": false
   },
   "source": [
    "<font color = \"green\">\n",
    "Enter your answer here. \n",
    "</font>"
   ]
  },
  {
   "cell_type": "markdown",
   "metadata": {
    "collapsed": false
   },
   "source": [
    "# **HW10.2** - Build a Knowledge-Based Recommender"
   ]
  },
  {
   "cell_type": "markdown",
   "metadata": {
    "collapsed": false
   },
   "source": [
    "Use the data set **tmdb_5000_movies.csv** to build a knowledge-based recommender system that solicits the following information listed below and then ranks the movies according to the IMDB weighted rating formula. Use all available movies to begin with (*i.e.* don't restrict it to just the top 20%, for example) Print the top 5 highest rated movies for this recommendation. \n",
    "\n",
    "Ask the user to enter answers to the following questions:\n",
    "\n",
    "- Enter a preferred genre. (Print a list of genres for the user to choose from before asking for their inputs.)\n",
    "- Enter another preferred genre.\n",
    "- Enter a minimum runtime (in minutes).\n",
    "- Enter a maximum runtime (in minutes).\n",
    "    \n",
    "Create the recommender to select movies with either genre entered. Be inclusive of the minimum (>=) and maximum (<=) runtimes.\n",
    "\n",
    "Calculate m (80th percentile) and C (mean of the vote_aveage) from your filtered dataset.\n",
    "\n",
    "Test your recommender by calling the function and having it give recommendations for genres \"crime\" and \"drama\" between of 50 and 120 minutes long and display only the movie title and the requested characteristics as well as the vote count, vote average, and IMDB weighted rating with your recommendations.\n",
    "\n",
    "Use the examples given in the lesson as a guide. (Do not explode.)\n",
    "\n",
    "Provide your code and a demonstration of the recommender below.  We may run your code as well.\n",
    "\n",
    "<font color = \"blue\"> *** 15 points -  answer in cell below *** (don't delete this cell) </font>"
   ]
  },
  {
   "cell_type": "code",
   "execution_count": 0,
   "metadata": {
    "collapsed": false
   },
   "outputs": [
   ],
   "source": [
   ]
  },
  {
   "cell_type": "markdown",
   "metadata": {
    "collapsed": false
   },
   "source": [
    "# **HW10.3** - Build a Content-Based Recommender"
   ]
  },
  {
   "cell_type": "markdown",
   "metadata": {
    "collapsed": false
   },
   "source": [
    "Use the data set **tmdb_5000_movies.csv** to build a meta-data based recommender by creating a \"soup\" based on the \n",
    "\n",
    "- all genres\n",
    "- top three keywords (Hint: Review page 55 of the book.)\n",
    "- top three production companies (Hint: Review page 55 of the book.)\n",
    "- overview\n",
    "\n",
    "Generate a similarity matrix using cosine similarity with the **CountVectorizer**. \n",
    "\n",
    "Be sure to delete the passed-in movie from the row of similarity scores before sorting the score tuples. (See the lesson, not the book.)\n",
    "\n",
    "**HW10.3a** - Put your code in the cell below, then answer the follow up questions.  Use the examples given in the lesson and Banik's book as a guide.\n",
    "\n",
    "<font color = \"blue\"> *** 10 points -  answer in cell below *** (don't delete this cell) </font>"
   ]
  },
  {
   "cell_type": "code",
   "execution_count": 0,
   "metadata": {
    "collapsed": false
   },
   "outputs": [
   ],
   "source": [
   ]
  },
  {
   "cell_type": "markdown",
   "metadata": {
    "collapsed": false
   },
   "source": [
    "**HW10.3b** -  After you have constructed it, print the \"soup\" for the first entry (the 0 entry).\n",
    "\n",
    "<font color = \"blue\"> *** 4 points -  answer in cell below *** (don't delete this cell) </font>"
   ]
  },
  {
   "cell_type": "code",
   "execution_count": 0,
   "metadata": {
    "collapsed": false
   },
   "outputs": [
   ],
   "source": [
   ]
  },
  {
   "cell_type": "markdown",
   "metadata": {
    "collapsed": false
   },
   "source": [
    "**HW103.** List the top 10 recommended movies that go with the movie Halloween. Display only the movie titles and genres of your recommendations.\n",
    "\n",
    "<font color = \"blue\"> *** 6 points -  answer in cell below *** (don't delete this cell) </font>"
   ]
  },
  {
   "cell_type": "code",
   "execution_count": 0,
   "metadata": {
    "collapsed": false
   },
   "outputs": [
   ],
   "source": [
   ]
  }
 ],
 "metadata": {
  "kernelspec": {
   "display_name": "Python 3 (system-wide)",
   "language": "python",
   "metadata": {
    "cocalc": {
     "description": "Python 3 programming language",
     "priority": 100,
     "url": "https://www.python.org/"
    }
   },
   "name": "python3",
   "resource_dir": "/ext/jupyter/kernels/python3"
  },
  "language_info": {
   "codemirror_mode": {
    "name": "ipython",
    "version": 3
   },
   "file_extension": ".py",
   "mimetype": "text/x-python",
   "name": "python",
   "nbconvert_exporter": "python",
   "pygments_lexer": "ipython3",
   "version": "3.7.4"
  },
  "toc": {
   "base_numbering": 1,
   "nav_menu": {
   },
   "number_sections": true,
   "sideBar": true,
   "skip_h1_title": false,
   "title_cell": "Table of Contents",
   "title_sidebar": "Contents",
   "toc_cell": false,
   "toc_position": {
    "height": "calc(100% - 180px)",
    "left": "10px",
    "top": "150px",
    "width": "260.509px"
   },
   "toc_section_display": true,
   "toc_window_display": true
  },
  "varInspector": {
   "cols": {
    "lenName": 16,
    "lenType": 16,
    "lenVar": 40
   },
   "kernels_config": {
    "python": {
     "delete_cmd_postfix": "",
     "delete_cmd_prefix": "del ",
     "library": "var_list.py",
     "varRefreshCmd": "print(var_dic_list())"
    },
    "r": {
     "delete_cmd_postfix": ") ",
     "delete_cmd_prefix": "rm(",
     "library": "var_list.r",
     "varRefreshCmd": "cat(var_dic_list()) "
    }
   },
   "types_to_exclude": [
    "module",
    "function",
    "builtin_function_or_method",
    "instance",
    "_Feature"
   ],
   "window_display": false
  }
 },
 "nbformat": 4,
 "nbformat_minor": 4
}
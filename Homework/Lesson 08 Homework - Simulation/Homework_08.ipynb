{
 "cells": [
  {
   "cell_type": "code",
   "execution_count": 0,
   "metadata": {
    "code_folding": [
     0
    ],
    "collapsed": false
   },
   "outputs": [
   ],
   "source": [
    "# execute to import notebook styling for tables and width etc.\n",
    "from IPython.core.display import HTML\n",
    "import urllib.request\n",
    "response = urllib.request.urlopen('https://raw.githubusercontent.com/DataScienceUWL/DS775v2/master/ds755.css')\n",
    "HTML(response.read().decode(\"utf-8\"));"
   ]
  },
  {
   "cell_type": "markdown",
   "metadata": {
    "collapsed": false
   },
   "source": [
    "<font size=18>Lesson 08 Homework</font>"
   ]
  },
  {
   "cell_type": "markdown",
   "metadata": {
    "collapsed": false
   },
   "source": [
    "# **HW8.1** - Textbook Problem 20.1-2"
   ]
  },
  {
   "cell_type": "markdown",
   "metadata": {
    "collapsed": false
   },
   "source": [
    "The weather can be considered a stochastic system, because it evolves in a probabilistic manner from one day to the next. Suppose for a certain location that this probabilistic series satisfies the following description:\n",
    "\n",
    "The probability of rain tomorrow is 0.6 if it is raining today. The probability of its being clear (no rain) tomorrow is 0.8 if it is clear today.\n",
    "\n",
    "We've modified the problem a bit from the text book:  use uniformly distributed random numbers to simulate a sequence of 1000 days starting from a clear day.  Your code should output the the approximate probability of a rainy day based on your simulation results.\n",
    "\n",
    "<font color = \"blue\"> *** 6 points -  answer in cell below *** (don't delete this cell) </font>"
   ]
  },
  {
   "cell_type": "code",
   "execution_count": 0,
   "metadata": {
    "collapsed": false
   },
   "outputs": [
   ],
   "source": [
   ]
  },
  {
   "cell_type": "markdown",
   "metadata": {
    "collapsed": false
   },
   "source": [
    "# **HW8.2** - Textbook Problem 20.6-7"
   ]
  },
  {
   "cell_type": "markdown",
   "metadata": {
    "collapsed": false
   },
   "source": [
    "Now that Jennifer is in middle school, her parents have decided that they really must start saving for her college education. They have \\$10,000 to invest right now. Furthermore, they plan to save another \\$4,000 each year until Jennifer starts college five years from now. They plan to split their investment evenly between a stock fund and a bond fund. Historically, the stock fund has had an average annual return of 8 percent with a standard deviation of 6 percent. The bond fund has had an average annual return of 4 percent with a standard deviation of 3 percent. (Assume a normal distribution for both.)\n",
    "Assume that the initial investment (\\$10,000) is made right now (year 0) and is split evenly between the two funds (i.e., \\$5,000 in each fund). The returns of each fund are allowed to accumulate (i.e., are reinvested) in the same fund and no redistribution will be done before Jennifer starts college. Furthermore, four additional investments of \\$4,000 will be made and split evenly between both funds (\\$2,000 each) at the end of year 1, year 2, year 3, and year 4, plus another \\$4,000 of savings will be available at the end of year 5, just in time for Jennifer to begin college. Use a 1000-trial simulation to estimate each of the following.  The diagram below, for one investment, may help you understand the timing of the deposits:\n",
    "\n",
    "<img src=\"images/deposits.png\" width=600>\n",
    "\n",
    "**HW8.2a** - What will be the expected value (mean) of the college fund\n",
    "at the end of year 5?\n",
    "\n",
    "**HW8.2b** - What will be the standard deviation of the college fund at the\n",
    "end of year 5?\n",
    "\n",
    "**HW8.2c** - What is the probability that the college fund at the end of year\n",
    "5 will be at least \\$35,000?\n",
    "\n",
    "**HW8.2d** - What is the probability that the college fund at the end of year\n",
    "5 will be at least \\$40,000?\n",
    "\n",
    "You can put all your code in one cell and print out the answers to (a)-(d) in a nicely formatted fashion please.  Your answers should be formatted as currency to the nearest $0.01.\n",
    "\n",
    "<font color = \"blue\"> *** 12 points -  answer in cell below *** (don't delete this cell) </font>"
   ]
  },
  {
   "cell_type": "code",
   "execution_count": 0,
   "metadata": {
    "collapsed": false
   },
   "outputs": [
   ],
   "source": [
   ]
  },
  {
   "cell_type": "markdown",
   "metadata": {
    "collapsed": false
   },
   "source": [
    "# **HW8.3** - Textbook Problem 20.6-9"
   ]
  },
  {
   "cell_type": "markdown",
   "metadata": {
    "collapsed": false
   },
   "source": [
    "Road Pavers, Inc. (RPI) is considering bidding on a county road construction project. RPI has estimated that the cost of this particular project would be \\$5 million. In addition, the cost of putting together a bid is estimated to be \\$50,000. The county also will receive four other bids on the project from competitors of RPI. Past experience with these competitors suggests that each competitor’s bid is most likely to be 20 percent over the project cost of \\$5 million, but could be as low as 5 percent over or as much as 40 percent over this cost. Assume a triangular distribution for each of these bids.\n",
    "\n",
    "**HW8.3a** - Suppose that RPI bids \\$5.7 million on the project. Perform 1,000 trials of a simulation. What is the probability that RPI will win the bid? What is RPI’s mean profit?  Use formatted output from your code to present the answers to these questions.\n",
    "\n",
    "<font color = \"blue\"> *** 4 points -  answer in cell below *** (don't delete this cell) </font>"
   ]
  },
  {
   "cell_type": "code",
   "execution_count": 0,
   "metadata": {
    "collapsed": false
   },
   "outputs": [
   ],
   "source": [
   ]
  },
  {
   "cell_type": "markdown",
   "metadata": {
    "collapsed": false
   },
   "source": [
    "**HW8.3b** - Generate a parameter analysis report to consider eight possible bids between \\$5.3 million and \\$6 million in order to forecast RPI’s mean profit for each bid. Which of these bids maximizes RPI’s mean profit?\n",
    "\n",
    "<font color = \"blue\"> *** 4 points -  answer in cell below *** (don't delete this cell) </font>"
   ]
  },
  {
   "cell_type": "code",
   "execution_count": 0,
   "metadata": {
    "collapsed": false
   },
   "outputs": [
   ],
   "source": [
   ]
  },
  {
   "cell_type": "markdown",
   "metadata": {
    "collapsed": false
   },
   "source": [
    "**HW8.3c** - Generate a trend chart for the eight bids considered in part (b).\n",
    "\n",
    "<font color = \"blue\"> *** 4 points -  answer in cell below *** (don't delete this cell) </font>"
   ]
  },
  {
   "cell_type": "code",
   "execution_count": 0,
   "metadata": {
    "collapsed": false
   },
   "outputs": [
   ],
   "source": [
   ]
  },
  {
   "cell_type": "markdown",
   "metadata": {
    "collapsed": false
   },
   "source": [
    "**HW8.3d** Perform an automated search to find the bid that maximizes RPI’s mean profit. (Use one of the optimization tools we've studied.)\n",
    "\n",
    "<font color = \"blue\"> *** 4 points -  answer in cell below *** (don't delete this cell) </font>"
   ]
  },
  {
   "cell_type": "code",
   "execution_count": 0,
   "metadata": {
    "collapsed": false
   },
   "outputs": [
   ],
   "source": [
   ]
  },
  {
   "cell_type": "markdown",
   "metadata": {
    "collapsed": false
   },
   "source": [
    "# **HW8.4** - Sausage Making - Simulation with Optimization"
   ]
  },
  {
   "cell_type": "markdown",
   "metadata": {
    "collapsed": false
   },
   "source": [
    "We're going to revisit the Sausage Factory problem from Lessons 1 and 2, but this time, we're going to introduce uncertainty.\n",
    "\n",
    "In Lesson 2, we optimized the cost of our sausage making, by altering the ingredients in each sausage type to meet minimum requirements and fulfill a demand of 350 economy sausages and 500 premium sausages a week.\n",
    "\n",
    "In reality, our demand fluctuates week to week. \n",
    "\n",
    "The basic set up of the problem is the same.\n",
    "\n",
    "We're going to make sausages by blending pork, wheat, and starch.  Our objective is to minimize the cost of making the sausages.  The table below shows the ingredients available, the cost, and the amount of each ingredient available from our supplier:\n",
    "\n",
    "Ingredient | Cost ($/kg) | Amount (kg)\n",
    "-----------|------|--------------\n",
    "Pork       | 4.32 | 7\n",
    "Wheat      | 2.46 | 20\n",
    "Starch     | 1.86 | 17\n",
    "\n",
    "\n",
    "\n",
    "We want to make 2 types of sausage:\n",
    "* Economy ( > 40\\% pork )\n",
    "* Premium ( > 60\\% pork )\n",
    "\n",
    "Each sausage is 50 grams (0.05 kg).  \n",
    "\n",
    "According to government regulations, the most starch we can use in our sausages is 25\\% by weight."
   ]
  },
  {
   "cell_type": "markdown",
   "metadata": {
    "collapsed": false
   },
   "source": [
    "**New Information:**"
   ]
  },
  {
   "cell_type": "markdown",
   "metadata": {
    "collapsed": false
   },
   "source": [
    "The price for pre-purchased pork is \\$3.10, for a discount of \\$1.22 per kg. We will be fairly conservative in our estimates of pre-purchase, and we are setting our minimum pork used to our pre-purchased amount, so we will only need to calculate the total discount in our objective, not a penalty for buying overage.  \n",
    "\n",
    "While our demand fluctuates, we know that our demand for economy sausages is between 325 and 375 each week and our demand for premium sausage is between 450 and 550 each week. Demand appears to be uniformly distributed (use `np.random.randint`).\n",
    "\n",
    "***This is a prescriptive analytics problem!  You are prescribing the amount of pork to buy under contract to minimize future cost in an uncertain future.***"
   ]
  },
  {
   "cell_type": "markdown",
   "metadata": {
    "collapsed": false
   },
   "source": [
    "**HW8.4a** - Write a function that takes in the amount of discount pork we will pre-purchase as a variable (x). \n",
    "\n",
    "Inside the function, write a 1000 iteration loop that solves the optimization problem with random variables for demand and x as your stand in for the minimum amount of discount pork produced. Track the amount of full-price pork used and the cost of each iteration and return both from your function.  \n",
    "\n",
    "You may base your Pyomo model on either the concrete or abstract formulations in Lesson 1 and Lesson 2 presentations, respectively.\n",
    "\n",
    "<font color = \"blue\"> *** 4 points -  answer in cell below *** (don't delete this cell) </font>"
   ]
  },
  {
   "cell_type": "code",
   "execution_count": 0,
   "metadata": {
    "collapsed": false
   },
   "outputs": [
   ],
   "source": [
   ]
  },
  {
   "cell_type": "markdown",
   "metadata": {
    "collapsed": false
   },
   "source": [
    "**HW8.4b** - Test your function, using 20 as your value of x. Plot histograms of the Kilograms of Full-Price Pork purchased and the cost.\n",
    "\n",
    "<font color = \"blue\"> *** 4 points -  answer in cell below *** (don't delete this cell) </font>"
   ]
  },
  {
   "cell_type": "code",
   "execution_count": 0,
   "metadata": {
    "collapsed": false
   },
   "outputs": [
   ],
   "source": [
   ]
  },
  {
   "cell_type": "markdown",
   "metadata": {
    "collapsed": false
   },
   "source": [
    "Notice that the final cost and the amount of full-price pork purchased have distributions that fairly closely match each other. That's because full-price pork is the most expensive component of our sausages. The more full-price pork we use, the more expensive our product is. We'd like to optimize the amount of full-price pork we use."
   ]
  },
  {
   "cell_type": "markdown",
   "metadata": {
    "collapsed": false
   },
   "source": [
    "**HW8.4c** - Write a loop to call your function for all the values of pre-order quantities between and including 17 and 28.\n",
    "\n",
    "Store the values of:\n",
    "\n",
    "* pre-order quantities\n",
    "* the mean, 5th percentile and 95th percentile of the overage\n",
    "* the mean, 5th percentile and 95th percentile of the cost.\n",
    "\n",
    "After your loop, print the values in a dataframe.\n",
    "\n",
    "*Note: This may take a while to run.*\n",
    "\n",
    "<font color = \"blue\"> *** 4 points -  answer in cell below *** (don't delete this cell) </font>"
   ]
  },
  {
   "cell_type": "code",
   "execution_count": 0,
   "metadata": {
    "collapsed": false,
    "scrolled": true
   },
   "outputs": [
   ],
   "source": [
   ]
  },
  {
   "cell_type": "markdown",
   "metadata": {
    "collapsed": false
   },
   "source": [
    "**HW8.4d** - Using the Freddie the Newsboy Simulation code, plot a trend chart that shows the cost by kilograms of pre-purchased pork. \n",
    "\n",
    "Using the trend chart and the output from your dataframe, write a short summary explaining how much pre-purchased discount pork we should buy each week and why.\n",
    "\n",
    "<font color = \"blue\"> *** 4 points -  answer in cells below *** (don't delete this cell) </font>"
   ]
  },
  {
   "cell_type": "markdown",
   "metadata": {
    "collapsed": false
   },
   "source": [
    "<font color = \"green\">\n",
    "replace this text with answer, your answer should be green   \n",
    "</font>"
   ]
  },
  {
   "cell_type": "code",
   "execution_count": 0,
   "metadata": {
    "collapsed": false
   },
   "outputs": [
   ],
   "source": [
   ]
  }
 ],
 "metadata": {
  "kernelspec": {
   "display_name": "Python 3 (system-wide)",
   "language": "python",
   "metadata": {
    "cocalc": {
     "description": "Python 3 programming language",
     "priority": 100,
     "url": "https://www.python.org/"
    }
   },
   "name": "python3",
   "resource_dir": "/ext/jupyter/kernels/python3"
  },
  "language_info": {
   "codemirror_mode": {
    "name": "ipython",
    "version": 3
   },
   "file_extension": ".py",
   "mimetype": "text/x-python",
   "name": "python",
   "nbconvert_exporter": "python",
   "pygments_lexer": "ipython3",
   "version": "3.8.5"
  },
  "toc": {
   "base_numbering": 1,
   "nav_menu": {
   },
   "number_sections": true,
   "sideBar": true,
   "skip_h1_title": false,
   "title_cell": "Table of Contents",
   "title_sidebar": "Contents",
   "toc_cell": false,
   "toc_position": {
    "height": "calc(100% - 180px)",
    "left": "10px",
    "top": "150px",
    "width": "258.906px"
   },
   "toc_section_display": true,
   "toc_window_display": true
  },
  "varInspector": {
   "cols": {
    "lenName": 16,
    "lenType": 16,
    "lenVar": 40
   },
   "kernels_config": {
    "python": {
     "delete_cmd_postfix": "",
     "delete_cmd_prefix": "del ",
     "library": "var_list.py",
     "varRefreshCmd": "print(var_dic_list())"
    },
    "r": {
     "delete_cmd_postfix": ") ",
     "delete_cmd_prefix": "rm(",
     "library": "var_list.r",
     "varRefreshCmd": "cat(var_dic_list()) "
    }
   },
   "types_to_exclude": [
    "module",
    "function",
    "builtin_function_or_method",
    "instance",
    "_Feature"
   ],
   "window_display": false
  }
 },
 "nbformat": 4,
 "nbformat_minor": 4
}
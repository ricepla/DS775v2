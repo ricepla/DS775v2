{
 "cells": [
  {
   "cell_type": "code",
   "execution_count": 1,
   "metadata": {
    "code_folding": [
    ],
    "collapsed": false
   },
   "outputs": [
   ],
   "source": [
    "# execute to import notebook styling for tables and width etc.\n",
    "from IPython.core.display import HTML\n",
    "import urllib.request\n",
    "response = urllib.request.urlopen('https://raw.githubusercontent.com/DataScienceUWL/DS775v2/master/ds755.css')\n",
    "HTML(response.read().decode(\"utf-8\"));"
   ]
  },
  {
   "cell_type": "markdown",
   "metadata": {
    "collapsed": false
   },
   "source": [
    "<font size=18>Lesson 02 Homework</font>"
   ]
  },
  {
   "cell_type": "markdown",
   "metadata": {
    "collapsed": false,
    "heading_collapsed": true
   },
   "source": [
    "# **HW2.1** - Sensitive Parameter"
   ]
  },
  {
   "cell_type": "markdown",
   "metadata": {
    "collapsed": false,
    "hidden": true
   },
   "source": [
    "A “sensitive parameter” is a parameter\n",
    "\n",
    "a.    that can be set outside of  its allowable range.\n",
    "\n",
    "b.    that satisfies the certainty assumption.\n",
    "\n",
    "c.    whose value must be estimated.\n",
    "\n",
    "d.      is a constraint boundary that can be changed without affecting the optimal solution.    \n",
    "\n",
    "e.    whose values cannot be changed without changing the optimal solution."
   ]
  },
  {
   "cell_type": "markdown",
   "metadata": {
    "collapsed": false,
    "hidden": true
   },
   "source": [
    "<font color = \"blue\"> *** 2 points -  answer in cell below *** (don't delete this cell) </font>"
   ]
  },
  {
   "cell_type": "markdown",
   "metadata": {
    "collapsed": false,
    "hidden": true
   },
   "source": [
    "<font color = \"green\">\n",
    "replace this text with answer, your answer should be green   \n",
    "</font>"
   ]
  },
  {
   "cell_type": "markdown",
   "metadata": {
    "collapsed": false,
    "heading_collapsed": true
   },
   "source": [
    "# HW2.2 - Shadow Price"
   ]
  },
  {
   "cell_type": "markdown",
   "metadata": {
    "collapsed": false,
    "hidden": true
   },
   "source": [
    "The shadow price for a resource is\n",
    "\n",
    "\n",
    "a.  the amount the objective function Z increases for each one unit  increase in the amount of the resource available when it goes beyond its allowable range.\n",
    "\n",
    "b.     the amount the objective function Z increases for each one unit  increase in the amount of the resource available, provided that is stays within its allowable range.\n",
    "\n",
    "c.  the range of values for the right-hand side over which the current optimal solution remains feasible.  \n",
    "\n",
    "d.  a constraint that must be satisfied.  \n",
    "\n",
    "e.  a constraint boundary that can be characterized by a random variable. "
   ]
  },
  {
   "cell_type": "markdown",
   "metadata": {
    "collapsed": false,
    "hidden": true
   },
   "source": [
    "<font color = \"blue\"> *** 2 points -  answer in cell below *** (don't delete this cell) </font>"
   ]
  },
  {
   "cell_type": "markdown",
   "metadata": {
    "collapsed": false,
    "hidden": true
   },
   "source": [
    "<font color = \"green\">\n",
    "replace this text with answer, your answer should be green   \n",
    "</font>"
   ]
  },
  {
   "cell_type": "markdown",
   "metadata": {
    "collapsed": false
   },
   "source": [
    "# HW2.3 - Giapetto Interactive Widget Problem"
   ]
  },
  {
   "cell_type": "markdown",
   "metadata": {
    "collapsed": false
   },
   "source": [
    "Giapetto's Woodcarving, Inc., manufactures two types of wooden toys: soldiers and trains.\n",
    "\n",
    "A soldier sells for \\$27 and uses \\$10 worth of raw materials. Each soldier that is manufactured increases Giapetto’s variable labor and overhead costs by \\$14 (so think about what the unit profit would be). A train sells for \\$21 and uses \\$9 worth of raw materials. Each train built increases Giapetto’s variable labor and overhead costs by \\$10. The manufacture of wooden soldiers and trains requires two types of skilled labor: carpentry and finishing. A soldier requires 2 hours of finishing labor and 1 hour of carpentry labor. A train requires 1 hour of finishing labor and 1 hour of carpentry labor. Each week, Giapetto can obtain all the needed raw material but only 80 carpentry hours and 100 finishing hours. Demand for trains ($x_2$) is unlimited, but at most 40 soldiers ($x_1$) are bought each week. Giapetto wants to maximize weekly profit (revenues-costs). (This example is from the textbook \"Operations Research\" by Wayne L. Winston.)\n",
    "\n",
    "The model formulation that can be used to maximize Giapetto’s weekly profit is:\n",
    "\n",
    "Maximize $Z = 3x_1 + 2x_2,$ \n",
    "\n",
    "subject to \n",
    "\n",
    "$\n",
    "\\begin{array}{rcrcr}\n",
    "x_1 & + & x_2 & \\leq & 80 \\\\\n",
    "2x_1 & + & x_2 & \\leq & 100 \\\\\n",
    " x_1        &         &  & \\leq & 40 \n",
    "\\end{array}\n",
    "$\n",
    "\n",
    "and $x_1 \\geq 0, x_2 \\geq 0.$\n",
    "\n",
    "**Use the widget below** to answer the following questions (after the widget) about Giapetto's production of wooden soldiers and trains.  Do not use other methods to find the answers."
   ]
  },
  {
   "cell_type": "code",
   "execution_count": 1,
   "metadata": {
    "code_folding": [
    ],
    "collapsed": false
   },
   "outputs": [
    {
     "data": {
      "application/vnd.jupyter.widget-view+json": {
       "model_id": "82f76b264ad0476089022153f44849b9",
       "version_major": 2,
       "version_minor": 0
      },
      "text/plain": [
       "interactive(children=(FloatSlider(value=0.5, description='profScl', max=1.5, min=0.5, step=0.05), FloatSlider(…"
      ]
     },
     "execution_count": 1,
     "metadata": {
     },
     "output_type": "execute_result"
    }
   ],
   "source": [
    "# run this cell for interactive widget, code details not important\n",
    "%matplotlib inline\n",
    "%run scripts/Giapetto_Interact\n",
    "GiapettoInteractiveGraph(True,True)"
   ]
  },
  {
   "cell_type": "markdown",
   "metadata": {
    "collapsed": false
   },
   "source": [
    "**HW2.3a** - Find and interpret the shadow price for the weekly carpentry hours."
   ]
  },
  {
   "cell_type": "markdown",
   "metadata": {
    "collapsed": false
   },
   "source": [
    "<font color = \"blue\"> *** 2 points -  answer in cell below *** (don't delete this cell) </font>"
   ]
  },
  {
   "cell_type": "markdown",
   "metadata": {
    "collapsed": false
   },
   "source": [
    "<font color = \"green\">\n",
    "replace this text with answer, your answer should be green   \n",
    "</font>"
   ]
  },
  {
   "cell_type": "markdown",
   "metadata": {
    "collapsed": false
   },
   "source": [
    "**HW2.3b** - Find and interpret the allowable range for the weekly finishing hours."
   ]
  },
  {
   "cell_type": "markdown",
   "metadata": {
    "collapsed": false
   },
   "source": [
    "<font color = \"blue\"> *** 1 points -  answer in cell below *** (don't delete this cell) </font>"
   ]
  },
  {
   "cell_type": "markdown",
   "metadata": {
    "collapsed": false
   },
   "source": [
    "<font color = \"green\">\n",
    "replace this text with answer, your answer should be green   \n",
    "</font>"
   ]
  },
  {
   "cell_type": "markdown",
   "metadata": {
    "collapsed": false
   },
   "source": [
    "**HW2.3c** - If everything else stays the same as in the initial problem, how far could the demand for toy soldiers drop before the demand becomes a sensitive parameter?"
   ]
  },
  {
   "cell_type": "markdown",
   "metadata": {
    "collapsed": false
   },
   "source": [
    "<font color = \"blue\"> *** 1 points -  answer in cell below *** (don't delete this cell) </font>"
   ]
  },
  {
   "cell_type": "markdown",
   "metadata": {
    "collapsed": false
   },
   "source": [
    "<font color = \"green\">\n",
    "replace this text with answer, your answer should be green   \n",
    "</font>"
   ]
  },
  {
   "cell_type": "markdown",
   "metadata": {
    "collapsed": false
   },
   "source": [
    "**HW2.3d** - If everything else stayed the same, but the price of selling the soldier increased to \\$28.50,\n",
    "\n",
    "    (i) what would be the maximum profit? "
   ]
  },
  {
   "cell_type": "markdown",
   "metadata": {
    "collapsed": false
   },
   "source": [
    "<font color = \"blue\"> *** 1 points -  answer in cell below *** (don't delete this cell) </font>"
   ]
  },
  {
   "cell_type": "markdown",
   "metadata": {
    "collapsed": false
   },
   "source": [
    "<font color = \"green\">\n",
    "replace this text with answer, your answer should be green   \n",
    "</font>"
   ]
  },
  {
   "cell_type": "markdown",
   "metadata": {
    "collapsed": false
   },
   "source": [
    "    (ii) how many of each toy should be produced to achieve it,"
   ]
  },
  {
   "cell_type": "markdown",
   "metadata": {
    "collapsed": false
   },
   "source": [
    "<font color = \"blue\"> *** 1 points -  answer in cell below *** (don't delete this cell) </font>"
   ]
  },
  {
   "cell_type": "markdown",
   "metadata": {
    "collapsed": false
   },
   "source": [
    "<font color = \"green\">\n",
    "replace this text with answer, your answer should be green   \n",
    "</font>"
   ]
  },
  {
   "cell_type": "markdown",
   "metadata": {
    "collapsed": false
   },
   "source": [
    "    (iii) and what is the new shadow price for weekly carpentry hours?  Why is this the new shadow price?"
   ]
  },
  {
   "cell_type": "markdown",
   "metadata": {
    "collapsed": false
   },
   "source": [
    "<font color = \"blue\"> *** 2 points -  answer in cell below *** (don't delete this cell) </font>"
   ]
  },
  {
   "cell_type": "markdown",
   "metadata": {
    "collapsed": false
   },
   "source": [
    "<font color = \"green\">\n",
    "replace this text with answer, your answer should be green   \n",
    "</font>"
   ]
  },
  {
   "cell_type": "markdown",
   "metadata": {
    "collapsed": false
   },
   "source": [
    "# **HW2.4** - Textbook Problem 4.7-3"
   ]
  },
  {
   "cell_type": "markdown",
   "metadata": {
    "collapsed": false
   },
   "source": [
    "You are given the following linear programming problem: \n",
    "\n",
    "Maximize $Z = 4x_1 + 2x_2,$ \n",
    "\n",
    "subject to \n",
    "\n",
    "$\n",
    "\\begin{array}{rcrcr}\n",
    "2x_1 & & & \\leq & 16 \\\\\n",
    "x_1 & + & 3x_2 & \\leq & 17 \\\\\n",
    "         &         & x_2 & \\leq & 5 \n",
    "\\end{array}\n",
    "$\n",
    "\n",
    "and $x_1 \\geq 0, x_2 \\geq 0.$\n",
    "\n",
    "**HW2.4a** Solve this problem graphically and include a screenshot here."
   ]
  },
  {
   "cell_type": "markdown",
   "metadata": {
    "collapsed": false
   },
   "source": [
    "<font color = \"blue\"> *** 2 points -  answer in cell below *** (don't delete this cell) </font>"
   ]
  },
  {
   "cell_type": "markdown",
   "metadata": {
    "collapsed": false
   },
   "source": [
    "<font color = \"green\">\n",
    "replace this text with answer, your answer should be green   \n",
    "</font>"
   ]
  },
  {
   "cell_type": "markdown",
   "metadata": {
    "collapsed": false
   },
   "source": [
    "**HW2.4b** Use graphical analysis to find the shadow prices for the\n",
    "  resources.  Use PHPSimplex.com/en, DESMOS.com, or graph by hand.  Include a screenshot or image of your work, put it in the images folder and use an HTML image tag to include it in the notebook.  Make sure to clearly identify the shadow prices."
   ]
  },
  {
   "cell_type": "markdown",
   "metadata": {
    "collapsed": false
   },
   "source": [
    "<font color = \"blue\"> *** 2 points -  answer in cell below *** (don't delete this cell) </font>"
   ]
  },
  {
   "cell_type": "markdown",
   "metadata": {
    "collapsed": false
   },
   "source": [
    "<font color = \"green\">\n",
    "replace this text with answer, your answer should be green   \n",
    "</font>"
   ]
  },
  {
   "cell_type": "markdown",
   "metadata": {
    "collapsed": false
   },
   "source": [
    "**HW2.4c** Determine how many additional units of resource 1 would need to\n",
    "increase the optimal value of $Z$ by 15."
   ]
  },
  {
   "cell_type": "markdown",
   "metadata": {
    "collapsed": false
   },
   "source": [
    "<font color = \"blue\"> *** 2 points -  answer in cell below *** (don't delete this cell) </font>"
   ]
  },
  {
   "cell_type": "markdown",
   "metadata": {
    "collapsed": false
   },
   "source": [
    "<font color = \"green\">\n",
    "replace this text with answer, your answer should be green   \n",
    "</font>"
   ]
  },
  {
   "cell_type": "code",
   "execution_count": 0,
   "metadata": {
    "collapsed": false
   },
   "outputs": [
   ],
   "source": [
   ]
  },
  {
   "cell_type": "markdown",
   "metadata": {
    "collapsed": false,
    "heading_collapsed": true
   },
   "source": [
    "# **HW2.5** - Textbook Problem 3.5-5"
   ]
  },
  {
   "cell_type": "markdown",
   "metadata": {
    "collapsed": false,
    "hidden": true
   },
   "source": [
    "Fred Jonasson manages a family-owned farm. To supplement several food products grown on the farm, Fred also raises pigs for market. He now wishes to determine the quantities of the available types of feed (corn, tankage, and alfalfa) that should be given to each pig. Since pigs will eat any mix of these feed types, the objective is to determine which mix will meet certain nutritional requirements at a minimum cost. The number of units of each type of basic nutritional ingredient contained within a kilogram of each feed type is given in the following table, along with the daily nutritional requirements and feed costs:\n",
    "\n",
    "<table>\n",
    "    <tr>\n",
    "        <th style=\"border-right:thin solid;border-bottom:thin solid;\"> &nbsp; <br> Nutrional <br> Ingredient </th>\n",
    "        <th style=\"border-bottom:thin solid;\"> Kilogram <br> of<br> Corn </th>\n",
    "        <th style=\"border-bottom:thin solid;\"> Kilogram <br> of <br> Tankage </th>\n",
    "        <th style=\"border-bottom:thin solid;\"> Kilogram<br>of<br>Alfalfa</th>\n",
    "        <th style=\"border-left: thin solid;border-bottom:thin solid;\"> Minimum<br>Daily<br>Requirement </th>\n",
    "    </tr>\n",
    "    <tr>\n",
    "        <td style=\"border-right:thin solid;\"> Carbohydrates </td>\n",
    "        <td> 90 </td>\n",
    "        <td> 20 </td>\n",
    "        <td> 40 </td>\n",
    "        <td style=\"border-left:thin solid;\"> 200 </td>\n",
    "    </tr>\n",
    "    <tr>\n",
    "        <td style=\"border-right:thin solid;\"> Protein </td>\n",
    "        <td> 30 </td>\n",
    "        <td> 80 </td>\n",
    "        <td> 60 </td>\n",
    "        <td style=\"border-left:thin solid;\"> 180 </td>\n",
    "    </tr>\n",
    "    <tr>\n",
    "        <td style=\"border-right:thin solid;\"> Vitamins </td>\n",
    "        <td> 10 </td>\n",
    "        <td> 20 </td>\n",
    "        <td> 60 </td>\n",
    "        <td style=\"border-left:thin solid;\"> 150 </td>\n",
    "    </tr>        \n",
    "    <tr>\n",
    "        <td style=\"border-top:thin solid;border-right:thin solid\"> Cost </td>\n",
    "        <td style=\"border-top:thin solid;\"> \\$2.10 </td>\n",
    "        <td style=\"border-top:thin solid;\"> \\$1.80 </td>\n",
    "        <td style=\"border-top:thin solid;\"> \\$1.50 </td>\n",
    "        <td style=\"border-left:thin solid; border-top:thin solid;\"> &nbsp; </td>\n",
    "    </tr>\n",
    "</table>"
   ]
  },
  {
   "cell_type": "markdown",
   "metadata": {
    "collapsed": false,
    "hidden": true
   },
   "source": [
    "**HW2.5a** - Formulate a linear programming model for this problem.  LaTeX or handwritten with picture."
   ]
  },
  {
   "cell_type": "markdown",
   "metadata": {
    "collapsed": false,
    "hidden": true
   },
   "source": [
    "<font color = \"blue\"> *** 2 points -  answer in cell below *** (don't delete this cell) </font>"
   ]
  },
  {
   "cell_type": "markdown",
   "metadata": {
    "collapsed": false,
    "hidden": true
   },
   "source": [
    "<font color = \"green\">\n",
    "replace this text with answer, your answer should be green   \n",
    "</font>"
   ]
  },
  {
   "cell_type": "markdown",
   "metadata": {
    "collapsed": false,
    "hidden": true
   },
   "source": [
    "**HW2.5b** - Use Pyomo to solve this problem. Your solution should include all necessary code and inputs and it should produce formatted output.  For credit, you must use the abstract approach as we did in the lesson."
   ]
  },
  {
   "cell_type": "markdown",
   "metadata": {
    "collapsed": false,
    "hidden": true
   },
   "source": [
    "<font color = \"blue\"> *** 6 points -  answer in cell below *** (don't delete this cell) </font>"
   ]
  },
  {
   "cell_type": "code",
   "execution_count": 0,
   "metadata": {
    "collapsed": false,
    "hidden": true
   },
   "outputs": [
   ],
   "source": [
   ]
  },
  {
   "cell_type": "markdown",
   "metadata": {
    "collapsed": false
   },
   "source": [
    "# **HW2.6** - Textbook Problem 3.4-15 Revisited"
   ]
  },
  {
   "cell_type": "markdown",
   "metadata": {
    "collapsed": false
   },
   "source": [
    "Oxbridge University maintains a powerful mainframe computer\n",
    "  for research use by its faculty, Ph.D. students, and research\n",
    "  associates. During all working hours, an operator must be available\n",
    "  to operate and maintain the computer, as well as to perform some\n",
    "  programming services. Beryl Ingram, the director of the computer\n",
    "  facility, oversees the operation.  \n",
    "\n",
    "  It is now the beginning of the\n",
    "  fall semester, and Beryl is confronted with the problem of assigning\n",
    "  different working hours to her operators. Because all the operators\n",
    "  are currently enrolled in the university, they are available to work\n",
    "  only a limited number of hours\n",
    "  each day, as shown in the following table: \n",
    "  \n",
    "  <img src=\"images/screen-problem5.png\" width=\"440\">\n",
    "  \n",
    "  There are six operators (four undergraduate students and two\n",
    "  graduate students). They all have different wage rates because of\n",
    "  differences in their experience with computers and in their pro-\n",
    "  gramming ability. The above table shows their wage rates, along with\n",
    "  the maximum number of hours that each can work each day.  \n",
    "\n",
    "  Each\n",
    "  operator is guaranteed a certain minimum number of hours per week\n",
    "  that will maintain an adequate knowledge of the operation. This\n",
    "  level is set arbitrarily at 8 hours per week for the undergraduate\n",
    "  students (K. C., D. H., H. B., and S. C.) and 7 hours per week for\n",
    "  the graduate students (K. S. and N. K.).\n",
    "\n",
    "  The computer facility is to be open for operation from 8 A.M. to 10\n",
    "  P.M. Monday through Friday with exactly one operator on duty during\n",
    "  these hours. On Saturdays and Sundays, the computer is to be\n",
    "  operated by other staff.  Because of a tight budget, Beryl has to\n",
    "  minimize cost. She wishes to determine the number of hours she\n",
    "  should assign to each operator on each day.\n",
    "\n",
    "  Because of a tight budget, Beryl has to minimize cost. She wishes to\n",
    "  determine the number of hours she should assign to each operator on\n",
    "  each day.\n",
    "\n",
    "**HW2.6a** - Formulate an abstract linear programming model for this problem that can be generalized to any number of workers and days.  This is very similar to the \"Supply and Demand\" self-assessment problem:\n",
    "- \"supply\" is the weekly hours worked by each worker, but it's possible for workers to work more than the guaranteed minimum hours each week\n",
    "- \"demand\" is the daily hours that must be staffed\n",
    "- you'll need additional constraints that reflect that each worker has limited availability on each day, on some days they have zero availability\n",
    "\n",
    "You can either write out the mathematical notation or pseudocode for how Include your mathematical model here.  You can typeset the model with LaTeX or include a clean, cropped picture of your handwritten equations."
   ]
  },
  {
   "cell_type": "markdown",
   "metadata": {
    "collapsed": false
   },
   "source": [
    "<font color = \"blue\"> *** 4 points -  answer in cell below *** (don't delete this cell) </font>"
   ]
  },
  {
   "cell_type": "markdown",
   "metadata": {
    "collapsed": false
   },
   "source": [
    "<font color = \"green\">\n",
    "replace this text with answer, your answer should be green   \n",
    "</font>"
   ]
  },
  {
   "cell_type": "markdown",
   "metadata": {
    "collapsed": false
   },
   "source": [
    "**HW2.6b** - Solve this model using Pyomo, coding the data and model separately as done, for example, in the \"Supply and Demand\" Self Assessment problem. For credit, you must use the abstract approach as in the lesson. Your solution should include all necessary code and inputs and it should produce formatted output."
   ]
  },
  {
   "cell_type": "markdown",
   "metadata": {
    "collapsed": false
   },
   "source": [
    "<font color = \"blue\"> *** 4 points -  answer in cell below *** (don't delete this cell) </font>"
   ]
  },
  {
   "cell_type": "code",
   "execution_count": 0,
   "metadata": {
    "collapsed": false
   },
   "outputs": [
   ],
   "source": [
   ]
  },
  {
   "cell_type": "markdown",
   "metadata": {
    "collapsed": false
   },
   "source": [
    "**HW2.6c** - Produce the sensitivity report in Python."
   ]
  },
  {
   "cell_type": "markdown",
   "metadata": {
    "collapsed": false
   },
   "source": [
    "<font color = \"blue\"> *** 1 point -  answer in cell below *** (don't delete this cell) </font>"
   ]
  },
  {
   "cell_type": "code",
   "execution_count": 0,
   "metadata": {
    "collapsed": false
   },
   "outputs": [
   ],
   "source": [
   ]
  },
  {
   "cell_type": "markdown",
   "metadata": {
    "collapsed": false
   },
   "source": [
    "**HW2.6d** - Report and interpret the shadow price for H.B.'s available hours hours for Monday."
   ]
  },
  {
   "cell_type": "markdown",
   "metadata": {
    "collapsed": false
   },
   "source": [
    "<font color = \"blue\"> *** 1 point -  answer in cell below *** (don't delete this cell) </font>"
   ]
  },
  {
   "cell_type": "markdown",
   "metadata": {
    "collapsed": false
   },
   "source": [
    "<font color = \"green\">\n",
    "replace this text with answer, your answer should be green   \n",
    "</font>"
   ]
  },
  {
   "cell_type": "markdown",
   "metadata": {
    "collapsed": false
   },
   "source": [
    "**HW2.6e** Report and interpret the activity range for H.B.'s available hours hours for Monday. (For constraints, the activity range in the Python/GLPK report is equivalent to the allowable range discussed in the textbook.)"
   ]
  },
  {
   "cell_type": "markdown",
   "metadata": {
    "collapsed": false
   },
   "source": [
    "<font color = \"blue\"> *** 1 point -  answer in cell below *** (don't delete this cell) </font>"
   ]
  },
  {
   "cell_type": "markdown",
   "metadata": {
    "collapsed": false
   },
   "source": [
    "<font color = \"green\">\n",
    "replace this text with answer, your answer should be green   \n",
    "</font>"
   ]
  },
  {
   "cell_type": "markdown",
   "metadata": {
    "collapsed": false
   },
   "source": [
    "# **HW2.7** - Textbook Problem 7.3-7 (parts)"
   ]
  },
  {
   "cell_type": "markdown",
   "metadata": {
    "collapsed": false
   },
   "source": [
    "This question is based on the material labeled \"Personnel\n",
    "Scheduling\" beginning on page 57 of the textbook.  Table 3.19 is\n",
    "reproduced here for convenience: \n",
    "\n",
    "<img src=\"images/problem5p5.png\" width=\"640\"> \n",
    "\n",
    "Management now is considering increasing the level of service\n",
    "provided to customers by increasing one or more of the numbers in the\n",
    "rightmost column of Table 3.19 for the minimum number of agents needed\n",
    "in the various time periods. To guide them in making this decision,\n",
    "they would like to know what impact this change would have on total\n",
    "cost.  (*Note: the letters (a), (b), etc. do not match the letters in the textbook problem.*)\n",
    "\n",
    "**HW2.7a** - Use Pyomo with the GLPK solver to generate the sensitivity report in preparation for addressing the following questions.  Your Pyomo solution should be written in a general way that can be applied to any number time periods and shifts (use the abstract approach).  In the cell below we've included the problem data to get you started.  Note that the \"rows\" in ```periods_covered``` allow you form the mimimum number of agents constraints.  For instance, based on the second \"row\" we know that the constraint for the 8am - 10am time period is $$ 1 x_{s1} + 1 x_{s2} + 0 x_{s3} + 0 x_{s4} + 0 x_{s5} \\geq 79$$ because only agents in shifts 1 and 2 provide coverage for that time period."
   ]
  },
  {
   "cell_type": "markdown",
   "metadata": {
    "collapsed": false
   },
   "source": [
    "<font color = \"blue\"> *** 7 points -  answer in cell below *** (don't delete this cell) </font>"
   ]
  },
  {
   "cell_type": "code",
   "execution_count": 1,
   "metadata": {
    "collapsed": false
   },
   "outputs": [
   ],
   "source": [
    "# data for problem 7.3-7\n",
    "periods = [\n",
    "    'p6_8', 'p8_10', 'p10_12', 'p12_14', 'p14_16', 'p16_18', 'p18_20',\n",
    "    'p20_22', 'p22_24', 'p24_6'\n",
    "]\n",
    "shifts = ['s1', 's2', 's3', 's4', 's5']\n",
    "daily_cost_per_agent = dict( zip( shifts, [170, 160, 175, 180, 195] ) )\n",
    "min_agents_per_period = dict( zip( periods, [48, 79, 65, 87, 64, 73, 82, 43, 52, 15] ) )\n",
    "                            \n",
    "pc = [[1, 0, 0, 0, 0], [1, 1, 0, 0, 0], [1, 1, 0, 0, 0], [1, 1, 1, 0, 0],\n",
    "     [0, 1, 1, 0, 0], [0, 0, 1, 1, 0], [0, 0, 1, 1, 0], [0, 0, 0, 1, 0],\n",
    "     [0, 0, 0, 1, 1], [0, 0, 0, 0, 1]]\n",
    "periods_covered = { periods[p]: dict(zip( shifts, pc[p][:])) for p in range(len(periods))}\n",
    "\n",
    "# finish the code here:\n"
   ]
  },
  {
   "cell_type": "markdown",
   "metadata": {
    "collapsed": false
   },
   "source": [
    "**HW2.7b** - Which of the numbers in\n",
    "the rightmost column of Table 3.19 can be increased without increasing\n",
    "total cost? In each case, indicate how much it can be increased (if it\n",
    "is the only one being changed) without increasing total cost."
   ]
  },
  {
   "cell_type": "markdown",
   "metadata": {
    "collapsed": false
   },
   "source": [
    "<font color = \"blue\"> *** 2 points -  answer in cell below *** (don't delete this cell) </font>"
   ]
  },
  {
   "cell_type": "markdown",
   "metadata": {
    "collapsed": false
   },
   "source": [
    "<font color = \"green\">\n",
    "replace this text with answer, your answer should be green   \n",
    "</font>"
   ]
  },
  {
   "cell_type": "markdown",
   "metadata": {
    "collapsed": false
   },
   "source": [
    "**HW2.7c** - For each of the other numbers, how much would the total cost increase per increase of 1 in the number? For each answer, indicate how much the number can be increased (if it is the only one being changed) before the answer is no longer valid."
   ]
  },
  {
   "cell_type": "markdown",
   "metadata": {
    "collapsed": false
   },
   "source": [
    "<font color = \"blue\"> *** 2 points -  answer in cell below *** (don't delete this cell) </font>"
   ]
  },
  {
   "cell_type": "markdown",
   "metadata": {
    "collapsed": false
   },
   "source": [
    "<font color = \"green\">\n",
    "replace this text with answer, your answer should be green   \n",
    "</font>"
   ]
  },
  {
   "cell_type": "markdown",
   "metadata": {
    "collapsed": false
   },
   "source": [
    "**HW2.7d** - Do your answers in part (c) definitely remain valid if all the numbers considered in part (c) are simultaneously increased by one? (What percent of the allowable increase is an increase of 1 for each RHS? Consider Hillier p. 238)"
   ]
  },
  {
   "cell_type": "markdown",
   "metadata": {
    "collapsed": false
   },
   "source": [
    "<font color = \"blue\"> *** 2 points -  answer in cell below *** (don't delete this cell) </font>"
   ]
  },
  {
   "cell_type": "markdown",
   "metadata": {
    "collapsed": false
   },
   "source": [
    "<font color = \"green\">\n",
    "replace this text with answer, your answer should be green   \n",
    "</font>"
   ]
  }
 ],
 "metadata": {
  "kernelspec": {
   "display_name": "Python 3 (system-wide)",
   "language": "python",
   "metadata": {
    "cocalc": {
     "description": "Python 3 programming language",
     "priority": 100,
     "url": "https://www.python.org/"
    }
   },
   "name": "python3",
   "resource_dir": "/ext/jupyter/kernels/python3"
  },
  "language_info": {
   "codemirror_mode": {
    "name": "ipython",
    "version": 3
   },
   "file_extension": ".py",
   "mimetype": "text/x-python",
   "name": "python",
   "nbconvert_exporter": "python",
   "pygments_lexer": "ipython3",
   "version": "3.8.5"
  },
  "toc": {
   "base_numbering": 1,
   "nav_menu": {
   },
   "number_sections": true,
   "sideBar": true,
   "skip_h1_title": false,
   "title_cell": "Table of Contents",
   "title_sidebar": "Contents",
   "toc_cell": false,
   "toc_position": {
    "height": "calc(100% - 180px)",
    "left": "10px",
    "top": "150px",
    "width": "204.787px"
   },
   "toc_section_display": true,
   "toc_window_display": false
  },
  "varInspector": {
   "cols": {
    "lenName": 16,
    "lenType": 16,
    "lenVar": 40
   },
   "kernels_config": {
    "python": {
     "delete_cmd_postfix": "",
     "delete_cmd_prefix": "del ",
     "library": "var_list.py",
     "varRefreshCmd": "print(var_dic_list())"
    },
    "r": {
     "delete_cmd_postfix": ") ",
     "delete_cmd_prefix": "rm(",
     "library": "var_list.r",
     "varRefreshCmd": "cat(var_dic_list()) "
    }
   },
   "types_to_exclude": [
    "module",
    "function",
    "builtin_function_or_method",
    "instance",
    "_Feature"
   ],
   "window_display": false
  }
 },
 "nbformat": 4,
 "nbformat_minor": 4
}
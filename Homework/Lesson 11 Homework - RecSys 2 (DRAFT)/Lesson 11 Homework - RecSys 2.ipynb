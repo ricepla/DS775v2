{
 "cells": [
  {
   "cell_type": "code",
   "execution_count": 2,
   "metadata": {
    "code_folding": [
     0
    ],
    "collapsed": false
   },
   "outputs": [
   ],
   "source": [
    "# execute to import notebook styling for tables and width etc.\n",
    "from IPython.core.display import HTML\n",
    "import urllib.request\n",
    "response = urllib.request.urlopen('https://raw.githubusercontent.com/DataScienceUWL/DS775v2/master/ds755.css')\n",
    "HTML(response.read().decode(\"utf-8\"));"
   ]
  },
  {
   "cell_type": "markdown",
   "metadata": {
    "collapsed": false
   },
   "source": [
    "<font size=18>Homework 11: Recommender Systems 2</font>"
   ]
  },
  {
   "cell_type": "markdown",
   "metadata": {
    "collapsed": false
   },
   "source": [
    "# **HW11.1** - Build a Baseline Model and Compute the RMSE"
   ]
  },
  {
   "cell_type": "markdown",
   "metadata": {
    "collapsed": false
   },
   "source": [
    "The file **rating_final.csv** (found in the presentation download for this lesson) contains user ratings for overall, food, and service for various restaurants.   \n",
    "\n",
    "Do the following:\n",
    "\n",
    "* display the first 5 lines of the data (get familiar with the data frame)\n",
    "* For each row, make a a new combined rating by adding the rating, food_rating, and service_rating columns\n",
    "* find the minimum combined restaurant rating\n",
    "* find the maximum combined restaurant rating\n",
    "* adjust the rating scale by shifting up 1 if 0 is included\n",
    "* calculate the mean restaurant rating for all restaurant (just to get an idea)\n",
    "* drop the ratings for food and service so that only the overall combined rating remains (If you did this as an extra column, then drop rating, too. If you overwrote the rating column, then keep it. You should end up with a dataframe that just has userID, placeID, and rating)\n",
    "* split the data set so that 80\\% of a users ratings are in the training set and 20\\% are in the testing set\n",
    "* build a baseline model that assigns the appropriate rating (median of all data) for all predictions and compute the RMSE of these on the testing set\n",
    "* make sure that your score function and models are not using global variables. Pass in all data that you need using \\*args if need be\n",
    "\n",
    "Click <a href = https://www.kaggle.com/uciml/restaurant-data-with-consumer-ratings> here </a> or <a href = https://archive.ics.uci.edu/ml/datasets/Restaurant+%26+consumer+data> here </a> for more details about the data set."
   ]
  },
  {
   "cell_type": "markdown",
   "metadata": {
    "collapsed": false
   },
   "source": [
    "<font color = \"blue\"> *** 12 points -  answer in cells below *** (don't delete this cell) </font>"
   ]
  },
  {
   "cell_type": "code",
   "execution_count": 0,
   "metadata": {
    "collapsed": false
   },
   "outputs": [
   ],
   "source": [
    "# enter your code here"
   ]
  },
  {
   "cell_type": "markdown",
   "metadata": {
    "collapsed": false
   },
   "source": [
    "# **HW11.2** - Build a Weighted Mean User-Based Filter"
   ]
  },
  {
   "cell_type": "markdown",
   "metadata": {
    "collapsed": false
   },
   "source": [
    "From data in the file **rating_final.csv**, build a ratings matrix from the data frame of users, places, and restaurant ratings and build a user-based collaborative filtering model that weights mean rank using cosine similarity among users.  Fit the model on the training set and compute the RMSE for this model using the test set and compare it to the RMSE of the baseline model.  Is it better than baseline?  (*i.e.* is the RMSE smaller?)"
   ]
  },
  {
   "cell_type": "markdown",
   "metadata": {
    "collapsed": false
   },
   "source": [
    "<font color = \"blue\"> *** 12 points -  answer in cells below *** (don't delete this cell) </font>"
   ]
  },
  {
   "cell_type": "code",
   "execution_count": 0,
   "metadata": {
    "collapsed": false
   },
   "outputs": [
   ],
   "source": [
    "# enter your code here"
   ]
  },
  {
   "cell_type": "markdown",
   "metadata": {
    "collapsed": false
   },
   "source": [
    "# **HW11.3** - Build a kNN-Based Collaborative Filter"
   ]
  },
  {
   "cell_type": "markdown",
   "metadata": {
    "collapsed": false
   },
   "source": [
    "**Use a np.random seed of 1 for this problem.**\n",
    "\n",
    "From data in the file **rating_final.csv**, use the *surprise* library in Python to build an kNN-based collaborative filtering model for the restaurant ratings.  Use five-fold cross-validation to train the model on the entire dataset using the following values for k:\n",
    "\n",
    "nums = [3, 5, 7, 9, 11, 13, 15, 17, 19, 21, 23, 25, 27, 29, 31, 33, 35, 37]\n",
    "\n",
    "Use matplotlib and seaborn to plot the results of the various k values. (Review Banik's Chapter 5 if this is unfamiliar.)\n",
    "\n",
    "Which value of k should you use for the kNN-Based Collaborative Filter?\n",
    "\n"
   ]
  },
  {
   "cell_type": "markdown",
   "metadata": {
    "collapsed": false
   },
   "source": [
    "<font color = \"blue\"> *** 12 points -  answer in cells below *** (don't delete this cell) </font>"
   ]
  },
  {
   "cell_type": "code",
   "execution_count": 0,
   "metadata": {
    "collapsed": false
   },
   "outputs": [
   ],
   "source": [
    "# enter your code here"
   ]
  },
  {
   "cell_type": "markdown",
   "metadata": {
    "collapsed": false
   },
   "source": [
    "# **HW11.4** - Build a Hybrid Filter"
   ]
  },
  {
   "cell_type": "markdown",
   "metadata": {
    "collapsed": false
   },
   "source": [
    "From ratings data you have already loaded (including the merging of ratings and adjustments for zero-base) and **geoplaces2.csv** build a recommender system that is a hybrid of a metadata content-based recommender and a predictive collaborative filter.  Your recommender should do the following:\n",
    "\n",
    "\n",
    "**SETUP**\n",
    "* Retrain the KNN filter using the k-value you found in the previous question.\n",
    "* Train an SVD filter using the same data set you used for the KNN filter.\n",
    "\n",
    "* Create a function that takes in a user ID, restaurant name and any other required data as user input (follow the lesson examples and avoid using global variables).\n",
    "* Use a metadata content-based model to compute the 25 most similar restaurants based on cosine similarity from the following details (create a soup as done for the content-based recommender from Lesson 10)\n",
    "    - price\n",
    "    - dress code\n",
    "    - accessibility\n",
    "    - ambiance\n",
    "    - alcohol\n",
    "    - smoking area\n",
    "* Compute the predicted ratings that the user might give to these 25 restaurants using the passed-in predictive model.\n",
    "* Have your function return the top 10 restaurant recommendations including price, dress code, accessibility, ambiance, alcohol, and smoking area and predicted rating.\n",
    "\n",
    "\n",
    "**Running the code**\n",
    "\n",
    "Call your function the following ways:\n",
    "* user **U1077**, restaurant named **cafe ambar**, using the SVD predictor and the KNN predictor.\n",
    "* user **U1065**, restaurant named **cafe ambar**,  using the SVD predictor and the KNN predictor.\n",
    "\n",
    "(You will call your function 4 times and output 4 dataframes.)\n",
    "\n",
    "Comment on the similarities and differences in the resulting recommendations. \n",
    "\n",
    "**Use a np.random seed of 1 for this problem.**\n",
    "\n",
    "*Note 1: This data set does not have the issue of having two different ID's in separate files for each restaurant like the movie data used in the textbook example, so you won't need to use the cell for mapping ID's to titles.*\n",
    "\n",
    "*Note 2: because of the small number of words in the \"soup\", many of the restaurant pairs have a cosine similarity of 1, which will affect the predicted ratings and recommendations. Make sure you use the demonstrated method of using del to remove the restaurant's own cosine score instead of relying on it being the first item in the sorted array.* "
   ]
  },
  {
   "cell_type": "markdown",
   "metadata": {
    "collapsed": false
   },
   "source": [
    "<font color = \"blue\"> *** 14 points -  answer in cells below *** (don't delete this cell) </font>"
   ]
  },
  {
   "cell_type": "code",
   "execution_count": 0,
   "metadata": {
    "collapsed": false
   },
   "outputs": [
   ],
   "source": [
    "# enter your code here"
   ]
  }
 ],
 "metadata": {
  "kernelspec": {
   "display_name": "Python 3 (system-wide)",
   "language": "python",
   "metadata": {
    "cocalc": {
     "description": "Python 3 programming language",
     "priority": 100,
     "url": "https://www.python.org/"
    }
   },
   "name": "python3",
   "resource_dir": "/ext/jupyter/kernels/python3"
  },
  "language_info": {
   "codemirror_mode": {
    "name": "ipython",
    "version": 3
   },
   "file_extension": ".py",
   "mimetype": "text/x-python",
   "name": "python",
   "nbconvert_exporter": "python",
   "pygments_lexer": "ipython3",
   "version": "3.8.5"
  },
  "toc": {
   "base_numbering": 1,
   "nav_menu": {
   },
   "number_sections": true,
   "sideBar": true,
   "skip_h1_title": false,
   "title_cell": "Table of Contents",
   "title_sidebar": "Contents",
   "toc_cell": false,
   "toc_position": {
    "height": "calc(100% - 180px)",
    "left": "10px",
    "top": "150px",
    "width": "234.363px"
   },
   "toc_section_display": true,
   "toc_window_display": true
  },
  "varInspector": {
   "cols": {
    "lenName": 16,
    "lenType": 16,
    "lenVar": 40
   },
   "kernels_config": {
    "python": {
     "delete_cmd_postfix": "",
     "delete_cmd_prefix": "del ",
     "library": "var_list.py",
     "varRefreshCmd": "print(var_dic_list())"
    },
    "r": {
     "delete_cmd_postfix": ") ",
     "delete_cmd_prefix": "rm(",
     "library": "var_list.r",
     "varRefreshCmd": "cat(var_dic_list()) "
    }
   },
   "types_to_exclude": [
    "module",
    "function",
    "builtin_function_or_method",
    "instance",
    "_Feature"
   ],
   "window_display": false
  }
 },
 "nbformat": 4,
 "nbformat_minor": 4
}